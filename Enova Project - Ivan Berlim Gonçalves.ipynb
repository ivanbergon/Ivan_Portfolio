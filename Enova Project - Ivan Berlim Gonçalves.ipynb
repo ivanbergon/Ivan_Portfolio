{
 "cells": [
  {
   "cell_type": "markdown",
   "id": "0bd5a392",
   "metadata": {},
   "source": [
    "# Ivan Berlim Gonçalves\n",
    "\n",
    "## Project Summary\n",
    "\n",
    "First, we present the exploratory analysis of our data. In the second stage, we develop a linear regression model to predict diamond prices and assess its accuracy. In the third stage, we expand our predictive modeling to predict the Difference between the Price and the Retail. Next, the final offer is made using only **\\$235646.05 of the total budget**. The **expected profit is \\$71197.62**. This choice was made to not include offers that could induce loss to the business. Of course, I could have used all the budget, risking some higher profit.\n",
    "\n",
    "The model chosen was the Ridge Regression with **accuracy of 97,76% on the `Price` prediction and **61.13% on the `Difference` prediction**. I chose backward elimination to tune the parameters, which ended up being useful only in the first model, adding 0,06% in model accuracy.\n",
    "\n",
    "Along with the project, I answered the following questions, but I'll summarize them now:\n",
    "\n",
    "1. Do you think that any of the vendors are over or undercharging for diamonds compared to the other vendors? Do you think they are selling the same kind of diamonds? How did you come to this conclusion?\n",
    "\n",
    "Yes, definitely there are some under and overcharging for the diamonds. The boxplot on vendors vs price, and plotting the price distribution vs the retail distribution were hints of this situation, but the certainty came when I calculated the difference between the price and retail columns.\n",
    "\n",
    "2. What is the relationship between Carat and Retail Price? Why do you think the relationship takes this form?\n",
    "\n",
    "They are highly correlated with a 0,78 ratio according to the correlation matrix. This relation is due to the straight relation between Carat and Diamond Price, with is directly related to the Retail price.\n",
    "\n",
    "## Business Problem\n",
    "\n",
    "Diamonds are a very unique consumer product. It is considered the hardest gem, that is 58 times harder than anything else on Earth [2], few people use diamonds for this utility. While the perceived value of a diamond may be affected by the price paid [3], diamonds also have well-defined physical properties: weight, cut and color among them.\n",
    "\n",
    "* The goal of our project is to explore the relationship between the physical and social properties of diamonds and diamond prices to understand the degree to which diamond prices are determined. Then we'll understand relation between the diamonds retails price and the variables to predict diamond prices and retail prices. Finally we'll make an offer to maximaze the profit when buying a diamond.\n",
    "\n",
    "Price dispersion - the variation in price for the same product across different retail channels arises due to the information asymmetry and imperfect consumer information. When consumers are differentially informed, firms can charge consumers different prices [4].\n",
    "\n",
    "The most well-known attributes pertaining to diamonds are the 4Cs introduced by the Gemological Institute of America (GIA) in the 1950s - Cut, Carat, Color and Clarity. The 4Cs describe the unique qualities of each diamond and greatly influence diamond prices. Three of the 4Cs have a long history: carat weight, color, and clarity were used in the first diamond grading system created in India over 2,000 years ago [5].\n",
    "\n",
    "* The cut refers to a diamond’s proportions and determines how well it reflects light. The cut scale ranges from poor to excellent. The cut of a diamond has additional three attributes: brilliance, or the amount of light reflected from a diamond; fire, or the dispersion of light into the colors of the spectrum; and scintillation, the flashes of sparkle when a diamond is moved around [6].\n",
    "\n",
    "* Carat is a standard unit of weight and corresponds to a diamond’s size. One carat equals 0.2 grams. The name carat comes from the carob seed. Back in the day, traders started using carob seeds because of their fairly uniform weight to counterweight their balance scales. Only one in 1,000 diamonds weighs more than one carat. [5].\n",
    "\n",
    "* The color ranges from D for colorless to Z for a diamond with a hint of yellow or brown. Colorless diamonds have more sparkle and brilliance, thus diamonds graded D through F are considered superior and more expensive. Most color distinctions are subtle and almost unnoticeable to a human eye, but can greatly affect the price of a diamond. The clarity corresponds to the lack of inclusions or natural flaws that a diamond has. Highly praised diamonds are flawless, and contain no inclusions or blemishes. The GIA Clarity Scale contains 11 grades from Flawless to Included. The majority of diamonds fall into categories of very slightly included (VS) or slightly included (SI) [6].\n",
    "\n",
    "* Another important attribute of a diamond is its shape. There are about ten popular shapes of the diamonds. A round shape is the most prevalent shape as it is considered to be the shape that reflects light exceptionally well. Other popular shapes, sometimes called fancy shapes, are princess, cushion, pear, radiant, marquis, asscher, oval, heart, and emerald.\n",
    "\n",
    "In addition to 4Cs and the shape, there are many other attributes of diamonds such as polish, depth, table, symmetry, fluorescence and, of course, price that ranges from a few hundred to tens of millions of dollars. Prior research on the effects of diamond characteristics on price suggests that the diamond weight is the key factor affecting price [7] and that the degree of price dispersion increases with the diamond weight [8].\n",
    "\n",
    "According to the International Gem Society, out of 4Cs, the cut is the most important attribute of a diamond, followed by color, clarity, and the least important carat [9].\n",
    "\n"
   ]
  },
  {
   "cell_type": "markdown",
   "id": "ed54ae4d",
   "metadata": {},
   "source": [
    "## Exploratory Analysis\n",
    "\n",
    "Importing Libraries"
   ]
  },
  {
   "cell_type": "code",
   "execution_count": 1,
   "id": "d9db3c2b",
   "metadata": {},
   "outputs": [],
   "source": [
    "import warnings\n",
    "warnings.filterwarnings('ignore')\n",
    "import pandas as pd\n",
    "import numpy as np\n",
    "import matplotlib\n",
    "import matplotlib.pyplot as plt\n",
    "%matplotlib inline\n",
    "import seaborn as sns\n",
    "import regex as re\n",
    "import statsmodels.api as sm"
   ]
  },
  {
   "cell_type": "markdown",
   "id": "8224ae5f",
   "metadata": {},
   "source": [
    "Reading the .csv files"
   ]
  },
  {
   "cell_type": "code",
   "execution_count": 2,
   "id": "396f65ac",
   "metadata": {
    "scrolled": false
   },
   "outputs": [
    {
     "name": "stdout",
     "output_type": "stream",
     "text": [
      "Shape of offers_df: (2683, 17)\n",
      "Shape of training_df: (8050, 20)\n"
     ]
    }
   ],
   "source": [
    "offers_df=pd.read_csv('offers.csv')\n",
    "print('Shape of offers_df:', offers_df.shape)\n",
    "\n",
    "training_df = pd.read_csv('training.csv')\n",
    "print('Shape of training_df:', training_df.shape)"
   ]
  },
  {
   "cell_type": "markdown",
   "id": "5c1f127a",
   "metadata": {},
   "source": [
    "### Exploring `offers_df`"
   ]
  },
  {
   "cell_type": "markdown",
   "id": "9ebcc4ed",
   "metadata": {},
   "source": [
    "Name of the columns"
   ]
  },
  {
   "cell_type": "code",
   "execution_count": 3,
   "id": "731665b0",
   "metadata": {},
   "outputs": [
    {
     "data": {
      "text/html": [
       "<div>\n",
       "<style scoped>\n",
       "    .dataframe tbody tr th:only-of-type {\n",
       "        vertical-align: middle;\n",
       "    }\n",
       "\n",
       "    .dataframe tbody tr th {\n",
       "        vertical-align: top;\n",
       "    }\n",
       "\n",
       "    .dataframe thead th {\n",
       "        text-align: right;\n",
       "    }\n",
       "</style>\n",
       "<table border=\"1\" class=\"dataframe\">\n",
       "  <thead>\n",
       "    <tr style=\"text-align: right;\">\n",
       "      <th></th>\n",
       "      <th>id</th>\n",
       "      <th>Carats</th>\n",
       "      <th>Cert</th>\n",
       "      <th>Clarity</th>\n",
       "      <th>Color</th>\n",
       "      <th>Cut</th>\n",
       "      <th>Depth</th>\n",
       "      <th>Fluroescence</th>\n",
       "      <th>Known_Conflict_Diamond</th>\n",
       "      <th>Measurements</th>\n",
       "      <th>Polish</th>\n",
       "      <th>Regions</th>\n",
       "      <th>Shape</th>\n",
       "      <th>Symmetry</th>\n",
       "      <th>Table</th>\n",
       "      <th>Vendor</th>\n",
       "      <th>Offers</th>\n",
       "    </tr>\n",
       "  </thead>\n",
       "  <tbody>\n",
       "    <tr>\n",
       "      <th>0</th>\n",
       "      <td>8051</td>\n",
       "      <td>0.42</td>\n",
       "      <td>AGSL</td>\n",
       "      <td>SI2</td>\n",
       "      <td>L</td>\n",
       "      <td></td>\n",
       "      <td>62.7</td>\n",
       "      <td>None</td>\n",
       "      <td>NaN</td>\n",
       "      <td>4.81x4.78x3.01</td>\n",
       "      <td>Excellent</td>\n",
       "      <td>Australia</td>\n",
       "      <td>Round</td>\n",
       "      <td>Excellent</td>\n",
       "      <td>57.0</td>\n",
       "      <td>1</td>\n",
       "      <td>NaN</td>\n",
       "    </tr>\n",
       "    <tr>\n",
       "      <th>1</th>\n",
       "      <td>8052</td>\n",
       "      <td>0.40</td>\n",
       "      <td>GemEx</td>\n",
       "      <td>VS2</td>\n",
       "      <td>M</td>\n",
       "      <td></td>\n",
       "      <td>63.8</td>\n",
       "      <td>None</td>\n",
       "      <td>NaN</td>\n",
       "      <td>4.64x4.61x2.95</td>\n",
       "      <td>Excellent</td>\n",
       "      <td>Australia</td>\n",
       "      <td>Round</td>\n",
       "      <td>Excellent</td>\n",
       "      <td>59.0</td>\n",
       "      <td>1</td>\n",
       "      <td>NaN</td>\n",
       "    </tr>\n",
       "    <tr>\n",
       "      <th>2</th>\n",
       "      <td>8053</td>\n",
       "      <td>0.41</td>\n",
       "      <td>AGSL</td>\n",
       "      <td>SI2</td>\n",
       "      <td>L</td>\n",
       "      <td></td>\n",
       "      <td>62.2</td>\n",
       "      <td>None</td>\n",
       "      <td>True</td>\n",
       "      <td>4.76x4.74x2.95</td>\n",
       "      <td>Excellent</td>\n",
       "      <td>DR Congo</td>\n",
       "      <td>Round</td>\n",
       "      <td>Very good</td>\n",
       "      <td>58.0</td>\n",
       "      <td>1</td>\n",
       "      <td>NaN</td>\n",
       "    </tr>\n",
       "    <tr>\n",
       "      <th>3</th>\n",
       "      <td>8054</td>\n",
       "      <td>0.40</td>\n",
       "      <td>AGSL</td>\n",
       "      <td>SI1</td>\n",
       "      <td>K</td>\n",
       "      <td></td>\n",
       "      <td>64.2</td>\n",
       "      <td>Strong Bl..</td>\n",
       "      <td>False</td>\n",
       "      <td>4.63x4.59x2.96</td>\n",
       "      <td>Very good</td>\n",
       "      <td>Angola</td>\n",
       "      <td>Emerald</td>\n",
       "      <td>Very good</td>\n",
       "      <td>58.0</td>\n",
       "      <td>1</td>\n",
       "      <td>NaN</td>\n",
       "    </tr>\n",
       "    <tr>\n",
       "      <th>4</th>\n",
       "      <td>8055</td>\n",
       "      <td>0.40</td>\n",
       "      <td>AGSL</td>\n",
       "      <td>VS2</td>\n",
       "      <td>L</td>\n",
       "      <td></td>\n",
       "      <td>64.3</td>\n",
       "      <td>NaN</td>\n",
       "      <td>False</td>\n",
       "      <td>4.67x4.62x2.99</td>\n",
       "      <td>Excellent</td>\n",
       "      <td>Russia</td>\n",
       "      <td>Round</td>\n",
       "      <td>Very good</td>\n",
       "      <td>NaN</td>\n",
       "      <td>1</td>\n",
       "      <td>NaN</td>\n",
       "    </tr>\n",
       "  </tbody>\n",
       "</table>\n",
       "</div>"
      ],
      "text/plain": [
       "     id  Carats   Cert Clarity Color Cut  Depth Fluroescence  \\\n",
       "0  8051    0.42   AGSL     SI2     L       62.7         None   \n",
       "1  8052    0.40  GemEx     VS2     M       63.8         None   \n",
       "2  8053    0.41   AGSL     SI2     L       62.2         None   \n",
       "3  8054    0.40   AGSL     SI1     K       64.2  Strong Bl..   \n",
       "4  8055    0.40   AGSL     VS2     L       64.3          NaN   \n",
       "\n",
       "  Known_Conflict_Diamond    Measurements     Polish    Regions    Shape  \\\n",
       "0                    NaN  4.81x4.78x3.01  Excellent  Australia    Round   \n",
       "1                    NaN  4.64x4.61x2.95  Excellent  Australia    Round   \n",
       "2                   True  4.76x4.74x2.95  Excellent   DR Congo    Round   \n",
       "3                  False  4.63x4.59x2.96  Very good     Angola  Emerald   \n",
       "4                  False  4.67x4.62x2.99  Excellent     Russia    Round   \n",
       "\n",
       "    Symmetry  Table  Vendor  Offers  \n",
       "0  Excellent   57.0       1     NaN  \n",
       "1  Excellent   59.0       1     NaN  \n",
       "2  Very good   58.0       1     NaN  \n",
       "3  Very good   58.0       1     NaN  \n",
       "4  Very good    NaN       1     NaN  "
      ]
     },
     "execution_count": 3,
     "metadata": {},
     "output_type": "execute_result"
    }
   ],
   "source": [
    "offers_df.head()"
   ]
  },
  {
   "cell_type": "code",
   "execution_count": 4,
   "id": "1e095d66",
   "metadata": {},
   "outputs": [
    {
     "data": {
      "text/plain": [
       "Index(['id', 'Carats', 'Cert', 'Clarity', 'Color', 'Cut', 'Depth',\n",
       "       'Fluroescence', 'Known_Conflict_Diamond', 'Measurements', 'Polish',\n",
       "       'Regions', 'Shape', 'Symmetry', 'Table', 'Vendor', 'Offers'],\n",
       "      dtype='object')"
      ]
     },
     "execution_count": 4,
     "metadata": {},
     "output_type": "execute_result"
    }
   ],
   "source": [
    "offers_df.columns"
   ]
  },
  {
   "cell_type": "markdown",
   "id": "bfb8da7b",
   "metadata": {},
   "source": [
    "Checking if there are any null values in the data"
   ]
  },
  {
   "cell_type": "code",
   "execution_count": 5,
   "id": "1337a8c6",
   "metadata": {},
   "outputs": [
    {
     "data": {
      "text/plain": [
       "id                           0\n",
       "Carats                       0\n",
       "Cert                       213\n",
       "Clarity                      0\n",
       "Color                        0\n",
       "Cut                          0\n",
       "Depth                      497\n",
       "Fluroescence               409\n",
       "Known_Conflict_Diamond    2378\n",
       "Measurements                 0\n",
       "Polish                       0\n",
       "Regions                      0\n",
       "Shape                        0\n",
       "Symmetry                     0\n",
       "Table                      856\n",
       "Vendor                       0\n",
       "Offers                    2683\n",
       "dtype: int64"
      ]
     },
     "execution_count": 5,
     "metadata": {},
     "output_type": "execute_result"
    }
   ],
   "source": [
    "offers_df.isnull().sum()"
   ]
  },
  {
   "cell_type": "markdown",
   "id": "297370f7",
   "metadata": {},
   "source": [
    "A lot of null values, especially at the Known_Conflict_Diamond column. Cannot drop those rows.\n",
    "\n",
    "Checking if there are any duplicated values"
   ]
  },
  {
   "cell_type": "code",
   "execution_count": 6,
   "id": "6607e3cf",
   "metadata": {},
   "outputs": [
    {
     "name": "stdout",
     "output_type": "stream",
     "text": [
      "Shape After deleting duplicate values: (2683, 17)\n"
     ]
    }
   ],
   "source": [
    "\n",
    "offers_df=offers_df.drop_duplicates()\n",
    "print('Shape After deleting duplicate values:', offers_df.shape)"
   ]
  },
  {
   "cell_type": "markdown",
   "id": "010114fb",
   "metadata": {},
   "source": [
    "Let's see some more information and basic statistic values"
   ]
  },
  {
   "cell_type": "code",
   "execution_count": 7,
   "id": "ea388fe5",
   "metadata": {
    "scrolled": false
   },
   "outputs": [
    {
     "name": "stdout",
     "output_type": "stream",
     "text": [
      "<class 'pandas.core.frame.DataFrame'>\n",
      "Int64Index: 2683 entries, 0 to 2682\n",
      "Data columns (total 17 columns):\n",
      " #   Column                  Non-Null Count  Dtype  \n",
      "---  ------                  --------------  -----  \n",
      " 0   id                      2683 non-null   int64  \n",
      " 1   Carats                  2683 non-null   float64\n",
      " 2   Cert                    2470 non-null   object \n",
      " 3   Clarity                 2683 non-null   object \n",
      " 4   Color                   2683 non-null   object \n",
      " 5   Cut                     2683 non-null   object \n",
      " 6   Depth                   2186 non-null   float64\n",
      " 7   Fluroescence            2274 non-null   object \n",
      " 8   Known_Conflict_Diamond  305 non-null    object \n",
      " 9   Measurements            2683 non-null   object \n",
      " 10  Polish                  2683 non-null   object \n",
      " 11  Regions                 2683 non-null   object \n",
      " 12  Shape                   2683 non-null   object \n",
      " 13  Symmetry                2683 non-null   object \n",
      " 14  Table                   1827 non-null   float64\n",
      " 15  Vendor                  2683 non-null   int64  \n",
      " 16  Offers                  0 non-null      float64\n",
      "dtypes: float64(4), int64(2), object(11)\n",
      "memory usage: 377.3+ KB\n"
     ]
    }
   ],
   "source": [
    "offers_df.info()"
   ]
  },
  {
   "cell_type": "code",
   "execution_count": 8,
   "id": "f8b3ac64",
   "metadata": {
    "scrolled": true
   },
   "outputs": [
    {
     "data": {
      "text/html": [
       "<div>\n",
       "<style scoped>\n",
       "    .dataframe tbody tr th:only-of-type {\n",
       "        vertical-align: middle;\n",
       "    }\n",
       "\n",
       "    .dataframe tbody tr th {\n",
       "        vertical-align: top;\n",
       "    }\n",
       "\n",
       "    .dataframe thead th {\n",
       "        text-align: right;\n",
       "    }\n",
       "</style>\n",
       "<table border=\"1\" class=\"dataframe\">\n",
       "  <thead>\n",
       "    <tr style=\"text-align: right;\">\n",
       "      <th></th>\n",
       "      <th>id</th>\n",
       "      <th>Carats</th>\n",
       "      <th>Depth</th>\n",
       "      <th>Table</th>\n",
       "      <th>Vendor</th>\n",
       "      <th>Offers</th>\n",
       "    </tr>\n",
       "  </thead>\n",
       "  <tbody>\n",
       "    <tr>\n",
       "      <th>count</th>\n",
       "      <td>2683.00000</td>\n",
       "      <td>2683.000000</td>\n",
       "      <td>2186.000000</td>\n",
       "      <td>1827.000000</td>\n",
       "      <td>2683.000000</td>\n",
       "      <td>0.0</td>\n",
       "    </tr>\n",
       "    <tr>\n",
       "      <th>mean</th>\n",
       "      <td>9392.00000</td>\n",
       "      <td>1.264845</td>\n",
       "      <td>61.781656</td>\n",
       "      <td>58.104324</td>\n",
       "      <td>2.045099</td>\n",
       "      <td>NaN</td>\n",
       "    </tr>\n",
       "    <tr>\n",
       "      <th>std</th>\n",
       "      <td>774.65971</td>\n",
       "      <td>0.893580</td>\n",
       "      <td>1.389693</td>\n",
       "      <td>2.081220</td>\n",
       "      <td>0.984886</td>\n",
       "      <td>NaN</td>\n",
       "    </tr>\n",
       "    <tr>\n",
       "      <th>min</th>\n",
       "      <td>8051.00000</td>\n",
       "      <td>0.400000</td>\n",
       "      <td>56.000000</td>\n",
       "      <td>43.000000</td>\n",
       "      <td>1.000000</td>\n",
       "      <td>NaN</td>\n",
       "    </tr>\n",
       "    <tr>\n",
       "      <th>25%</th>\n",
       "      <td>8721.50000</td>\n",
       "      <td>0.700000</td>\n",
       "      <td>60.925000</td>\n",
       "      <td>57.000000</td>\n",
       "      <td>1.000000</td>\n",
       "      <td>NaN</td>\n",
       "    </tr>\n",
       "    <tr>\n",
       "      <th>50%</th>\n",
       "      <td>9392.00000</td>\n",
       "      <td>1.050000</td>\n",
       "      <td>62.000000</td>\n",
       "      <td>58.000000</td>\n",
       "      <td>2.000000</td>\n",
       "      <td>NaN</td>\n",
       "    </tr>\n",
       "    <tr>\n",
       "      <th>75%</th>\n",
       "      <td>10062.50000</td>\n",
       "      <td>1.505000</td>\n",
       "      <td>62.600000</td>\n",
       "      <td>59.000000</td>\n",
       "      <td>3.000000</td>\n",
       "      <td>NaN</td>\n",
       "    </tr>\n",
       "    <tr>\n",
       "      <th>max</th>\n",
       "      <td>10733.00000</td>\n",
       "      <td>10.050000</td>\n",
       "      <td>67.300000</td>\n",
       "      <td>70.000000</td>\n",
       "      <td>4.000000</td>\n",
       "      <td>NaN</td>\n",
       "    </tr>\n",
       "  </tbody>\n",
       "</table>\n",
       "</div>"
      ],
      "text/plain": [
       "                id       Carats        Depth        Table       Vendor  Offers\n",
       "count   2683.00000  2683.000000  2186.000000  1827.000000  2683.000000     0.0\n",
       "mean    9392.00000     1.264845    61.781656    58.104324     2.045099     NaN\n",
       "std      774.65971     0.893580     1.389693     2.081220     0.984886     NaN\n",
       "min     8051.00000     0.400000    56.000000    43.000000     1.000000     NaN\n",
       "25%     8721.50000     0.700000    60.925000    57.000000     1.000000     NaN\n",
       "50%     9392.00000     1.050000    62.000000    58.000000     2.000000     NaN\n",
       "75%    10062.50000     1.505000    62.600000    59.000000     3.000000     NaN\n",
       "max    10733.00000    10.050000    67.300000    70.000000     4.000000     NaN"
      ]
     },
     "execution_count": 8,
     "metadata": {},
     "output_type": "execute_result"
    }
   ],
   "source": [
    "offers_df.describe()"
   ]
  },
  {
   "cell_type": "markdown",
   "id": "acd72659",
   "metadata": {},
   "source": [
    "Some of the variables are wrongly classified. Vendors should be categorical, Price and Retail should be numeric"
   ]
  },
  {
   "cell_type": "code",
   "execution_count": 9,
   "id": "dd2168b0",
   "metadata": {},
   "outputs": [
    {
     "data": {
      "text/plain": [
       "id                        2683\n",
       "Carats                     280\n",
       "Cert                         2\n",
       "Clarity                     10\n",
       "Color                       15\n",
       "Cut                          6\n",
       "Depth                       95\n",
       "Fluroescence                11\n",
       "Known_Conflict_Diamond       2\n",
       "Measurements              2634\n",
       "Polish                       5\n",
       "Regions                      9\n",
       "Shape                       14\n",
       "Symmetry                     6\n",
       "Table                       19\n",
       "Vendor                       4\n",
       "Offers                       0\n",
       "dtype: int64"
      ]
     },
     "execution_count": 9,
     "metadata": {},
     "output_type": "execute_result"
    }
   ],
   "source": [
    "offers_df.nunique()"
   ]
  },
  {
   "cell_type": "markdown",
   "id": "31a3d7d6",
   "metadata": {},
   "source": [
    "### Exploring `training_df`\n",
    "\n",
    "I'll to the same exploration to this dataset"
   ]
  },
  {
   "cell_type": "code",
   "execution_count": 10,
   "id": "5567cf96",
   "metadata": {},
   "outputs": [
    {
     "data": {
      "text/html": [
       "<div>\n",
       "<style scoped>\n",
       "    .dataframe tbody tr th:only-of-type {\n",
       "        vertical-align: middle;\n",
       "    }\n",
       "\n",
       "    .dataframe tbody tr th {\n",
       "        vertical-align: top;\n",
       "    }\n",
       "\n",
       "    .dataframe thead th {\n",
       "        text-align: right;\n",
       "    }\n",
       "</style>\n",
       "<table border=\"1\" class=\"dataframe\">\n",
       "  <thead>\n",
       "    <tr style=\"text-align: right;\">\n",
       "      <th></th>\n",
       "      <th>id</th>\n",
       "      <th>Carats</th>\n",
       "      <th>Cert</th>\n",
       "      <th>Clarity</th>\n",
       "      <th>Color</th>\n",
       "      <th>Cut</th>\n",
       "      <th>Depth</th>\n",
       "      <th>Fluroescence</th>\n",
       "      <th>Known_Conflict_Diamond</th>\n",
       "      <th>Measurements</th>\n",
       "      <th>Polish</th>\n",
       "      <th>Regions</th>\n",
       "      <th>Shape</th>\n",
       "      <th>Symmetry</th>\n",
       "      <th>Table</th>\n",
       "      <th>Vendor</th>\n",
       "      <th>Price</th>\n",
       "      <th>Retail</th>\n",
       "      <th>LogPrice</th>\n",
       "      <th>LogRetail</th>\n",
       "    </tr>\n",
       "  </thead>\n",
       "  <tbody>\n",
       "    <tr>\n",
       "      <th>0</th>\n",
       "      <td>1</td>\n",
       "      <td>0.41</td>\n",
       "      <td>NaN</td>\n",
       "      <td>SI1</td>\n",
       "      <td>L</td>\n",
       "      <td></td>\n",
       "      <td>65.4</td>\n",
       "      <td>None</td>\n",
       "      <td>False</td>\n",
       "      <td>4.65x4.62x3.03</td>\n",
       "      <td>Very good</td>\n",
       "      <td>Other/Unknown</td>\n",
       "      <td>Princess</td>\n",
       "      <td>Good</td>\n",
       "      <td>NaN</td>\n",
       "      <td>1</td>\n",
       "      <td>$ 430</td>\n",
       "      <td>$ 850</td>\n",
       "      <td>6.063785</td>\n",
       "      <td>6.745236</td>\n",
       "    </tr>\n",
       "    <tr>\n",
       "      <th>1</th>\n",
       "      <td>2</td>\n",
       "      <td>0.42</td>\n",
       "      <td>AGSL</td>\n",
       "      <td>SI2</td>\n",
       "      <td>L</td>\n",
       "      <td></td>\n",
       "      <td>61.7</td>\n",
       "      <td>Strong Bl..</td>\n",
       "      <td>False</td>\n",
       "      <td>4.85x4.79x2.98</td>\n",
       "      <td>Excellent</td>\n",
       "      <td>Russia</td>\n",
       "      <td>Marquise</td>\n",
       "      <td>Very good</td>\n",
       "      <td>NaN</td>\n",
       "      <td>1</td>\n",
       "      <td>$ 560</td>\n",
       "      <td>$ 920</td>\n",
       "      <td>6.327937</td>\n",
       "      <td>6.824374</td>\n",
       "    </tr>\n",
       "    <tr>\n",
       "      <th>2</th>\n",
       "      <td>3</td>\n",
       "      <td>0.40</td>\n",
       "      <td>AGSL</td>\n",
       "      <td>SI1</td>\n",
       "      <td>L</td>\n",
       "      <td></td>\n",
       "      <td>64.0</td>\n",
       "      <td>None</td>\n",
       "      <td>False</td>\n",
       "      <td>4.66x4.63x2.97</td>\n",
       "      <td>Excellent</td>\n",
       "      <td>South Africa</td>\n",
       "      <td>Round</td>\n",
       "      <td>Excellent</td>\n",
       "      <td>57.0</td>\n",
       "      <td>1</td>\n",
       "      <td>$ 560</td>\n",
       "      <td>$ 575</td>\n",
       "      <td>6.327937</td>\n",
       "      <td>6.354370</td>\n",
       "    </tr>\n",
       "    <tr>\n",
       "      <th>3</th>\n",
       "      <td>4</td>\n",
       "      <td>0.41</td>\n",
       "      <td>AGSL</td>\n",
       "      <td>SI2</td>\n",
       "      <td>L</td>\n",
       "      <td></td>\n",
       "      <td>62.7</td>\n",
       "      <td>Strong Bl..</td>\n",
       "      <td>False</td>\n",
       "      <td>4.71x4.69x2.95</td>\n",
       "      <td>Very good</td>\n",
       "      <td>Botswana</td>\n",
       "      <td>Round</td>\n",
       "      <td>Very good</td>\n",
       "      <td>58.0</td>\n",
       "      <td>1</td>\n",
       "      <td>$ 560</td>\n",
       "      <td>$ 825</td>\n",
       "      <td>6.327937</td>\n",
       "      <td>6.715383</td>\n",
       "    </tr>\n",
       "    <tr>\n",
       "      <th>4</th>\n",
       "      <td>5</td>\n",
       "      <td>0.40</td>\n",
       "      <td>AGSL</td>\n",
       "      <td>SI1</td>\n",
       "      <td>L</td>\n",
       "      <td></td>\n",
       "      <td>63.0</td>\n",
       "      <td>NaN</td>\n",
       "      <td>False</td>\n",
       "      <td>4.71x4.68x2.96</td>\n",
       "      <td>Excellent</td>\n",
       "      <td>Botswana</td>\n",
       "      <td>Round</td>\n",
       "      <td>Very good</td>\n",
       "      <td>58.0</td>\n",
       "      <td>1</td>\n",
       "      <td>$ 580</td>\n",
       "      <td>$ 890</td>\n",
       "      <td>6.363028</td>\n",
       "      <td>6.791221</td>\n",
       "    </tr>\n",
       "  </tbody>\n",
       "</table>\n",
       "</div>"
      ],
      "text/plain": [
       "   id  Carats  Cert Clarity Color Cut  Depth Fluroescence  \\\n",
       "0   1    0.41   NaN     SI1     L       65.4         None   \n",
       "1   2    0.42  AGSL     SI2     L       61.7  Strong Bl..   \n",
       "2   3    0.40  AGSL     SI1     L       64.0         None   \n",
       "3   4    0.41  AGSL     SI2     L       62.7  Strong Bl..   \n",
       "4   5    0.40  AGSL     SI1     L       63.0          NaN   \n",
       "\n",
       "   Known_Conflict_Diamond    Measurements     Polish        Regions     Shape  \\\n",
       "0                   False  4.65x4.62x3.03  Very good  Other/Unknown  Princess   \n",
       "1                   False  4.85x4.79x2.98  Excellent         Russia  Marquise   \n",
       "2                   False  4.66x4.63x2.97  Excellent   South Africa     Round   \n",
       "3                   False  4.71x4.69x2.95  Very good       Botswana     Round   \n",
       "4                   False  4.71x4.68x2.96  Excellent       Botswana     Round   \n",
       "\n",
       "    Symmetry  Table  Vendor  Price Retail  LogPrice  LogRetail  \n",
       "0       Good    NaN       1  $ 430  $ 850  6.063785   6.745236  \n",
       "1  Very good    NaN       1  $ 560  $ 920  6.327937   6.824374  \n",
       "2  Excellent   57.0       1  $ 560  $ 575  6.327937   6.354370  \n",
       "3  Very good   58.0       1  $ 560  $ 825  6.327937   6.715383  \n",
       "4  Very good   58.0       1  $ 580  $ 890  6.363028   6.791221  "
      ]
     },
     "execution_count": 10,
     "metadata": {},
     "output_type": "execute_result"
    }
   ],
   "source": [
    "training_df.head()"
   ]
  },
  {
   "cell_type": "code",
   "execution_count": 11,
   "id": "a0e84366",
   "metadata": {},
   "outputs": [
    {
     "data": {
      "text/plain": [
       "Index(['id', 'Carats', 'Cert', 'Clarity', 'Color', 'Cut', 'Depth',\n",
       "       'Fluroescence', 'Known_Conflict_Diamond', 'Measurements', 'Polish',\n",
       "       'Regions', 'Shape', 'Symmetry', 'Table', 'Vendor', 'Price', 'Retail',\n",
       "       'LogPrice', 'LogRetail'],\n",
       "      dtype='object')"
      ]
     },
     "execution_count": 11,
     "metadata": {},
     "output_type": "execute_result"
    }
   ],
   "source": [
    "training_df.columns"
   ]
  },
  {
   "cell_type": "code",
   "execution_count": 12,
   "id": "661d5690",
   "metadata": {},
   "outputs": [
    {
     "data": {
      "text/plain": [
       "id                           0\n",
       "Carats                       0\n",
       "Cert                       552\n",
       "Clarity                      0\n",
       "Color                        0\n",
       "Cut                          0\n",
       "Depth                     1440\n",
       "Fluroescence              1150\n",
       "Known_Conflict_Diamond       0\n",
       "Measurements                 0\n",
       "Polish                       0\n",
       "Regions                      0\n",
       "Shape                        0\n",
       "Symmetry                     0\n",
       "Table                     2531\n",
       "Vendor                       0\n",
       "Price                        0\n",
       "Retail                       0\n",
       "LogPrice                     0\n",
       "LogRetail                    0\n",
       "dtype: int64"
      ]
     },
     "execution_count": 12,
     "metadata": {},
     "output_type": "execute_result"
    }
   ],
   "source": [
    "training_df.isnull().sum()"
   ]
  },
  {
   "cell_type": "code",
   "execution_count": 13,
   "id": "2cbada70",
   "metadata": {},
   "outputs": [
    {
     "name": "stdout",
     "output_type": "stream",
     "text": [
      "Shape After deleting duplicate values: (8050, 20)\n"
     ]
    }
   ],
   "source": [
    "# Removing duplicate rows if any\n",
    "training_df=training_df.drop_duplicates()\n",
    "print('Shape After deleting duplicate values:', training_df.shape)"
   ]
  },
  {
   "cell_type": "code",
   "execution_count": 14,
   "id": "ac1b9f4b",
   "metadata": {},
   "outputs": [
    {
     "name": "stdout",
     "output_type": "stream",
     "text": [
      "<class 'pandas.core.frame.DataFrame'>\n",
      "Int64Index: 8050 entries, 0 to 8049\n",
      "Data columns (total 20 columns):\n",
      " #   Column                  Non-Null Count  Dtype  \n",
      "---  ------                  --------------  -----  \n",
      " 0   id                      8050 non-null   int64  \n",
      " 1   Carats                  8050 non-null   float64\n",
      " 2   Cert                    7498 non-null   object \n",
      " 3   Clarity                 8050 non-null   object \n",
      " 4   Color                   8050 non-null   object \n",
      " 5   Cut                     8050 non-null   object \n",
      " 6   Depth                   6610 non-null   float64\n",
      " 7   Fluroescence            6900 non-null   object \n",
      " 8   Known_Conflict_Diamond  8050 non-null   bool   \n",
      " 9   Measurements            8050 non-null   object \n",
      " 10  Polish                  8050 non-null   object \n",
      " 11  Regions                 8050 non-null   object \n",
      " 12  Shape                   8050 non-null   object \n",
      " 13  Symmetry                8050 non-null   object \n",
      " 14  Table                   5519 non-null   float64\n",
      " 15  Vendor                  8050 non-null   int64  \n",
      " 16  Price                   8050 non-null   object \n",
      " 17  Retail                  8050 non-null   object \n",
      " 18  LogPrice                8050 non-null   float64\n",
      " 19  LogRetail               8050 non-null   float64\n",
      "dtypes: bool(1), float64(5), int64(2), object(12)\n",
      "memory usage: 1.2+ MB\n"
     ]
    }
   ],
   "source": [
    "training_df.info()"
   ]
  },
  {
   "cell_type": "code",
   "execution_count": 15,
   "id": "c3033322",
   "metadata": {
    "scrolled": true
   },
   "outputs": [
    {
     "data": {
      "text/html": [
       "<div>\n",
       "<style scoped>\n",
       "    .dataframe tbody tr th:only-of-type {\n",
       "        vertical-align: middle;\n",
       "    }\n",
       "\n",
       "    .dataframe tbody tr th {\n",
       "        vertical-align: top;\n",
       "    }\n",
       "\n",
       "    .dataframe thead th {\n",
       "        text-align: right;\n",
       "    }\n",
       "</style>\n",
       "<table border=\"1\" class=\"dataframe\">\n",
       "  <thead>\n",
       "    <tr style=\"text-align: right;\">\n",
       "      <th></th>\n",
       "      <th>id</th>\n",
       "      <th>Carats</th>\n",
       "      <th>Depth</th>\n",
       "      <th>Table</th>\n",
       "      <th>Vendor</th>\n",
       "      <th>LogPrice</th>\n",
       "      <th>LogRetail</th>\n",
       "    </tr>\n",
       "  </thead>\n",
       "  <tbody>\n",
       "    <tr>\n",
       "      <th>count</th>\n",
       "      <td>8050.000000</td>\n",
       "      <td>8050.000000</td>\n",
       "      <td>6610.000000</td>\n",
       "      <td>5519.000000</td>\n",
       "      <td>8050.000000</td>\n",
       "      <td>8050.000000</td>\n",
       "      <td>8050.000000</td>\n",
       "    </tr>\n",
       "    <tr>\n",
       "      <th>mean</th>\n",
       "      <td>4025.500000</td>\n",
       "      <td>1.265807</td>\n",
       "      <td>61.723374</td>\n",
       "      <td>57.951984</td>\n",
       "      <td>2.050435</td>\n",
       "      <td>8.803274</td>\n",
       "      <td>9.127529</td>\n",
       "    </tr>\n",
       "    <tr>\n",
       "      <th>std</th>\n",
       "      <td>2323.979167</td>\n",
       "      <td>0.894574</td>\n",
       "      <td>2.192793</td>\n",
       "      <td>3.051339</td>\n",
       "      <td>0.983876</td>\n",
       "      <td>1.225854</td>\n",
       "      <td>1.282771</td>\n",
       "    </tr>\n",
       "    <tr>\n",
       "      <th>min</th>\n",
       "      <td>1.000000</td>\n",
       "      <td>0.400000</td>\n",
       "      <td>0.000000</td>\n",
       "      <td>0.000000</td>\n",
       "      <td>1.000000</td>\n",
       "      <td>5.978886</td>\n",
       "      <td>3.806662</td>\n",
       "    </tr>\n",
       "    <tr>\n",
       "      <th>25%</th>\n",
       "      <td>2013.250000</td>\n",
       "      <td>0.700000</td>\n",
       "      <td>61.000000</td>\n",
       "      <td>57.000000</td>\n",
       "      <td>1.000000</td>\n",
       "      <td>7.897296</td>\n",
       "      <td>8.180671</td>\n",
       "    </tr>\n",
       "    <tr>\n",
       "      <th>50%</th>\n",
       "      <td>4025.500000</td>\n",
       "      <td>1.040000</td>\n",
       "      <td>62.000000</td>\n",
       "      <td>58.000000</td>\n",
       "      <td>2.000000</td>\n",
       "      <td>8.860783</td>\n",
       "      <td>9.243291</td>\n",
       "    </tr>\n",
       "    <tr>\n",
       "      <th>75%</th>\n",
       "      <td>6037.750000</td>\n",
       "      <td>1.510000</td>\n",
       "      <td>62.600000</td>\n",
       "      <td>59.000000</td>\n",
       "      <td>3.000000</td>\n",
       "      <td>9.592878</td>\n",
       "      <td>9.929155</td>\n",
       "    </tr>\n",
       "    <tr>\n",
       "      <th>max</th>\n",
       "      <td>8050.000000</td>\n",
       "      <td>11.920000</td>\n",
       "      <td>69.700000</td>\n",
       "      <td>69.000000</td>\n",
       "      <td>4.000000</td>\n",
       "      <td>13.899654</td>\n",
       "      <td>14.331437</td>\n",
       "    </tr>\n",
       "  </tbody>\n",
       "</table>\n",
       "</div>"
      ],
      "text/plain": [
       "                id       Carats        Depth        Table       Vendor  \\\n",
       "count  8050.000000  8050.000000  6610.000000  5519.000000  8050.000000   \n",
       "mean   4025.500000     1.265807    61.723374    57.951984     2.050435   \n",
       "std    2323.979167     0.894574     2.192793     3.051339     0.983876   \n",
       "min       1.000000     0.400000     0.000000     0.000000     1.000000   \n",
       "25%    2013.250000     0.700000    61.000000    57.000000     1.000000   \n",
       "50%    4025.500000     1.040000    62.000000    58.000000     2.000000   \n",
       "75%    6037.750000     1.510000    62.600000    59.000000     3.000000   \n",
       "max    8050.000000    11.920000    69.700000    69.000000     4.000000   \n",
       "\n",
       "          LogPrice    LogRetail  \n",
       "count  8050.000000  8050.000000  \n",
       "mean      8.803274     9.127529  \n",
       "std       1.225854     1.282771  \n",
       "min       5.978886     3.806662  \n",
       "25%       7.897296     8.180671  \n",
       "50%       8.860783     9.243291  \n",
       "75%       9.592878     9.929155  \n",
       "max      13.899654    14.331437  "
      ]
     },
     "execution_count": 15,
     "metadata": {},
     "output_type": "execute_result"
    }
   ],
   "source": [
    "training_df.describe()"
   ]
  },
  {
   "cell_type": "code",
   "execution_count": 16,
   "id": "879eb332",
   "metadata": {},
   "outputs": [
    {
     "data": {
      "text/plain": [
       "id                        8050\n",
       "Carats                     393\n",
       "Cert                         2\n",
       "Clarity                     13\n",
       "Color                       32\n",
       "Cut                          6\n",
       "Depth                      115\n",
       "Fluroescence                13\n",
       "Known_Conflict_Diamond       2\n",
       "Measurements              7509\n",
       "Polish                       4\n",
       "Regions                      9\n",
       "Shape                       14\n",
       "Symmetry                     7\n",
       "Table                       22\n",
       "Vendor                       4\n",
       "Price                     3952\n",
       "Retail                    4618\n",
       "LogPrice                  3952\n",
       "LogRetail                 4618\n",
       "dtype: int64"
      ]
     },
     "execution_count": 16,
     "metadata": {},
     "output_type": "execute_result"
    }
   ],
   "source": [
    "training_df.nunique()"
   ]
  },
  {
   "cell_type": "markdown",
   "id": "7b12e04d",
   "metadata": {},
   "source": [
    "## Data Cleaning and Preprocessing\n",
    "\n",
    "### Numerical Data"
   ]
  },
  {
   "cell_type": "markdown",
   "id": "5ee48111",
   "metadata": {},
   "source": [
    "Extracting `Measure` informations"
   ]
  },
  {
   "cell_type": "code",
   "execution_count": 17,
   "id": "5fc11454",
   "metadata": {
    "scrolled": true
   },
   "outputs": [],
   "source": [
    "measures = []\n",
    "length = []\n",
    "width = []\n",
    "depth = []\n",
    "\n",
    "for values in training_df['Measurements']:\n",
    "    measures.append(re.split('([\\d.]+)\\D([\\d.]+)\\D([\\d.]+)', values))\n",
    "\n",
    "for values in measures:\n",
    "    del values[0]\n",
    "    del values[-1]\n",
    "    length.append(values[0])\n",
    "    width.append(values[1])\n",
    "    depth.append(values[2])\n",
    "\n",
    "training_df['length'] = length\n",
    "training_df['width'] = width\n",
    "training_df['depth'] = depth\n",
    "\n",
    "training_df['length'] = training_df['length'].astype(float)\n",
    "training_df['width'] = training_df['width'].astype(float)\n",
    "training_df['depth'] = training_df['depth'].astype(float)"
   ]
  },
  {
   "cell_type": "markdown",
   "id": "17e18d6f",
   "metadata": {},
   "source": [
    "Checking if there are any inconsistency in measures"
   ]
  },
  {
   "cell_type": "code",
   "execution_count": 18,
   "id": "611f643a",
   "metadata": {
    "scrolled": true
   },
   "outputs": [
    {
     "name": "stdout",
     "output_type": "stream",
     "text": [
      "Number of rows with x == 0: 0 \n",
      "Number of rows with y == 0: 0 \n",
      "Number of rows with z == 0: 0 \n",
      "Number of rows with Depth (%) == 0: 5 \n"
     ]
    }
   ],
   "source": [
    "training_df.rename(columns={'Depth':'Depth_perc'}, inplace=True)\n",
    "\n",
    "print(\"Number of rows with x == 0: {} \".format((training_df.length==0).sum()))\n",
    "print(\"Number of rows with y == 0: {} \".format((training_df.width==0).sum()))\n",
    "print(\"Number of rows with z == 0: {} \".format((training_df.depth==0).sum()))\n",
    "print(\"Number of rows with Depth (%) == 0: {} \".format((training_df.Depth_perc ==0).sum()))"
   ]
  },
  {
   "cell_type": "markdown",
   "id": "2b3059b0",
   "metadata": {},
   "source": [
    "A zero value in these rows means missing data so we can replace the zeros with nan. Another thing to notice is that the depth column doesn't have a single zero value. We know that depth is calculated using the three parameters only"
   ]
  },
  {
   "cell_type": "code",
   "execution_count": 19,
   "id": "ea7ff094",
   "metadata": {},
   "outputs": [],
   "source": [
    "training_df[['Depth_perc']] = training_df[['Depth_perc']].replace(0,np.NaN)"
   ]
  },
  {
   "cell_type": "code",
   "execution_count": 20,
   "id": "4ba5be70",
   "metadata": {},
   "outputs": [
    {
     "name": "stdout",
     "output_type": "stream",
     "text": [
      "(8050, 23)\n"
     ]
    },
    {
     "data": {
      "text/plain": [
       "id                           0\n",
       "Carats                       0\n",
       "Cert                       552\n",
       "Clarity                      0\n",
       "Color                        0\n",
       "Cut                          0\n",
       "Depth_perc                1445\n",
       "Fluroescence              1150\n",
       "Known_Conflict_Diamond       0\n",
       "Measurements                 0\n",
       "Polish                       0\n",
       "Regions                      0\n",
       "Shape                        0\n",
       "Symmetry                     0\n",
       "Table                     2531\n",
       "Vendor                       0\n",
       "Price                        0\n",
       "Retail                       0\n",
       "LogPrice                     0\n",
       "LogRetail                    0\n",
       "length                       0\n",
       "width                        0\n",
       "depth                        0\n",
       "dtype: int64"
      ]
     },
     "execution_count": 20,
     "metadata": {},
     "output_type": "execute_result"
    }
   ],
   "source": [
    "print(training_df.shape)\n",
    "training_df.isnull().sum()"
   ]
  },
  {
   "cell_type": "markdown",
   "id": "fe8029ce",
   "metadata": {},
   "source": [
    "Lets plot a correlation matrix to understand the variables relations"
   ]
  },
  {
   "cell_type": "code",
   "execution_count": 21,
   "id": "45515962",
   "metadata": {},
   "outputs": [],
   "source": [
    "training_df = training_df.drop('id', axis = 1)"
   ]
  },
  {
   "cell_type": "code",
   "execution_count": 22,
   "id": "8d3d54c2",
   "metadata": {
    "scrolled": false
   },
   "outputs": [
    {
     "data": {
      "image/png": "[encoded data removed]",
      "text/plain": [
       "<Figure size 1152x1152 with 2 Axes>"
      ]
     },
     "metadata": {
      "needs_background": "light"
     },
     "output_type": "display_data"
    }
   ],
   "source": [
    "plt.figure(figsize=(16,16))  # on this line I just set the size of figure to 12 by 10.\n",
    "p=sns.heatmap(training_df.corr(), annot=True,cmap='RdYlGn',square=True)  # seaborn has very simple solution for heatmap"
   ]
  },
  {
   "cell_type": "markdown",
   "id": "a3cca8fb",
   "metadata": {},
   "source": [
    "Since `Table` and `Depth_perc` have significant Null values and have no substantial correlation with other variables, except with each other, we'll drop these variables. As for `Known_Conflict_Diamond`, our train data has a lot of Null values for them, so we'll drop them now to prevent problems with modeling the train data. We'll do the same to `Fluorescence` and `Cert` since they carry null values and may not be so important when modeling. Also, we'll drop the `Measurements` variable, since we already extracted its values."
   ]
  },
  {
   "cell_type": "code",
   "execution_count": 23,
   "id": "049462be",
   "metadata": {},
   "outputs": [],
   "source": [
    "training_df.drop(['Table', 'Depth_perc', 'Known_Conflict_Diamond', 'Cert', 'Fluroescence', 'Measurements'], axis=1, inplace=True)"
   ]
  },
  {
   "cell_type": "markdown",
   "id": "f0a5bba9",
   "metadata": {},
   "source": [
    "Plotting a Pairplot of the variables"
   ]
  },
  {
   "cell_type": "code",
   "execution_count": 24,
   "id": "e70f2c2f",
   "metadata": {},
   "outputs": [
    {
     "data": {
      "image/png": "[encoded data removed]",
      "text/plain": [
       "<Figure size 1260x1260 with 56 Axes>"
      ]
     },
     "metadata": {
      "needs_background": "light"
     },
     "output_type": "display_data"
    }
   ],
   "source": [
    "p=sns.pairplot(training_df)"
   ]
  },
  {
   "cell_type": "code",
   "execution_count": 25,
   "id": "c1fe6ee4",
   "metadata": {},
   "outputs": [
    {
     "data": {
      "image/png": "[encoded data removed]",
      "text/plain": [
       "<Figure size 432x288 with 1 Axes>"
      ]
     },
     "metadata": {
      "needs_background": "light"
     },
     "output_type": "display_data"
    }
   ],
   "source": [
    "plt.hist(training_df['LogRetail'], bins = 20, alpha=0.5, label='LogRetail')\n",
    "plt.hist(training_df['LogPrice'], bins = 20, alpha=0.5, label='LogPrice')\n",
    "plt.legend(loc='upper right')\n",
    "plt.show()"
   ]
  },
  {
   "cell_type": "markdown",
   "id": "48d59c09",
   "metadata": {},
   "source": [
    "We have signs of under and over charging in retail's prices"
   ]
  },
  {
   "cell_type": "code",
   "execution_count": 26,
   "id": "7d9409bb",
   "metadata": {
    "scrolled": false
   },
   "outputs": [
    {
     "data": {
      "image/png": "[encoded data removed]",
      "text/plain": [
       "<Figure size 432x288 with 1 Axes>"
      ]
     },
     "metadata": {
      "needs_background": "light"
     },
     "output_type": "display_data"
    }
   ],
   "source": [
    "p = sns.countplot(x = 'Vendor', data = training_df, order = training_df.Vendor.value_counts().index)"
   ]
  },
  {
   "cell_type": "code",
   "execution_count": 27,
   "id": "d761bc8c",
   "metadata": {
    "scrolled": false
   },
   "outputs": [
    {
     "data": {
      "image/png": "[encoded data removed]",
      "text/plain": [
       "<Figure size 432x288 with 1 Axes>"
      ]
     },
     "metadata": {
      "needs_background": "light"
     },
     "output_type": "display_data"
    }
   ],
   "source": [
    "p = sns.boxplot(x='Vendor', y='LogRetail', data=training_df, order = training_df.Vendor.value_counts().index)"
   ]
  },
  {
   "cell_type": "markdown",
   "id": "4fc72b71",
   "metadata": {},
   "source": [
    "Vendor 1 seems to be under charging"
   ]
  },
  {
   "cell_type": "markdown",
   "id": "d552206f",
   "metadata": {},
   "source": [
    "#### Categorical Data"
   ]
  },
  {
   "cell_type": "code",
   "execution_count": 28,
   "id": "6f1cf625",
   "metadata": {},
   "outputs": [
    {
     "name": "stdout",
     "output_type": "stream",
     "text": [
      "SI2     2208\n",
      "SI1     2168\n",
      "VS2     1569\n",
      "VS1     1130\n",
      "VVS2     448\n",
      "VVS1     239\n",
      "IF       137\n",
      "I1       132\n",
      "I2        13\n",
      "FL         2\n",
      "N          2\n",
      "None       1\n",
      "I3         1\n",
      "Name: Clarity, dtype: int64\n",
      "G            1188\n",
      "I            1158\n",
      "H            1092\n",
      "E            1042\n",
      "F            1000\n",
      "J             843\n",
      "D             816\n",
      "K             540\n",
      "L             259\n",
      "M              85\n",
      "Ffcdbrown       2\n",
      "Fdy             2\n",
      "N               2\n",
      "Fvyellow        2\n",
      "Ffg             2\n",
      "U               1\n",
      "W               1\n",
      "Gy              1\n",
      "Fiyellow        1\n",
      "P               1\n",
      "Ffcly           1\n",
      "Flyellow        1\n",
      "S               1\n",
      "Fdpink          1\n",
      "Lb              1\n",
      "Ffcg            1\n",
      "Fly             1\n",
      "Ffcy            1\n",
      "Fiy             1\n",
      "Fyellow         1\n",
      "O-p             1\n",
      "Q-r             1\n",
      "Name: Color, dtype: int64\n",
      "             3922\n",
      "Excellent    2811\n",
      "Very good    1123\n",
      "Good          178\n",
      "Fair           15\n",
      "Ideal           1\n",
      "Name: Cut, dtype: int64\n",
      "Excellent    5383\n",
      "Very good    1589\n",
      "              899\n",
      "Good          179\n",
      "Name: Polish, dtype: int64\n",
      "Russia           2599\n",
      "Botswana         1438\n",
      "Australia         887\n",
      "DR Congo          796\n",
      "Canada            745\n",
      "Angola            586\n",
      "South Africa      556\n",
      "Other/Unknown     303\n",
      "Zimbabwe          140\n",
      "Name: Regions, dtype: int64\n",
      "Round       4505\n",
      "Princess     754\n",
      "Oval         560\n",
      "Emerald      554\n",
      "Radiant      481\n",
      "Pear         336\n",
      "Marquise     241\n",
      "Asscher      194\n",
      "ROUND        123\n",
      "Oval         105\n",
      "Cushion       87\n",
      "Marwuise      43\n",
      "Uncut         38\n",
      "Marquis       29\n",
      "Name: Shape, dtype: int64\n",
      "Excellent    4759\n",
      "Very good    1980\n",
      "              899\n",
      "Good          392\n",
      "Fair           16\n",
      "Faint           3\n",
      "Execllent       1\n",
      "Name: Symmetry, dtype: int64\n",
      "$ 800        18\n",
      "$ 1,040      17\n",
      "$ 885        17\n",
      "$ 935        16\n",
      "$ 880        16\n",
      "             ..\n",
      "$ 27,850      1\n",
      "$ 12,045      1\n",
      "$ 8,510       1\n",
      "$ 27,180      1\n",
      "$ 136,775     1\n",
      "Name: Price, Length: 3952, dtype: int64\n",
      "$ 1,430     16\n",
      "$ 1,355     16\n",
      "$ 1,540     13\n",
      "$ 1,520     11\n",
      "$ 2,410     11\n",
      "            ..\n",
      "$ 38,655     1\n",
      "$ 4,470      1\n",
      "$ 4,730      1\n",
      "$ 47,855     1\n",
      "$ 7,000      1\n",
      "Name: Retail, Length: 4618, dtype: int64\n"
     ]
    }
   ],
   "source": [
    "training_cat = training_df.select_dtypes(include=['object'])\n",
    "for col in training_cat.columns:\n",
    "    print(training_cat[col].value_counts()) # to print count of every category"
   ]
  },
  {
   "cell_type": "markdown",
   "id": "249b759d",
   "metadata": {},
   "source": [
    "It seems like a lot of values are missing in `Cut`, `Polish` and `Symmetry`. Now we have a problem because `Cut` is one of the 4C's variables that really influence the final price. I'll drop them and see how the model performs. I'll drop `Price` and `Retail` too, as we already have its log values on the numerical variables. I'll drop `Vendor` too because it doesn't influence our Price."
   ]
  },
  {
   "cell_type": "code",
   "execution_count": 29,
   "id": "a76c4002",
   "metadata": {},
   "outputs": [],
   "source": [
    "training_df.drop(['Cut', 'Polish', 'Symmetry', 'Price', 'Retail', 'Vendor'], axis=1, inplace=True)"
   ]
  },
  {
   "cell_type": "code",
   "execution_count": 30,
   "id": "f8eba544",
   "metadata": {
    "scrolled": false
   },
   "outputs": [
    {
     "data": {
      "image/png": "[encoded data removed]",
      "text/plain": [
       "<Figure size 1080x432 with 1 Axes>"
      ]
     },
     "metadata": {},
     "output_type": "display_data"
    }
   ],
   "source": [
    "clarity_others =training_df['Clarity'].value_counts()\n",
    "clarity_others=clarity_others.groupby(np.where(clarity_others>=100,clarity_others.index,'Others')).sum().sort_values(ascending = False)\n",
    "sns.set(rc={'figure.figsize':(15,6)})\n",
    "p = sns.barplot(x = clarity_others.index, y = clarity_others)"
   ]
  },
  {
   "cell_type": "code",
   "execution_count": 31,
   "id": "fe475701",
   "metadata": {},
   "outputs": [
    {
     "data": {
      "image/png": "[encoded data removed]",
      "text/plain": [
       "<Figure size 1080x432 with 1 Axes>"
      ]
     },
     "metadata": {},
     "output_type": "display_data"
    }
   ],
   "source": [
    "p = sns.boxplot(x='Clarity', y='LogPrice', data=training_df, order = ['SI2', 'SI1', 'VS2', 'VS1', 'VVS2', 'VVS2', 'IF', 'I1'])"
   ]
  },
  {
   "cell_type": "code",
   "execution_count": 32,
   "id": "51d6736d",
   "metadata": {},
   "outputs": [
    {
     "data": {
      "image/png": "[encoded data removed]",
      "text/plain": [
       "<Figure size 1080x432 with 1 Axes>"
      ]
     },
     "metadata": {},
     "output_type": "display_data"
    }
   ],
   "source": [
    "color_others =training_df['Color'].value_counts()\n",
    "color_others=color_others.groupby(np.where(color_others>=500,color_others.index,'Others')).sum().sort_values(ascending = False)\n",
    "sns.set(rc={'figure.figsize':(15,6)})\n",
    "p = sns.barplot(x = color_others.index, y = color_others)"
   ]
  },
  {
   "cell_type": "code",
   "execution_count": 33,
   "id": "addf46b7",
   "metadata": {},
   "outputs": [
    {
     "data": {
      "image/png": "[encoded data removed]",
      "text/plain": [
       "<Figure size 1080x432 with 1 Axes>"
      ]
     },
     "metadata": {},
     "output_type": "display_data"
    }
   ],
   "source": [
    "p = sns.boxplot(x='Color', y='LogPrice', data=training_df, order = ['G', 'I', 'H', 'E', 'F', 'J', 'D', 'K'])"
   ]
  },
  {
   "cell_type": "code",
   "execution_count": 34,
   "id": "e6b0548f",
   "metadata": {},
   "outputs": [
    {
     "data": {
      "image/png": "[encoded data removed]",
      "text/plain": [
       "<Figure size 1080x432 with 1 Axes>"
      ]
     },
     "metadata": {},
     "output_type": "display_data"
    }
   ],
   "source": [
    "p = sns.countplot(x = 'Regions', data = training_df, order = training_df.Regions.value_counts().index)"
   ]
  },
  {
   "cell_type": "code",
   "execution_count": 35,
   "id": "d4adaab4",
   "metadata": {},
   "outputs": [
    {
     "data": {
      "image/png": "[encoded data removed]",
      "text/plain": [
       "<Figure size 1080x432 with 1 Axes>"
      ]
     },
     "metadata": {},
     "output_type": "display_data"
    }
   ],
   "source": [
    "p = sns.boxplot(x='Regions', y='LogPrice', data=training_df, order = training_df.Regions.value_counts().index)"
   ]
  },
  {
   "cell_type": "code",
   "execution_count": 36,
   "id": "ad4da61c",
   "metadata": {},
   "outputs": [
    {
     "data": {
      "image/png": "[encoded data removed]",
      "text/plain": [
       "<Figure size 1080x432 with 1 Axes>"
      ]
     },
     "metadata": {},
     "output_type": "display_data"
    }
   ],
   "source": [
    "p = sns.countplot(x = 'Shape', data = training_df, order = training_df.Shape.value_counts().index)"
   ]
  },
  {
   "cell_type": "code",
   "execution_count": 37,
   "id": "df3c7d54",
   "metadata": {},
   "outputs": [
    {
     "data": {
      "image/png": "[encoded data removed]",
      "text/plain": [
       "<Figure size 1080x432 with 1 Axes>"
      ]
     },
     "metadata": {},
     "output_type": "display_data"
    }
   ],
   "source": [
    "p = sns.boxplot(x='Shape', y='LogPrice', data=training_df, order = training_df.Shape.value_counts().index)"
   ]
  },
  {
   "cell_type": "markdown",
   "id": "2b256a2b",
   "metadata": {},
   "source": [
    "Mostly the median prices are very low as compared to the highest price values for all the categories in colors, cut, and clarity. The upper quartile is bigger. It shows that whichever category it may be there's a variety of diamonds that are still very expensive."
   ]
  },
  {
   "cell_type": "code",
   "execution_count": 38,
   "id": "1ba19556",
   "metadata": {},
   "outputs": [],
   "source": [
    "training_cat = training_df.select_dtypes(include=['object'])\n",
    "training_num = training_df.select_dtypes(include=np.number)"
   ]
  },
  {
   "cell_type": "markdown",
   "id": "b16f412d",
   "metadata": {},
   "source": [
    "### One-Hot-Encoding"
   ]
  },
  {
   "cell_type": "code",
   "execution_count": 39,
   "id": "cfee86ee",
   "metadata": {
    "scrolled": true
   },
   "outputs": [],
   "source": [
    "one_hot_encoders_training_df =  pd.get_dummies(training_df)\n",
    "cols = one_hot_encoders_training_df.columns\n",
    "diamond_clean_data = pd.DataFrame(one_hot_encoders_training_df,columns= cols)"
   ]
  },
  {
   "cell_type": "markdown",
   "id": "e679a7c3",
   "metadata": {},
   "source": [
    "### Data Scaling"
   ]
  },
  {
   "cell_type": "code",
   "execution_count": 40,
   "id": "914c97e5",
   "metadata": {},
   "outputs": [],
   "source": [
    "from sklearn.preprocessing import StandardScaler\n",
    "sc_X = StandardScaler()\n",
    "numericals =  pd.DataFrame(sc_X.fit_transform(diamond_clean_data[['Carats', 'length', 'width', 'depth']]),\n",
    "                           columns=['Carats', 'length', 'width', 'depth'],index=diamond_clean_data.index)"
   ]
  },
  {
   "cell_type": "code",
   "execution_count": 41,
   "id": "090355b3",
   "metadata": {},
   "outputs": [
    {
     "data": {
      "text/html": [
       "<div>\n",
       "<style scoped>\n",
       "    .dataframe tbody tr th:only-of-type {\n",
       "        vertical-align: middle;\n",
       "    }\n",
       "\n",
       "    .dataframe tbody tr th {\n",
       "        vertical-align: top;\n",
       "    }\n",
       "\n",
       "    .dataframe thead th {\n",
       "        text-align: right;\n",
       "    }\n",
       "</style>\n",
       "<table border=\"1\" class=\"dataframe\">\n",
       "  <thead>\n",
       "    <tr style=\"text-align: right;\">\n",
       "      <th></th>\n",
       "      <th>Carats</th>\n",
       "      <th>LogPrice</th>\n",
       "      <th>LogRetail</th>\n",
       "      <th>length</th>\n",
       "      <th>width</th>\n",
       "      <th>depth</th>\n",
       "      <th>Clarity_FL</th>\n",
       "      <th>Clarity_I1</th>\n",
       "      <th>Clarity_I2</th>\n",
       "      <th>Clarity_I3</th>\n",
       "      <th>...</th>\n",
       "      <th>Shape_Marquise</th>\n",
       "      <th>Shape_Marwuise</th>\n",
       "      <th>Shape_Oval</th>\n",
       "      <th>Shape_Oval</th>\n",
       "      <th>Shape_Pear</th>\n",
       "      <th>Shape_Princess</th>\n",
       "      <th>Shape_ROUND</th>\n",
       "      <th>Shape_Radiant</th>\n",
       "      <th>Shape_Round</th>\n",
       "      <th>Shape_Uncut</th>\n",
       "    </tr>\n",
       "  </thead>\n",
       "  <tbody>\n",
       "    <tr>\n",
       "      <th>0</th>\n",
       "      <td>-0.956724</td>\n",
       "      <td>6.063785</td>\n",
       "      <td>6.745236</td>\n",
       "      <td>-1.479575</td>\n",
       "      <td>-1.497445</td>\n",
       "      <td>-1.305272</td>\n",
       "      <td>0</td>\n",
       "      <td>0</td>\n",
       "      <td>0</td>\n",
       "      <td>0</td>\n",
       "      <td>...</td>\n",
       "      <td>0</td>\n",
       "      <td>0</td>\n",
       "      <td>0</td>\n",
       "      <td>0</td>\n",
       "      <td>0</td>\n",
       "      <td>1</td>\n",
       "      <td>0</td>\n",
       "      <td>0</td>\n",
       "      <td>0</td>\n",
       "      <td>0</td>\n",
       "    </tr>\n",
       "    <tr>\n",
       "      <th>1</th>\n",
       "      <td>-0.945545</td>\n",
       "      <td>6.327937</td>\n",
       "      <td>6.824374</td>\n",
       "      <td>-1.331469</td>\n",
       "      <td>-1.372832</td>\n",
       "      <td>-1.365727</td>\n",
       "      <td>0</td>\n",
       "      <td>0</td>\n",
       "      <td>0</td>\n",
       "      <td>0</td>\n",
       "      <td>...</td>\n",
       "      <td>1</td>\n",
       "      <td>0</td>\n",
       "      <td>0</td>\n",
       "      <td>0</td>\n",
       "      <td>0</td>\n",
       "      <td>0</td>\n",
       "      <td>0</td>\n",
       "      <td>0</td>\n",
       "      <td>0</td>\n",
       "      <td>0</td>\n",
       "    </tr>\n",
       "    <tr>\n",
       "      <th>2</th>\n",
       "      <td>-0.967903</td>\n",
       "      <td>6.327937</td>\n",
       "      <td>6.354370</td>\n",
       "      <td>-1.472170</td>\n",
       "      <td>-1.490115</td>\n",
       "      <td>-1.377818</td>\n",
       "      <td>0</td>\n",
       "      <td>0</td>\n",
       "      <td>0</td>\n",
       "      <td>0</td>\n",
       "      <td>...</td>\n",
       "      <td>0</td>\n",
       "      <td>0</td>\n",
       "      <td>0</td>\n",
       "      <td>0</td>\n",
       "      <td>0</td>\n",
       "      <td>0</td>\n",
       "      <td>0</td>\n",
       "      <td>0</td>\n",
       "      <td>1</td>\n",
       "      <td>0</td>\n",
       "    </tr>\n",
       "    <tr>\n",
       "      <th>3</th>\n",
       "      <td>-0.956724</td>\n",
       "      <td>6.327937</td>\n",
       "      <td>6.715383</td>\n",
       "      <td>-1.435143</td>\n",
       "      <td>-1.446134</td>\n",
       "      <td>-1.402000</td>\n",
       "      <td>0</td>\n",
       "      <td>0</td>\n",
       "      <td>0</td>\n",
       "      <td>0</td>\n",
       "      <td>...</td>\n",
       "      <td>0</td>\n",
       "      <td>0</td>\n",
       "      <td>0</td>\n",
       "      <td>0</td>\n",
       "      <td>0</td>\n",
       "      <td>0</td>\n",
       "      <td>0</td>\n",
       "      <td>0</td>\n",
       "      <td>1</td>\n",
       "      <td>0</td>\n",
       "    </tr>\n",
       "    <tr>\n",
       "      <th>4</th>\n",
       "      <td>-0.967903</td>\n",
       "      <td>6.363028</td>\n",
       "      <td>6.791221</td>\n",
       "      <td>-1.435143</td>\n",
       "      <td>-1.453464</td>\n",
       "      <td>-1.389909</td>\n",
       "      <td>0</td>\n",
       "      <td>0</td>\n",
       "      <td>0</td>\n",
       "      <td>0</td>\n",
       "      <td>...</td>\n",
       "      <td>0</td>\n",
       "      <td>0</td>\n",
       "      <td>0</td>\n",
       "      <td>0</td>\n",
       "      <td>0</td>\n",
       "      <td>0</td>\n",
       "      <td>0</td>\n",
       "      <td>0</td>\n",
       "      <td>1</td>\n",
       "      <td>0</td>\n",
       "    </tr>\n",
       "  </tbody>\n",
       "</table>\n",
       "<p>5 rows × 74 columns</p>\n",
       "</div>"
      ],
      "text/plain": [
       "     Carats  LogPrice  LogRetail    length     width     depth  Clarity_FL  \\\n",
       "0 -0.956724  6.063785   6.745236 -1.479575 -1.497445 -1.305272           0   \n",
       "1 -0.945545  6.327937   6.824374 -1.331469 -1.372832 -1.365727           0   \n",
       "2 -0.967903  6.327937   6.354370 -1.472170 -1.490115 -1.377818           0   \n",
       "3 -0.956724  6.327937   6.715383 -1.435143 -1.446134 -1.402000           0   \n",
       "4 -0.967903  6.363028   6.791221 -1.435143 -1.453464 -1.389909           0   \n",
       "\n",
       "   Clarity_I1  Clarity_I2  Clarity_I3  ...  Shape_Marquise  Shape_Marwuise  \\\n",
       "0           0           0           0  ...               0               0   \n",
       "1           0           0           0  ...               1               0   \n",
       "2           0           0           0  ...               0               0   \n",
       "3           0           0           0  ...               0               0   \n",
       "4           0           0           0  ...               0               0   \n",
       "\n",
       "   Shape_Oval  Shape_Oval   Shape_Pear  Shape_Princess  Shape_ROUND  \\\n",
       "0           0            0           0               1            0   \n",
       "1           0            0           0               0            0   \n",
       "2           0            0           0               0            0   \n",
       "3           0            0           0               0            0   \n",
       "4           0            0           0               0            0   \n",
       "\n",
       "   Shape_Radiant  Shape_Round  Shape_Uncut  \n",
       "0              0            0            0  \n",
       "1              0            0            0  \n",
       "2              0            1            0  \n",
       "3              0            1            0  \n",
       "4              0            1            0  \n",
       "\n",
       "[5 rows x 74 columns]"
      ]
     },
     "execution_count": 41,
     "metadata": {},
     "output_type": "execute_result"
    }
   ],
   "source": [
    "diamond_clean_data_standard = diamond_clean_data.copy(deep=True)\n",
    "diamond_clean_data_standard[['Carats', 'length', 'width', 'depth']] = numericals[['Carats', 'length', 'width', 'depth']]\n",
    "diamond_clean_data_standard.head()"
   ]
  },
  {
   "cell_type": "markdown",
   "id": "ae8c7e22",
   "metadata": {},
   "source": [
    "### Train - Test Split (70-30)"
   ]
  },
  {
   "cell_type": "code",
   "execution_count": 42,
   "id": "3d03d2b5",
   "metadata": {},
   "outputs": [],
   "source": [
    "x = diamond_clean_data_standard.drop([\"LogPrice\"],axis=1)\n",
    "y = diamond_clean_data_standard.LogPrice"
   ]
  },
  {
   "cell_type": "code",
   "execution_count": 43,
   "id": "c50ff449",
   "metadata": {},
   "outputs": [],
   "source": [
    "from sklearn.model_selection import train_test_split\n",
    "train_x, test_x, train_y, test_y = train_test_split(x, y,random_state = 2,test_size=0.3)"
   ]
  },
  {
   "cell_type": "markdown",
   "id": "179aa5b5",
   "metadata": {},
   "source": [
    "## Training/Evaluating the Model"
   ]
  },
  {
   "cell_type": "markdown",
   "id": "19d66b23",
   "metadata": {},
   "source": [
    "### Linear Regression"
   ]
  },
  {
   "cell_type": "code",
   "execution_count": 44,
   "id": "f354ff33",
   "metadata": {},
   "outputs": [
    {
     "name": "stdout",
     "output_type": "stream",
     "text": [
      "accuracy: -1.1253601195201415e+21%\n",
      "Mean absolute error: 281254313.5120508\n",
      "Mean squared error: 1.7136222882326559e+19\n",
      "R Squared: -1.1253601195201415e+19\n",
      "Adjusted R Squared: -1.1599570147402312e+19\n"
     ]
    }
   ],
   "source": [
    "from sklearn.metrics import mean_absolute_error\n",
    "from sklearn.metrics import mean_squared_error\n",
    "from sklearn.metrics import r2_score\n",
    "from sklearn import linear_model\n",
    "\n",
    "regr = linear_model.LinearRegression()\n",
    "regr.fit(train_x,train_y)\n",
    "y_pred = regr.predict(test_x)\n",
    "print(\"accuracy: \"+ str(regr.score(test_x,test_y)*100) + \"%\")\n",
    "print(\"Mean absolute error: {}\".format(mean_absolute_error(test_y,y_pred)))\n",
    "print(\"Mean squared error: {}\".format(mean_squared_error(test_y,y_pred)))\n",
    "R2 = r2_score(test_y,y_pred)\n",
    "print('R Squared: {}'.format(R2))\n",
    "n=test_x.shape[0]\n",
    "p=test_x.shape[1] - 1\n",
    "\n",
    "adj_rsquared = 1 - (1 - R2) * ((n - 1)/(n-p-1))\n",
    "print('Adjusted R Squared: {}'.format(adj_rsquared))"
   ]
  },
  {
   "cell_type": "markdown",
   "id": "72e99e4b",
   "metadata": {},
   "source": [
    "### Lasso Regression Implementation"
   ]
  },
  {
   "cell_type": "code",
   "execution_count": 45,
   "id": "bc8b3f06",
   "metadata": {},
   "outputs": [
    {
     "name": "stdout",
     "output_type": "stream",
     "text": [
      "accuracy: 45.32724256172619%\n",
      "Mean absolute error: 0.723627664300787\n",
      "Mean squared error: 0.8325197781605492\n",
      "R Squared: 0.4532724256172619\n",
      "Adjusted R Squared: 0.4364644045431555\n"
     ]
    }
   ],
   "source": [
    "las_reg = linear_model.Lasso()\n",
    "las_reg.fit(train_x,train_y)\n",
    "y_pred = las_reg.predict(test_x)\n",
    "print(\"accuracy: \"+ str(las_reg.score(test_x,test_y)*100) + \"%\")\n",
    "print(\"Mean absolute error: {}\".format(mean_absolute_error(test_y,y_pred)))\n",
    "print(\"Mean squared error: {}\".format(mean_squared_error(test_y,y_pred)))\n",
    "R2 = r2_score(test_y,y_pred)\n",
    "print('R Squared: {}'.format(R2))\n",
    "n=test_x.shape[0]\n",
    "p=test_x.shape[1] - 1\n",
    "\n",
    "adj_rsquared = 1 - (1 - R2) * ((n - 1)/(n-p-1))\n",
    "print('Adjusted R Squared: {}'.format(adj_rsquared))"
   ]
  },
  {
   "cell_type": "markdown",
   "id": "f5464b6e",
   "metadata": {},
   "source": [
    "### Ridge Regression Implementation"
   ]
  },
  {
   "cell_type": "code",
   "execution_count": 46,
   "id": "16353809",
   "metadata": {},
   "outputs": [
    {
     "name": "stdout",
     "output_type": "stream",
     "text": [
      "accuracy: 97.70392729113951%\n",
      "Mean absolute error: 0.13294316904286432\n",
      "Mean squared error: 0.034963042505751815\n",
      "R Squared: 0.9770392729113951\n",
      "Adjusted R Squared: 0.9763333923177233\n"
     ]
    }
   ],
   "source": [
    "rig_reg = linear_model.Ridge()\n",
    "rig_reg.fit(train_x,train_y)\n",
    "y_pred = rig_reg.predict(test_x)\n",
    "print(\"accuracy: \"+ str(rig_reg.score(test_x,test_y)*100) + \"%\")\n",
    "print(\"Mean absolute error: {}\".format(mean_absolute_error(test_y,y_pred)))\n",
    "print(\"Mean squared error: {}\".format(mean_squared_error(test_y,y_pred)))\n",
    "R2 = r2_score(test_y,y_pred)\n",
    "print('R Squared: {}'.format(R2))\n",
    "n=test_x.shape[0]\n",
    "p=test_x.shape[1] - 1\n",
    "\n",
    "adj_rsquared = 1 - (1 - R2) * ((n - 1)/(n-p-1))\n",
    "print('Adjusted R Squared: {}'.format(adj_rsquared))"
   ]
  },
  {
   "cell_type": "markdown",
   "id": "e9b1b975",
   "metadata": {},
   "source": [
    "## Tuning Parameters\n",
    "\n",
    "### Backward elimination\n",
    "Involves starting with all candidate variables, testing the deletion of each variable using a chosen model fit criterion, deleting the variable (if any) whose loss gives the most statistically insignificant deterioration of the model fit, and repeating this process until no further variables can be deleted without a statistically significant loss of fit.\n",
    "\n",
    "* How to perform backward elimination?\n",
    "\n",
    "1. Run Linear Regression using all independent variables.\n",
    "\n",
    "2. Check out the p-values for all the independent variables.\n",
    "\n",
    "3. If you choose the confidence level to be 95% then remove the independent variable having a maximum p-value and greater than 0.05.\n",
    "\n",
    "4. Rerun Linear Regression on the new data.\n",
    "\n",
    "5. Repeat steps 2 to 4 till no p-value is greater than 0.05\n",
    "\n",
    "Why Stats Model Library?\n",
    "\n",
    "StatsModel offers statistics and econometric tools that are top of the line and validated against other statistics software like Stata and R. When you need a variety of linear regression models, mixed linear models, regression with discrete dependent variables, and more – StatsModels has options. Since we need p-values for backward elimination which is provided in this great report format by the StatsModel library it has been used to apply the backward elimination technique.\n",
    "\n",
    "I've already done these steps, and to spare the code size, I'll drop them all at once"
   ]
  },
  {
   "cell_type": "code",
   "execution_count": 47,
   "id": "59ed1c98",
   "metadata": {},
   "outputs": [
    {
     "data": {
      "text/plain": [
       "9"
      ]
     },
     "execution_count": 47,
     "metadata": {},
     "output_type": "execute_result"
    }
   ],
   "source": [
    "l = list(range(0,len(diamond_clean_data_standard.columns)))\n",
    "\n",
    "X = np.append(arr = np.ones((diamond_clean_data_standard.shape[0], 1)).astype(int), values = diamond_clean_data_standard.drop(['LogPrice'],axis=1).values, axis = 1)\n",
    "X_opt = X[:, l]\n",
    "regressor_ols = sm.OLS(endog = diamond_clean_data_standard.LogPrice, exog = X_opt).fit()\n",
    "regressor_ols.summary()\n",
    "\n",
    "l.pop(34)\n",
    "l.pop(23)\n",
    "l.pop(11)\n",
    "l.pop(7)\n",
    "l.pop(27)\n",
    "l.pop(10)\n",
    "l.pop(26)\n",
    "l.pop(40)\n",
    "l.pop(23)\n",
    "l.pop(37)\n",
    "l.pop(3)\n",
    "l.pop(61)\n",
    "l.pop(18)\n",
    "l.pop(22)\n",
    "l.pop(24)\n",
    "l.pop(19)\n",
    "l.pop(7)"
   ]
  },
  {
   "cell_type": "markdown",
   "id": "3bf6ba87",
   "metadata": {},
   "source": [
    "Selecting new columns to predict a new model"
   ]
  },
  {
   "cell_type": "code",
   "execution_count": 48,
   "id": "72537da9",
   "metadata": {},
   "outputs": [
    {
     "data": {
      "text/plain": [
       "(8050, 57)"
      ]
     },
     "execution_count": 48,
     "metadata": {},
     "output_type": "execute_result"
    }
   ],
   "source": [
    "diamond_copy = diamond_clean_data_standard.copy()\n",
    "\n",
    "colname = []\n",
    "for i in l:\n",
    "    colname.append(diamond_copy.columns[i])\n",
    "    \n",
    "diamond_final = diamond_copy[colname].copy()\n",
    "diamond_final.shape"
   ]
  },
  {
   "cell_type": "code",
   "execution_count": 49,
   "id": "567526b0",
   "metadata": {},
   "outputs": [],
   "source": [
    "x_2 = diamond_final.drop([\"LogPrice\"],axis=1)\n",
    "y_2 = diamond_final.LogPrice\n",
    "\n",
    "train_x2, test_x2, train_y2, test_y2 = train_test_split(x_2, y_2,random_state = 2,test_size=0.3)"
   ]
  },
  {
   "cell_type": "code",
   "execution_count": 50,
   "id": "93be9a40",
   "metadata": {},
   "outputs": [
    {
     "name": "stdout",
     "output_type": "stream",
     "text": [
      "accuracy: 97.76049260526067%\n",
      "Mean absolute error: 0.13244344142253733\n",
      "Mean squared error: 0.034101704154254064\n",
      "R Squared: 0.9776049260526066\n",
      "Adjusted R Squared: 0.9770827857104674\n"
     ]
    }
   ],
   "source": [
    "rig_reg = linear_model.Ridge()\n",
    "rig_reg.fit(train_x2,train_y2)\n",
    "y2_pred = rig_reg.predict(test_x2)\n",
    "print(\"accuracy: \"+ str(rig_reg.score(test_x2,test_y2)*100) + \"%\")\n",
    "print(\"Mean absolute error: {}\".format(mean_absolute_error(test_y2,y2_pred)))\n",
    "print(\"Mean squared error: {}\".format(mean_squared_error(test_y2,y2_pred)))\n",
    "R2 = r2_score(test_y2,y2_pred)\n",
    "print('R Squared: {}'.format(R2))\n",
    "n=test_x2.shape[0]\n",
    "p=test_x2.shape[1] - 1\n",
    "\n",
    "adj_rsquared = 1 - (1 - R2) * ((n - 1)/(n-p-1))\n",
    "print('Adjusted R Squared: {}'.format(adj_rsquared))"
   ]
  },
  {
   "cell_type": "markdown",
   "id": "7ab89bb4",
   "metadata": {},
   "source": [
    "0,06% improvement in accuracy, R Squared and Adjusted R Squared."
   ]
  },
  {
   "cell_type": "markdown",
   "id": "8e94e724",
   "metadata": {},
   "source": [
    "## Predict new `Price` values to `offers_df` data\n",
    "\n",
    "I'll prepare the `offers_df` dataset to model"
   ]
  },
  {
   "cell_type": "code",
   "execution_count": 51,
   "id": "4ebd260e",
   "metadata": {},
   "outputs": [],
   "source": [
    "measures = []\n",
    "length = []\n",
    "width = []\n",
    "depth = []\n",
    "\n",
    "for values in offers_df['Measurements']:\n",
    "    measures.append(re.split('([\\d.]+)\\D([\\d.]+)\\D([\\d.]+)', values))\n",
    "\n",
    "for values in measures:\n",
    "    del values[0]\n",
    "    del values[-1]\n",
    "    length.append(values[0])\n",
    "    width.append(values[1])\n",
    "    depth.append(values[2])\n",
    "\n",
    "offers_df['length'] = length\n",
    "offers_df['width'] = width\n",
    "offers_df['depth'] = depth\n",
    "\n",
    "offers_df['length'] = training_df['length'].astype(float)\n",
    "offers_df['width'] = training_df['width'].astype(float)\n",
    "offers_df['depth'] = training_df['depth'].astype(float)"
   ]
  },
  {
   "cell_type": "code",
   "execution_count": 52,
   "id": "4718eb5e",
   "metadata": {},
   "outputs": [],
   "source": [
    "offers_df.drop(['id', 'Table', 'Depth', 'Known_Conflict_Diamond', 'Cert', 'Fluroescence',\n",
    "                'Measurements', 'Cut', 'Polish', 'Symmetry', 'Vendor'], axis=1, inplace=True)"
   ]
  },
  {
   "cell_type": "code",
   "execution_count": 53,
   "id": "95eaa456",
   "metadata": {},
   "outputs": [],
   "source": [
    "offers_cat = offers_df.select_dtypes(include=['object'])\n",
    "offers_num = offers_df.select_dtypes(include=np.number)\n"
   ]
  },
  {
   "cell_type": "code",
   "execution_count": 54,
   "id": "c23a76ae",
   "metadata": {},
   "outputs": [],
   "source": [
    "one_hot_encoders_offers_df =  pd.get_dummies(offers_df)\n",
    "cols = one_hot_encoders_offers_df.columns\n",
    "diamond_clean_data2 = pd.DataFrame(one_hot_encoders_offers_df,columns= cols)"
   ]
  },
  {
   "cell_type": "code",
   "execution_count": 55,
   "id": "6f349e06",
   "metadata": {},
   "outputs": [],
   "source": [
    "sc_X = StandardScaler()\n",
    "numericals2 =  pd.DataFrame(sc_X.fit_transform(diamond_clean_data2[['Carats', 'length', 'width', 'depth']]),\n",
    "                           columns=['Carats', 'length', 'width', 'depth'],index=diamond_clean_data2.index)"
   ]
  },
  {
   "cell_type": "code",
   "execution_count": 56,
   "id": "7f38d524",
   "metadata": {},
   "outputs": [
    {
     "data": {
      "text/html": [
       "<div>\n",
       "<style scoped>\n",
       "    .dataframe tbody tr th:only-of-type {\n",
       "        vertical-align: middle;\n",
       "    }\n",
       "\n",
       "    .dataframe tbody tr th {\n",
       "        vertical-align: top;\n",
       "    }\n",
       "\n",
       "    .dataframe thead th {\n",
       "        text-align: right;\n",
       "    }\n",
       "</style>\n",
       "<table border=\"1\" class=\"dataframe\">\n",
       "  <thead>\n",
       "    <tr style=\"text-align: right;\">\n",
       "      <th></th>\n",
       "      <th>Carats</th>\n",
       "      <th>Offers</th>\n",
       "      <th>length</th>\n",
       "      <th>width</th>\n",
       "      <th>depth</th>\n",
       "      <th>Clarity_I1</th>\n",
       "      <th>Clarity_I2</th>\n",
       "      <th>Clarity_I3</th>\n",
       "      <th>Clarity_IF</th>\n",
       "      <th>Clarity_SI1</th>\n",
       "      <th>...</th>\n",
       "      <th>Shape_Marquise</th>\n",
       "      <th>Shape_Marwuise</th>\n",
       "      <th>Shape_Oval</th>\n",
       "      <th>Shape_Oval</th>\n",
       "      <th>Shape_Pear</th>\n",
       "      <th>Shape_Princess</th>\n",
       "      <th>Shape_ROUND</th>\n",
       "      <th>Shape_Radiant</th>\n",
       "      <th>Shape_Round</th>\n",
       "      <th>Shape_Uncut</th>\n",
       "    </tr>\n",
       "  </thead>\n",
       "  <tbody>\n",
       "    <tr>\n",
       "      <th>0</th>\n",
       "      <td>-0.945638</td>\n",
       "      <td>NaN</td>\n",
       "      <td>-1.298792</td>\n",
       "      <td>-1.311677</td>\n",
       "      <td>-0.975456</td>\n",
       "      <td>0</td>\n",
       "      <td>0</td>\n",
       "      <td>0</td>\n",
       "      <td>0</td>\n",
       "      <td>0</td>\n",
       "      <td>...</td>\n",
       "      <td>0</td>\n",
       "      <td>0</td>\n",
       "      <td>0</td>\n",
       "      <td>0</td>\n",
       "      <td>0</td>\n",
       "      <td>0</td>\n",
       "      <td>0</td>\n",
       "      <td>0</td>\n",
       "      <td>1</td>\n",
       "      <td>0</td>\n",
       "    </tr>\n",
       "    <tr>\n",
       "      <th>1</th>\n",
       "      <td>-0.968024</td>\n",
       "      <td>NaN</td>\n",
       "      <td>-1.033386</td>\n",
       "      <td>-1.088986</td>\n",
       "      <td>-1.082322</td>\n",
       "      <td>0</td>\n",
       "      <td>0</td>\n",
       "      <td>0</td>\n",
       "      <td>0</td>\n",
       "      <td>0</td>\n",
       "      <td>...</td>\n",
       "      <td>0</td>\n",
       "      <td>0</td>\n",
       "      <td>0</td>\n",
       "      <td>0</td>\n",
       "      <td>0</td>\n",
       "      <td>0</td>\n",
       "      <td>0</td>\n",
       "      <td>0</td>\n",
       "      <td>1</td>\n",
       "      <td>0</td>\n",
       "    </tr>\n",
       "    <tr>\n",
       "      <th>2</th>\n",
       "      <td>-0.956831</td>\n",
       "      <td>NaN</td>\n",
       "      <td>-1.285522</td>\n",
       "      <td>-1.298578</td>\n",
       "      <td>-1.103696</td>\n",
       "      <td>0</td>\n",
       "      <td>0</td>\n",
       "      <td>0</td>\n",
       "      <td>0</td>\n",
       "      <td>0</td>\n",
       "      <td>...</td>\n",
       "      <td>0</td>\n",
       "      <td>0</td>\n",
       "      <td>0</td>\n",
       "      <td>0</td>\n",
       "      <td>0</td>\n",
       "      <td>0</td>\n",
       "      <td>0</td>\n",
       "      <td>0</td>\n",
       "      <td>1</td>\n",
       "      <td>0</td>\n",
       "    </tr>\n",
       "    <tr>\n",
       "      <th>3</th>\n",
       "      <td>-0.968024</td>\n",
       "      <td>NaN</td>\n",
       "      <td>-1.219170</td>\n",
       "      <td>-1.219981</td>\n",
       "      <td>-1.146442</td>\n",
       "      <td>0</td>\n",
       "      <td>0</td>\n",
       "      <td>0</td>\n",
       "      <td>0</td>\n",
       "      <td>1</td>\n",
       "      <td>...</td>\n",
       "      <td>0</td>\n",
       "      <td>0</td>\n",
       "      <td>0</td>\n",
       "      <td>0</td>\n",
       "      <td>0</td>\n",
       "      <td>0</td>\n",
       "      <td>0</td>\n",
       "      <td>0</td>\n",
       "      <td>0</td>\n",
       "      <td>0</td>\n",
       "    </tr>\n",
       "    <tr>\n",
       "      <th>4</th>\n",
       "      <td>-0.968024</td>\n",
       "      <td>NaN</td>\n",
       "      <td>-1.219170</td>\n",
       "      <td>-1.233080</td>\n",
       "      <td>-1.125069</td>\n",
       "      <td>0</td>\n",
       "      <td>0</td>\n",
       "      <td>0</td>\n",
       "      <td>0</td>\n",
       "      <td>0</td>\n",
       "      <td>...</td>\n",
       "      <td>0</td>\n",
       "      <td>0</td>\n",
       "      <td>0</td>\n",
       "      <td>0</td>\n",
       "      <td>0</td>\n",
       "      <td>0</td>\n",
       "      <td>0</td>\n",
       "      <td>0</td>\n",
       "      <td>1</td>\n",
       "      <td>0</td>\n",
       "    </tr>\n",
       "  </tbody>\n",
       "</table>\n",
       "<p>5 rows × 53 columns</p>\n",
       "</div>"
      ],
      "text/plain": [
       "     Carats  Offers    length     width     depth  Clarity_I1  Clarity_I2  \\\n",
       "0 -0.945638     NaN -1.298792 -1.311677 -0.975456           0           0   \n",
       "1 -0.968024     NaN -1.033386 -1.088986 -1.082322           0           0   \n",
       "2 -0.956831     NaN -1.285522 -1.298578 -1.103696           0           0   \n",
       "3 -0.968024     NaN -1.219170 -1.219981 -1.146442           0           0   \n",
       "4 -0.968024     NaN -1.219170 -1.233080 -1.125069           0           0   \n",
       "\n",
       "   Clarity_I3  Clarity_IF  Clarity_SI1  ...  Shape_Marquise  Shape_Marwuise  \\\n",
       "0           0           0            0  ...               0               0   \n",
       "1           0           0            0  ...               0               0   \n",
       "2           0           0            0  ...               0               0   \n",
       "3           0           0            1  ...               0               0   \n",
       "4           0           0            0  ...               0               0   \n",
       "\n",
       "   Shape_Oval  Shape_Oval   Shape_Pear  Shape_Princess  Shape_ROUND  \\\n",
       "0           0            0           0               0            0   \n",
       "1           0            0           0               0            0   \n",
       "2           0            0           0               0            0   \n",
       "3           0            0           0               0            0   \n",
       "4           0            0           0               0            0   \n",
       "\n",
       "   Shape_Radiant  Shape_Round  Shape_Uncut  \n",
       "0              0            1            0  \n",
       "1              0            1            0  \n",
       "2              0            1            0  \n",
       "3              0            0            0  \n",
       "4              0            1            0  \n",
       "\n",
       "[5 rows x 53 columns]"
      ]
     },
     "execution_count": 56,
     "metadata": {},
     "output_type": "execute_result"
    }
   ],
   "source": [
    "diamond_clean_data_standard2 = diamond_clean_data2.copy(deep=True)\n",
    "diamond_clean_data_standard2[['Carats', 'length', 'width', 'depth']] = numericals2[['Carats', 'length', 'width', 'depth']]\n",
    "diamond_clean_data_standard2.head()"
   ]
  },
  {
   "cell_type": "code",
   "execution_count": 57,
   "id": "4b805bf4",
   "metadata": {},
   "outputs": [],
   "source": [
    "del_lst = list(set(colname) - set(diamond_clean_data_standard2.columns))\n",
    "del_lst.remove('LogPrice')"
   ]
  },
  {
   "cell_type": "code",
   "execution_count": 58,
   "id": "32c772e4",
   "metadata": {},
   "outputs": [
    {
     "data": {
      "text/plain": [
       "(2683, 43)"
      ]
     },
     "execution_count": 58,
     "metadata": {},
     "output_type": "execute_result"
    }
   ],
   "source": [
    "diamond_copy2 = diamond_clean_data_standard2.copy()\n",
    "diamond_final2 = diamond_copy2[diamond_copy2.columns.intersection(colname)]\n",
    "diamond_final2.shape"
   ]
  },
  {
   "cell_type": "markdown",
   "id": "5ffa1dea",
   "metadata": {},
   "source": [
    "### Preparing model to predict new Price data\n",
    "\n",
    "I'll prepare the `training_df` dataset to train a model that will receave `offers_df` data"
   ]
  },
  {
   "cell_type": "code",
   "execution_count": 59,
   "id": "d832a417",
   "metadata": {},
   "outputs": [],
   "source": [
    "diamond_final.drop(del_lst, axis = 1, inplace = True)"
   ]
  },
  {
   "cell_type": "code",
   "execution_count": 60,
   "id": "9849105b",
   "metadata": {},
   "outputs": [
    {
     "data": {
      "text/plain": [
       "(8050, 44)"
      ]
     },
     "execution_count": 60,
     "metadata": {},
     "output_type": "execute_result"
    }
   ],
   "source": [
    "diamond_final.shape"
   ]
  },
  {
   "cell_type": "code",
   "execution_count": 61,
   "id": "cffb7fb9",
   "metadata": {},
   "outputs": [],
   "source": [
    "x_3 = diamond_final.drop([\"LogPrice\"],axis=1)\n",
    "y_3 = diamond_final.LogPrice\n",
    "\n",
    "train_x3, test_x3, train_y3, test_y3 = train_test_split(x_3, y_3,random_state = 2,test_size=0.3)"
   ]
  },
  {
   "cell_type": "code",
   "execution_count": 62,
   "id": "f652b8c3",
   "metadata": {
    "scrolled": true
   },
   "outputs": [
    {
     "name": "stdout",
     "output_type": "stream",
     "text": [
      "accuracy: 97.29509451617005%\n",
      "Mean absolute error: 0.14284778275967833\n",
      "Mean squared error: 0.0411884715323855\n",
      "R Squared: 0.9729509451617006\n",
      "Adjusted R Squared: 0.972320297422783\n"
     ]
    }
   ],
   "source": [
    "rig_reg = linear_model.Ridge()\n",
    "rig_reg.fit(train_x3,train_y3)\n",
    "y3_pred = rig_reg.predict(test_x3)\n",
    "print(\"accuracy: \"+ str(rig_reg.score(test_x3,test_y3)*100) + \"%\")\n",
    "print(\"Mean absolute error: {}\".format(mean_absolute_error(test_y3,y3_pred)))\n",
    "print(\"Mean squared error: {}\".format(mean_squared_error(test_y3,y3_pred)))\n",
    "R2 = r2_score(test_y3,y3_pred)\n",
    "print('R Squared: {}'.format(R2))\n",
    "n=test_x2.shape[0]\n",
    "p=test_x2.shape[1] - 1\n",
    "\n",
    "adj_rsquared = 1 - (1 - R2) * ((n - 1)/(n-p-1))\n",
    "print('Adjusted R Squared: {}'.format(adj_rsquared))"
   ]
  },
  {
   "cell_type": "markdown",
   "id": "9834807d",
   "metadata": {},
   "source": [
    "## Predicting `offers_df` Price Values\n",
    "\n",
    "Predicting its values and creating a new columns"
   ]
  },
  {
   "cell_type": "code",
   "execution_count": 63,
   "id": "25f7a19f",
   "metadata": {},
   "outputs": [
    {
     "data": {
      "text/html": [
       "<div>\n",
       "<style scoped>\n",
       "    .dataframe tbody tr th:only-of-type {\n",
       "        vertical-align: middle;\n",
       "    }\n",
       "\n",
       "    .dataframe tbody tr th {\n",
       "        vertical-align: top;\n",
       "    }\n",
       "\n",
       "    .dataframe thead th {\n",
       "        text-align: right;\n",
       "    }\n",
       "</style>\n",
       "<table border=\"1\" class=\"dataframe\">\n",
       "  <thead>\n",
       "    <tr style=\"text-align: right;\">\n",
       "      <th></th>\n",
       "      <th>id</th>\n",
       "      <th>Carats</th>\n",
       "      <th>Cert</th>\n",
       "      <th>Clarity</th>\n",
       "      <th>Color</th>\n",
       "      <th>Cut</th>\n",
       "      <th>Depth</th>\n",
       "      <th>Fluroescence</th>\n",
       "      <th>Known_Conflict_Diamond</th>\n",
       "      <th>Measurements</th>\n",
       "      <th>Polish</th>\n",
       "      <th>Regions</th>\n",
       "      <th>Shape</th>\n",
       "      <th>Symmetry</th>\n",
       "      <th>Table</th>\n",
       "      <th>Vendor</th>\n",
       "      <th>Offers</th>\n",
       "      <th>Price</th>\n",
       "    </tr>\n",
       "  </thead>\n",
       "  <tbody>\n",
       "    <tr>\n",
       "      <th>0</th>\n",
       "      <td>8051</td>\n",
       "      <td>0.42</td>\n",
       "      <td>AGSL</td>\n",
       "      <td>SI2</td>\n",
       "      <td>L</td>\n",
       "      <td></td>\n",
       "      <td>62.7</td>\n",
       "      <td>None</td>\n",
       "      <td>NaN</td>\n",
       "      <td>4.81x4.78x3.01</td>\n",
       "      <td>Excellent</td>\n",
       "      <td>Australia</td>\n",
       "      <td>Round</td>\n",
       "      <td>Excellent</td>\n",
       "      <td>57.0</td>\n",
       "      <td>1</td>\n",
       "      <td>NaN</td>\n",
       "      <td>650.076271</td>\n",
       "    </tr>\n",
       "    <tr>\n",
       "      <th>1</th>\n",
       "      <td>8052</td>\n",
       "      <td>0.40</td>\n",
       "      <td>GemEx</td>\n",
       "      <td>VS2</td>\n",
       "      <td>M</td>\n",
       "      <td></td>\n",
       "      <td>63.8</td>\n",
       "      <td>None</td>\n",
       "      <td>NaN</td>\n",
       "      <td>4.64x4.61x2.95</td>\n",
       "      <td>Excellent</td>\n",
       "      <td>Australia</td>\n",
       "      <td>Round</td>\n",
       "      <td>Excellent</td>\n",
       "      <td>59.0</td>\n",
       "      <td>1</td>\n",
       "      <td>NaN</td>\n",
       "      <td>981.658969</td>\n",
       "    </tr>\n",
       "    <tr>\n",
       "      <th>2</th>\n",
       "      <td>8053</td>\n",
       "      <td>0.41</td>\n",
       "      <td>AGSL</td>\n",
       "      <td>SI2</td>\n",
       "      <td>L</td>\n",
       "      <td></td>\n",
       "      <td>62.2</td>\n",
       "      <td>None</td>\n",
       "      <td>True</td>\n",
       "      <td>4.76x4.74x2.95</td>\n",
       "      <td>Excellent</td>\n",
       "      <td>DR Congo</td>\n",
       "      <td>Round</td>\n",
       "      <td>Very good</td>\n",
       "      <td>58.0</td>\n",
       "      <td>1</td>\n",
       "      <td>NaN</td>\n",
       "      <td>624.543823</td>\n",
       "    </tr>\n",
       "    <tr>\n",
       "      <th>3</th>\n",
       "      <td>8054</td>\n",
       "      <td>0.40</td>\n",
       "      <td>AGSL</td>\n",
       "      <td>SI1</td>\n",
       "      <td>K</td>\n",
       "      <td></td>\n",
       "      <td>64.2</td>\n",
       "      <td>Strong Bl..</td>\n",
       "      <td>False</td>\n",
       "      <td>4.63x4.59x2.96</td>\n",
       "      <td>Very good</td>\n",
       "      <td>Angola</td>\n",
       "      <td>Emerald</td>\n",
       "      <td>Very good</td>\n",
       "      <td>58.0</td>\n",
       "      <td>1</td>\n",
       "      <td>NaN</td>\n",
       "      <td>863.506354</td>\n",
       "    </tr>\n",
       "    <tr>\n",
       "      <th>4</th>\n",
       "      <td>8055</td>\n",
       "      <td>0.40</td>\n",
       "      <td>AGSL</td>\n",
       "      <td>VS2</td>\n",
       "      <td>L</td>\n",
       "      <td></td>\n",
       "      <td>64.3</td>\n",
       "      <td>NaN</td>\n",
       "      <td>False</td>\n",
       "      <td>4.67x4.62x2.99</td>\n",
       "      <td>Excellent</td>\n",
       "      <td>Russia</td>\n",
       "      <td>Round</td>\n",
       "      <td>Very good</td>\n",
       "      <td>NaN</td>\n",
       "      <td>1</td>\n",
       "      <td>NaN</td>\n",
       "      <td>867.646728</td>\n",
       "    </tr>\n",
       "  </tbody>\n",
       "</table>\n",
       "</div>"
      ],
      "text/plain": [
       "     id  Carats   Cert Clarity Color Cut  Depth Fluroescence  \\\n",
       "0  8051    0.42   AGSL     SI2     L       62.7         None   \n",
       "1  8052    0.40  GemEx     VS2     M       63.8         None   \n",
       "2  8053    0.41   AGSL     SI2     L       62.2         None   \n",
       "3  8054    0.40   AGSL     SI1     K       64.2  Strong Bl..   \n",
       "4  8055    0.40   AGSL     VS2     L       64.3          NaN   \n",
       "\n",
       "  Known_Conflict_Diamond    Measurements     Polish    Regions    Shape  \\\n",
       "0                    NaN  4.81x4.78x3.01  Excellent  Australia    Round   \n",
       "1                    NaN  4.64x4.61x2.95  Excellent  Australia    Round   \n",
       "2                   True  4.76x4.74x2.95  Excellent   DR Congo    Round   \n",
       "3                  False  4.63x4.59x2.96  Very good     Angola  Emerald   \n",
       "4                  False  4.67x4.62x2.99  Excellent     Russia    Round   \n",
       "\n",
       "    Symmetry  Table  Vendor  Offers       Price  \n",
       "0  Excellent   57.0       1     NaN  650.076271  \n",
       "1  Excellent   59.0       1     NaN  981.658969  \n",
       "2  Very good   58.0       1     NaN  624.543823  \n",
       "3  Very good   58.0       1     NaN  863.506354  \n",
       "4  Very good    NaN       1     NaN  867.646728  "
      ]
     },
     "execution_count": 63,
     "metadata": {},
     "output_type": "execute_result"
    }
   ],
   "source": [
    "y4_pred = rig_reg.predict(diamond_final2)\n",
    "\n",
    "predicted_offers_df=pd.read_csv('offers.csv')\n",
    "predicted_offers_df['Price'] = np.exp(y4_pred)\n",
    "predicted_offers_df.head()"
   ]
  },
  {
   "cell_type": "markdown",
   "id": "26524552",
   "metadata": {},
   "source": [
    "### Finding the best possible offers.\n",
    "\n",
    "Difference between Retail and Price must be as negative as possible."
   ]
  },
  {
   "cell_type": "code",
   "execution_count": 64,
   "id": "ddd48e10",
   "metadata": {},
   "outputs": [],
   "source": [
    "training_df2 = pd.read_csv('training.csv')\n",
    "training_df2['Price'] = np.exp(training_df2.LogPrice)\n",
    "training_df2['Retail'] = np.exp(training_df2.LogRetail)"
   ]
  },
  {
   "cell_type": "markdown",
   "id": "a5231517",
   "metadata": {},
   "source": [
    "Setting a new collumn named `Diff` that represents the difference between `Retail` and `Price`"
   ]
  },
  {
   "cell_type": "code",
   "execution_count": 65,
   "id": "414f8282",
   "metadata": {},
   "outputs": [
    {
     "data": {
      "text/html": [
       "<div>\n",
       "<style scoped>\n",
       "    .dataframe tbody tr th:only-of-type {\n",
       "        vertical-align: middle;\n",
       "    }\n",
       "\n",
       "    .dataframe tbody tr th {\n",
       "        vertical-align: top;\n",
       "    }\n",
       "\n",
       "    .dataframe thead th {\n",
       "        text-align: right;\n",
       "    }\n",
       "</style>\n",
       "<table border=\"1\" class=\"dataframe\">\n",
       "  <thead>\n",
       "    <tr style=\"text-align: right;\">\n",
       "      <th></th>\n",
       "      <th>id</th>\n",
       "      <th>Carats</th>\n",
       "      <th>Cert</th>\n",
       "      <th>Clarity</th>\n",
       "      <th>Color</th>\n",
       "      <th>Cut</th>\n",
       "      <th>Depth</th>\n",
       "      <th>Fluroescence</th>\n",
       "      <th>Known_Conflict_Diamond</th>\n",
       "      <th>Measurements</th>\n",
       "      <th>...</th>\n",
       "      <th>Regions</th>\n",
       "      <th>Shape</th>\n",
       "      <th>Symmetry</th>\n",
       "      <th>Table</th>\n",
       "      <th>Vendor</th>\n",
       "      <th>Price</th>\n",
       "      <th>Retail</th>\n",
       "      <th>LogPrice</th>\n",
       "      <th>LogRetail</th>\n",
       "      <th>Diff</th>\n",
       "    </tr>\n",
       "  </thead>\n",
       "  <tbody>\n",
       "    <tr>\n",
       "      <th>0</th>\n",
       "      <td>1</td>\n",
       "      <td>0.41</td>\n",
       "      <td>NaN</td>\n",
       "      <td>SI1</td>\n",
       "      <td>L</td>\n",
       "      <td></td>\n",
       "      <td>65.4</td>\n",
       "      <td>None</td>\n",
       "      <td>False</td>\n",
       "      <td>4.65x4.62x3.03</td>\n",
       "      <td>...</td>\n",
       "      <td>Other/Unknown</td>\n",
       "      <td>Princess</td>\n",
       "      <td>Good</td>\n",
       "      <td>NaN</td>\n",
       "      <td>1</td>\n",
       "      <td>430.0</td>\n",
       "      <td>850.0</td>\n",
       "      <td>6.063785</td>\n",
       "      <td>6.745236</td>\n",
       "      <td>420.0</td>\n",
       "    </tr>\n",
       "    <tr>\n",
       "      <th>1</th>\n",
       "      <td>2</td>\n",
       "      <td>0.42</td>\n",
       "      <td>AGSL</td>\n",
       "      <td>SI2</td>\n",
       "      <td>L</td>\n",
       "      <td></td>\n",
       "      <td>61.7</td>\n",
       "      <td>Strong Bl..</td>\n",
       "      <td>False</td>\n",
       "      <td>4.85x4.79x2.98</td>\n",
       "      <td>...</td>\n",
       "      <td>Russia</td>\n",
       "      <td>Marquise</td>\n",
       "      <td>Very good</td>\n",
       "      <td>NaN</td>\n",
       "      <td>1</td>\n",
       "      <td>560.0</td>\n",
       "      <td>920.0</td>\n",
       "      <td>6.327937</td>\n",
       "      <td>6.824374</td>\n",
       "      <td>360.0</td>\n",
       "    </tr>\n",
       "    <tr>\n",
       "      <th>2</th>\n",
       "      <td>3</td>\n",
       "      <td>0.40</td>\n",
       "      <td>AGSL</td>\n",
       "      <td>SI1</td>\n",
       "      <td>L</td>\n",
       "      <td></td>\n",
       "      <td>64.0</td>\n",
       "      <td>None</td>\n",
       "      <td>False</td>\n",
       "      <td>4.66x4.63x2.97</td>\n",
       "      <td>...</td>\n",
       "      <td>South Africa</td>\n",
       "      <td>Round</td>\n",
       "      <td>Excellent</td>\n",
       "      <td>57.0</td>\n",
       "      <td>1</td>\n",
       "      <td>560.0</td>\n",
       "      <td>575.0</td>\n",
       "      <td>6.327937</td>\n",
       "      <td>6.354370</td>\n",
       "      <td>15.0</td>\n",
       "    </tr>\n",
       "    <tr>\n",
       "      <th>3</th>\n",
       "      <td>4</td>\n",
       "      <td>0.41</td>\n",
       "      <td>AGSL</td>\n",
       "      <td>SI2</td>\n",
       "      <td>L</td>\n",
       "      <td></td>\n",
       "      <td>62.7</td>\n",
       "      <td>Strong Bl..</td>\n",
       "      <td>False</td>\n",
       "      <td>4.71x4.69x2.95</td>\n",
       "      <td>...</td>\n",
       "      <td>Botswana</td>\n",
       "      <td>Round</td>\n",
       "      <td>Very good</td>\n",
       "      <td>58.0</td>\n",
       "      <td>1</td>\n",
       "      <td>560.0</td>\n",
       "      <td>825.0</td>\n",
       "      <td>6.327937</td>\n",
       "      <td>6.715383</td>\n",
       "      <td>265.0</td>\n",
       "    </tr>\n",
       "    <tr>\n",
       "      <th>4</th>\n",
       "      <td>5</td>\n",
       "      <td>0.40</td>\n",
       "      <td>AGSL</td>\n",
       "      <td>SI1</td>\n",
       "      <td>L</td>\n",
       "      <td></td>\n",
       "      <td>63.0</td>\n",
       "      <td>NaN</td>\n",
       "      <td>False</td>\n",
       "      <td>4.71x4.68x2.96</td>\n",
       "      <td>...</td>\n",
       "      <td>Botswana</td>\n",
       "      <td>Round</td>\n",
       "      <td>Very good</td>\n",
       "      <td>58.0</td>\n",
       "      <td>1</td>\n",
       "      <td>580.0</td>\n",
       "      <td>890.0</td>\n",
       "      <td>6.363028</td>\n",
       "      <td>6.791221</td>\n",
       "      <td>310.0</td>\n",
       "    </tr>\n",
       "  </tbody>\n",
       "</table>\n",
       "<p>5 rows × 21 columns</p>\n",
       "</div>"
      ],
      "text/plain": [
       "   id  Carats  Cert Clarity Color Cut  Depth Fluroescence  \\\n",
       "0   1    0.41   NaN     SI1     L       65.4         None   \n",
       "1   2    0.42  AGSL     SI2     L       61.7  Strong Bl..   \n",
       "2   3    0.40  AGSL     SI1     L       64.0         None   \n",
       "3   4    0.41  AGSL     SI2     L       62.7  Strong Bl..   \n",
       "4   5    0.40  AGSL     SI1     L       63.0          NaN   \n",
       "\n",
       "   Known_Conflict_Diamond    Measurements  ...        Regions     Shape  \\\n",
       "0                   False  4.65x4.62x3.03  ...  Other/Unknown  Princess   \n",
       "1                   False  4.85x4.79x2.98  ...         Russia  Marquise   \n",
       "2                   False  4.66x4.63x2.97  ...   South Africa     Round   \n",
       "3                   False  4.71x4.69x2.95  ...       Botswana     Round   \n",
       "4                   False  4.71x4.68x2.96  ...       Botswana     Round   \n",
       "\n",
       "    Symmetry Table  Vendor  Price  Retail  LogPrice  LogRetail   Diff  \n",
       "0       Good   NaN       1  430.0   850.0  6.063785   6.745236  420.0  \n",
       "1  Very good   NaN       1  560.0   920.0  6.327937   6.824374  360.0  \n",
       "2  Excellent  57.0       1  560.0   575.0  6.327937   6.354370   15.0  \n",
       "3  Very good  58.0       1  560.0   825.0  6.327937   6.715383  265.0  \n",
       "4  Very good  58.0       1  580.0   890.0  6.363028   6.791221  310.0  \n",
       "\n",
       "[5 rows x 21 columns]"
      ]
     },
     "execution_count": 65,
     "metadata": {},
     "output_type": "execute_result"
    }
   ],
   "source": [
    "training_df2['Diff'] = training_df2['Retail'] - training_df2['Price']\n",
    "training_df2.head()"
   ]
  },
  {
   "cell_type": "code",
   "execution_count": 66,
   "id": "1e67c617",
   "metadata": {},
   "outputs": [
    {
     "data": {
      "text/html": [
       "<div>\n",
       "<style scoped>\n",
       "    .dataframe tbody tr th:only-of-type {\n",
       "        vertical-align: middle;\n",
       "    }\n",
       "\n",
       "    .dataframe tbody tr th {\n",
       "        vertical-align: top;\n",
       "    }\n",
       "\n",
       "    .dataframe thead th {\n",
       "        text-align: right;\n",
       "    }\n",
       "</style>\n",
       "<table border=\"1\" class=\"dataframe\">\n",
       "  <thead>\n",
       "    <tr style=\"text-align: right;\">\n",
       "      <th></th>\n",
       "      <th>id</th>\n",
       "      <th>Carats</th>\n",
       "      <th>Cert</th>\n",
       "      <th>Clarity</th>\n",
       "      <th>Color</th>\n",
       "      <th>Cut</th>\n",
       "      <th>Depth</th>\n",
       "      <th>Fluroescence</th>\n",
       "      <th>Known_Conflict_Diamond</th>\n",
       "      <th>Measurements</th>\n",
       "      <th>...</th>\n",
       "      <th>Regions</th>\n",
       "      <th>Shape</th>\n",
       "      <th>Symmetry</th>\n",
       "      <th>Table</th>\n",
       "      <th>Vendor</th>\n",
       "      <th>Price</th>\n",
       "      <th>Retail</th>\n",
       "      <th>LogPrice</th>\n",
       "      <th>LogRetail</th>\n",
       "      <th>Diff</th>\n",
       "    </tr>\n",
       "  </thead>\n",
       "  <tbody>\n",
       "    <tr>\n",
       "      <th>4070</th>\n",
       "      <td>4071</td>\n",
       "      <td>7.27</td>\n",
       "      <td>AGSL</td>\n",
       "      <td>IF</td>\n",
       "      <td>G</td>\n",
       "      <td></td>\n",
       "      <td>62.1</td>\n",
       "      <td>None</td>\n",
       "      <td>True</td>\n",
       "      <td>12.39x12.44x7.71</td>\n",
       "      <td>...</td>\n",
       "      <td>DR Congo</td>\n",
       "      <td>Asscher</td>\n",
       "      <td>Excellent</td>\n",
       "      <td>NaN</td>\n",
       "      <td>2</td>\n",
       "      <td>783180.0</td>\n",
       "      <td>109500.0</td>\n",
       "      <td>13.571118</td>\n",
       "      <td>11.603680</td>\n",
       "      <td>-673680.0</td>\n",
       "    </tr>\n",
       "    <tr>\n",
       "      <th>4064</th>\n",
       "      <td>4065</td>\n",
       "      <td>9.01</td>\n",
       "      <td>AGSL</td>\n",
       "      <td>SI2</td>\n",
       "      <td>G</td>\n",
       "      <td></td>\n",
       "      <td>59.4</td>\n",
       "      <td>NaN</td>\n",
       "      <td>True</td>\n",
       "      <td>13.56x13.61x8.07</td>\n",
       "      <td>...</td>\n",
       "      <td>DR Congo</td>\n",
       "      <td>Round</td>\n",
       "      <td>Excellent</td>\n",
       "      <td>60.0</td>\n",
       "      <td>2</td>\n",
       "      <td>352210.0</td>\n",
       "      <td>55995.0</td>\n",
       "      <td>12.771983</td>\n",
       "      <td>10.933018</td>\n",
       "      <td>-296215.0</td>\n",
       "    </tr>\n",
       "    <tr>\n",
       "      <th>4050</th>\n",
       "      <td>4051</td>\n",
       "      <td>4.06</td>\n",
       "      <td>AGSL</td>\n",
       "      <td>VS2</td>\n",
       "      <td>E</td>\n",
       "      <td></td>\n",
       "      <td>NaN</td>\n",
       "      <td></td>\n",
       "      <td>True</td>\n",
       "      <td>10.23x10.34x6.3</td>\n",
       "      <td>...</td>\n",
       "      <td>Zimbabwe</td>\n",
       "      <td>Cushion</td>\n",
       "      <td>Excellent</td>\n",
       "      <td>NaN</td>\n",
       "      <td>2</td>\n",
       "      <td>178980.0</td>\n",
       "      <td>33350.0</td>\n",
       "      <td>12.095029</td>\n",
       "      <td>10.414813</td>\n",
       "      <td>-145630.0</td>\n",
       "    </tr>\n",
       "    <tr>\n",
       "      <th>4094</th>\n",
       "      <td>4095</td>\n",
       "      <td>3.05</td>\n",
       "      <td>AGSL</td>\n",
       "      <td>VVS2</td>\n",
       "      <td>E</td>\n",
       "      <td>Excellent</td>\n",
       "      <td>62.3</td>\n",
       "      <td>NaN</td>\n",
       "      <td>True</td>\n",
       "      <td>9.28x9.32x5.79</td>\n",
       "      <td>...</td>\n",
       "      <td>DR Congo</td>\n",
       "      <td>ROUND</td>\n",
       "      <td>Excellent</td>\n",
       "      <td>55.0</td>\n",
       "      <td>2</td>\n",
       "      <td>159110.0</td>\n",
       "      <td>21280.0</td>\n",
       "      <td>11.977351</td>\n",
       "      <td>9.965523</td>\n",
       "      <td>-137830.0</td>\n",
       "    </tr>\n",
       "    <tr>\n",
       "      <th>4605</th>\n",
       "      <td>4606</td>\n",
       "      <td>3.15</td>\n",
       "      <td>AGSL</td>\n",
       "      <td>VVS2</td>\n",
       "      <td>H</td>\n",
       "      <td>Excellent</td>\n",
       "      <td>61.2</td>\n",
       "      <td>None</td>\n",
       "      <td>True</td>\n",
       "      <td>9.41x9.44x5.77</td>\n",
       "      <td>...</td>\n",
       "      <td>Angola</td>\n",
       "      <td>Round</td>\n",
       "      <td>Excellent</td>\n",
       "      <td>NaN</td>\n",
       "      <td>2</td>\n",
       "      <td>114190.0</td>\n",
       "      <td>16765.0</td>\n",
       "      <td>11.645619</td>\n",
       "      <td>9.727049</td>\n",
       "      <td>-97425.0</td>\n",
       "    </tr>\n",
       "    <tr>\n",
       "      <th>3999</th>\n",
       "      <td>4000</td>\n",
       "      <td>4.70</td>\n",
       "      <td>AGSL</td>\n",
       "      <td>VS2</td>\n",
       "      <td>K</td>\n",
       "      <td></td>\n",
       "      <td>62.6</td>\n",
       "      <td>None</td>\n",
       "      <td>True</td>\n",
       "      <td>10.69x10.73x6.7</td>\n",
       "      <td>...</td>\n",
       "      <td>DR Congo</td>\n",
       "      <td>Marquise</td>\n",
       "      <td>Excellent</td>\n",
       "      <td>57.0</td>\n",
       "      <td>2</td>\n",
       "      <td>88355.0</td>\n",
       "      <td>12335.0</td>\n",
       "      <td>11.389118</td>\n",
       "      <td>9.420196</td>\n",
       "      <td>-76020.0</td>\n",
       "    </tr>\n",
       "    <tr>\n",
       "      <th>4913</th>\n",
       "      <td>4914</td>\n",
       "      <td>3.01</td>\n",
       "      <td>AGSL</td>\n",
       "      <td>SI1</td>\n",
       "      <td>E</td>\n",
       "      <td>Excellent</td>\n",
       "      <td>59.2</td>\n",
       "      <td>None</td>\n",
       "      <td>True</td>\n",
       "      <td>9.4x9.44x5.58</td>\n",
       "      <td>...</td>\n",
       "      <td>DR Congo</td>\n",
       "      <td>Round</td>\n",
       "      <td>Excellent</td>\n",
       "      <td>59.0</td>\n",
       "      <td>2</td>\n",
       "      <td>81415.0</td>\n",
       "      <td>7915.0</td>\n",
       "      <td>11.307315</td>\n",
       "      <td>8.976515</td>\n",
       "      <td>-73500.0</td>\n",
       "    </tr>\n",
       "    <tr>\n",
       "      <th>3991</th>\n",
       "      <td>3992</td>\n",
       "      <td>4.02</td>\n",
       "      <td>AGSL</td>\n",
       "      <td>SI1</td>\n",
       "      <td>J</td>\n",
       "      <td></td>\n",
       "      <td>NaN</td>\n",
       "      <td>None</td>\n",
       "      <td>True</td>\n",
       "      <td>10.14x10.09x6.34</td>\n",
       "      <td>...</td>\n",
       "      <td>Angola</td>\n",
       "      <td>Round</td>\n",
       "      <td>Excellent</td>\n",
       "      <td>NaN</td>\n",
       "      <td>2</td>\n",
       "      <td>74135.0</td>\n",
       "      <td>11780.0</td>\n",
       "      <td>11.213643</td>\n",
       "      <td>9.374158</td>\n",
       "      <td>-62355.0</td>\n",
       "    </tr>\n",
       "    <tr>\n",
       "      <th>4096</th>\n",
       "      <td>4097</td>\n",
       "      <td>3.05</td>\n",
       "      <td>AGSL</td>\n",
       "      <td>SI1</td>\n",
       "      <td>G</td>\n",
       "      <td>Excellent</td>\n",
       "      <td>61.9</td>\n",
       "      <td>None</td>\n",
       "      <td>True</td>\n",
       "      <td>9.26x9.3x5.74</td>\n",
       "      <td>...</td>\n",
       "      <td>Angola</td>\n",
       "      <td>Oval</td>\n",
       "      <td>Excellent</td>\n",
       "      <td>57.0</td>\n",
       "      <td>2</td>\n",
       "      <td>67910.0</td>\n",
       "      <td>10355.0</td>\n",
       "      <td>11.125939</td>\n",
       "      <td>9.245225</td>\n",
       "      <td>-57555.0</td>\n",
       "    </tr>\n",
       "    <tr>\n",
       "      <th>3975</th>\n",
       "      <td>3976</td>\n",
       "      <td>4.06</td>\n",
       "      <td>AGSL</td>\n",
       "      <td>SI2</td>\n",
       "      <td>H</td>\n",
       "      <td></td>\n",
       "      <td>62.4</td>\n",
       "      <td></td>\n",
       "      <td>True</td>\n",
       "      <td>10.19x10.2x6.36</td>\n",
       "      <td>...</td>\n",
       "      <td>Angola</td>\n",
       "      <td>Round</td>\n",
       "      <td>Excellent</td>\n",
       "      <td>NaN</td>\n",
       "      <td>2</td>\n",
       "      <td>66835.0</td>\n",
       "      <td>11770.0</td>\n",
       "      <td>11.109982</td>\n",
       "      <td>9.373309</td>\n",
       "      <td>-55065.0</td>\n",
       "    </tr>\n",
       "  </tbody>\n",
       "</table>\n",
       "<p>10 rows × 21 columns</p>\n",
       "</div>"
      ],
      "text/plain": [
       "        id  Carats  Cert Clarity Color        Cut  Depth Fluroescence  \\\n",
       "4070  4071    7.27  AGSL      IF     G              62.1         None   \n",
       "4064  4065    9.01  AGSL     SI2     G              59.4          NaN   \n",
       "4050  4051    4.06  AGSL     VS2     E               NaN                \n",
       "4094  4095    3.05  AGSL    VVS2     E  Excellent   62.3          NaN   \n",
       "4605  4606    3.15  AGSL    VVS2     H  Excellent   61.2         None   \n",
       "3999  4000    4.70  AGSL     VS2     K              62.6         None   \n",
       "4913  4914    3.01  AGSL     SI1     E  Excellent   59.2         None   \n",
       "3991  3992    4.02  AGSL     SI1     J               NaN         None   \n",
       "4096  4097    3.05  AGSL     SI1     G  Excellent   61.9         None   \n",
       "3975  3976    4.06  AGSL     SI2     H              62.4                \n",
       "\n",
       "      Known_Conflict_Diamond      Measurements  ...   Regions     Shape  \\\n",
       "4070                    True  12.39x12.44x7.71  ...  DR Congo   Asscher   \n",
       "4064                    True  13.56x13.61x8.07  ...  DR Congo     Round   \n",
       "4050                    True   10.23x10.34x6.3  ...  Zimbabwe   Cushion   \n",
       "4094                    True    9.28x9.32x5.79  ...  DR Congo     ROUND   \n",
       "4605                    True    9.41x9.44x5.77  ...    Angola     Round   \n",
       "3999                    True   10.69x10.73x6.7  ...  DR Congo  Marquise   \n",
       "4913                    True     9.4x9.44x5.58  ...  DR Congo     Round   \n",
       "3991                    True  10.14x10.09x6.34  ...    Angola     Round   \n",
       "4096                    True     9.26x9.3x5.74  ...    Angola      Oval   \n",
       "3975                    True   10.19x10.2x6.36  ...    Angola     Round   \n",
       "\n",
       "       Symmetry Table  Vendor     Price    Retail   LogPrice  LogRetail  \\\n",
       "4070  Excellent   NaN       2  783180.0  109500.0  13.571118  11.603680   \n",
       "4064  Excellent  60.0       2  352210.0   55995.0  12.771983  10.933018   \n",
       "4050  Excellent   NaN       2  178980.0   33350.0  12.095029  10.414813   \n",
       "4094  Excellent  55.0       2  159110.0   21280.0  11.977351   9.965523   \n",
       "4605  Excellent   NaN       2  114190.0   16765.0  11.645619   9.727049   \n",
       "3999  Excellent  57.0       2   88355.0   12335.0  11.389118   9.420196   \n",
       "4913  Excellent  59.0       2   81415.0    7915.0  11.307315   8.976515   \n",
       "3991  Excellent   NaN       2   74135.0   11780.0  11.213643   9.374158   \n",
       "4096  Excellent  57.0       2   67910.0   10355.0  11.125939   9.245225   \n",
       "3975  Excellent   NaN       2   66835.0   11770.0  11.109982   9.373309   \n",
       "\n",
       "          Diff  \n",
       "4070 -673680.0  \n",
       "4064 -296215.0  \n",
       "4050 -145630.0  \n",
       "4094 -137830.0  \n",
       "4605  -97425.0  \n",
       "3999  -76020.0  \n",
       "4913  -73500.0  \n",
       "3991  -62355.0  \n",
       "4096  -57555.0  \n",
       "3975  -55065.0  \n",
       "\n",
       "[10 rows x 21 columns]"
      ]
     },
     "execution_count": 66,
     "metadata": {},
     "output_type": "execute_result"
    }
   ],
   "source": [
    "training_df2.nsmallest(10, 'Diff')"
   ]
  },
  {
   "cell_type": "markdown",
   "id": "9443fccf",
   "metadata": {},
   "source": [
    "## Aswering Problem Question 1\n",
    "\n",
    "Do you think that any of the vendors are over or undercharging for diamonds compared to the other vendors? Do you think they are selling the same kind of diamonds? How did you come to this conclusion?\n",
    "\n",
    "* There are definitely some vendors under and over charging for the diamonds. We want to find those who are undercharging. We want the negative Diff prices.\n",
    "\n",
    "Let's train our last model using `training_df` data to predict what the difference will be at the `offers_df` data. Let's see how it goes."
   ]
  },
  {
   "cell_type": "code",
   "execution_count": 67,
   "id": "b547617c",
   "metadata": {},
   "outputs": [
    {
     "data": {
      "text/plain": [
       "Index(['Cert', 'Regions', 'Vendor', 'Price', 'Diff'], dtype='object')"
      ]
     },
     "execution_count": 67,
     "metadata": {},
     "output_type": "execute_result"
    }
   ],
   "source": [
    "measures = []\n",
    "length = []\n",
    "width = []\n",
    "depth = []\n",
    "\n",
    "for values in training_df2['Measurements']:\n",
    "    measures.append(re.split('([\\d.]+)\\D([\\d.]+)\\D([\\d.]+)', values))\n",
    "\n",
    "for values in measures:\n",
    "    del values[0]\n",
    "    del values[-1]\n",
    "    length.append(values[0])\n",
    "    width.append(values[1])\n",
    "    depth.append(values[2])\n",
    "\n",
    "training_df2['length'] = length\n",
    "training_df2['width'] = width\n",
    "training_df2['depth'] = depth\n",
    "\n",
    "training_df2['length'] = training_df2['length'].astype(float)\n",
    "training_df2['width'] = training_df2['width'].astype(float)\n",
    "training_df2['depth'] = training_df2['depth'].astype(float)\n",
    "\n",
    "training_df2.drop(['id', 'Table', 'Depth', 'Fluroescence', 'Measurements',\n",
    "                  'Cut', 'Polish', 'Symmetry','LogPrice', 'Retail', 'LogRetail', 'Known_Conflict_Diamond',\n",
    "                  'Clarity', 'Color', 'Carats', 'Shape', 'length', 'width', 'depth'], axis=1, inplace=True)\n",
    "\n",
    "\n",
    "training_df2.columns"
   ]
  },
  {
   "cell_type": "code",
   "execution_count": 68,
   "id": "d0f6143f",
   "metadata": {},
   "outputs": [
    {
     "data": {
      "text/plain": [
       "Cert       552\n",
       "Regions      0\n",
       "Vendor       0\n",
       "Price        0\n",
       "Diff         0\n",
       "dtype: int64"
      ]
     },
     "execution_count": 68,
     "metadata": {},
     "output_type": "execute_result"
    }
   ],
   "source": [
    "training_df2.isnull().sum()"
   ]
  },
  {
   "cell_type": "code",
   "execution_count": 69,
   "id": "3374ad03",
   "metadata": {},
   "outputs": [],
   "source": [
    "training_df2.dropna(subset=['Cert'], inplace=True)"
   ]
  },
  {
   "cell_type": "code",
   "execution_count": 70,
   "id": "cf38dd03",
   "metadata": {},
   "outputs": [],
   "source": [
    "training_df2.Vendor = training_df2.Vendor.astype(str)"
   ]
  },
  {
   "cell_type": "code",
   "execution_count": 71,
   "id": "2f957fec",
   "metadata": {},
   "outputs": [],
   "source": [
    "training_cat2 = training_df2.select_dtypes(include=['object'])\n",
    "training_num2 = training_df2.select_dtypes(include=np.number)"
   ]
  },
  {
   "cell_type": "code",
   "execution_count": 72,
   "id": "3c245144",
   "metadata": {},
   "outputs": [],
   "source": [
    "one_hot_encoders_training_df2 =  pd.get_dummies(training_df2)\n",
    "\n",
    "cols = one_hot_encoders_training_df2.columns\n",
    "diamond_clean_data2 = pd.DataFrame(one_hot_encoders_training_df2,columns= cols)"
   ]
  },
  {
   "cell_type": "code",
   "execution_count": 73,
   "id": "0977ddd4",
   "metadata": {},
   "outputs": [
    {
     "data": {
      "text/html": [
       "<div>\n",
       "<style scoped>\n",
       "    .dataframe tbody tr th:only-of-type {\n",
       "        vertical-align: middle;\n",
       "    }\n",
       "\n",
       "    .dataframe tbody tr th {\n",
       "        vertical-align: top;\n",
       "    }\n",
       "\n",
       "    .dataframe thead th {\n",
       "        text-align: right;\n",
       "    }\n",
       "</style>\n",
       "<table border=\"1\" class=\"dataframe\">\n",
       "  <thead>\n",
       "    <tr style=\"text-align: right;\">\n",
       "      <th></th>\n",
       "      <th>Price</th>\n",
       "      <th>Diff</th>\n",
       "      <th>Cert_AGSL</th>\n",
       "      <th>Cert_GemEx</th>\n",
       "      <th>Regions_Angola</th>\n",
       "      <th>Regions_Australia</th>\n",
       "      <th>Regions_Botswana</th>\n",
       "      <th>Regions_Canada</th>\n",
       "      <th>Regions_DR Congo</th>\n",
       "      <th>Regions_Other/Unknown</th>\n",
       "      <th>Regions_Russia</th>\n",
       "      <th>Regions_South Africa</th>\n",
       "      <th>Regions_Zimbabwe</th>\n",
       "      <th>Vendor_1</th>\n",
       "      <th>Vendor_2</th>\n",
       "      <th>Vendor_3</th>\n",
       "      <th>Vendor_4</th>\n",
       "    </tr>\n",
       "  </thead>\n",
       "  <tbody>\n",
       "    <tr>\n",
       "      <th>1</th>\n",
       "      <td>-0.407545</td>\n",
       "      <td>-0.302377</td>\n",
       "      <td>1</td>\n",
       "      <td>0</td>\n",
       "      <td>0</td>\n",
       "      <td>0</td>\n",
       "      <td>0</td>\n",
       "      <td>0</td>\n",
       "      <td>0</td>\n",
       "      <td>0</td>\n",
       "      <td>1</td>\n",
       "      <td>0</td>\n",
       "      <td>0</td>\n",
       "      <td>1</td>\n",
       "      <td>0</td>\n",
       "      <td>0</td>\n",
       "      <td>0</td>\n",
       "    </tr>\n",
       "    <tr>\n",
       "      <th>2</th>\n",
       "      <td>-0.407545</td>\n",
       "      <td>-0.319409</td>\n",
       "      <td>1</td>\n",
       "      <td>0</td>\n",
       "      <td>0</td>\n",
       "      <td>0</td>\n",
       "      <td>0</td>\n",
       "      <td>0</td>\n",
       "      <td>0</td>\n",
       "      <td>0</td>\n",
       "      <td>0</td>\n",
       "      <td>1</td>\n",
       "      <td>0</td>\n",
       "      <td>1</td>\n",
       "      <td>0</td>\n",
       "      <td>0</td>\n",
       "      <td>0</td>\n",
       "    </tr>\n",
       "    <tr>\n",
       "      <th>3</th>\n",
       "      <td>-0.407545</td>\n",
       "      <td>-0.307067</td>\n",
       "      <td>1</td>\n",
       "      <td>0</td>\n",
       "      <td>0</td>\n",
       "      <td>0</td>\n",
       "      <td>1</td>\n",
       "      <td>0</td>\n",
       "      <td>0</td>\n",
       "      <td>0</td>\n",
       "      <td>0</td>\n",
       "      <td>0</td>\n",
       "      <td>0</td>\n",
       "      <td>1</td>\n",
       "      <td>0</td>\n",
       "      <td>0</td>\n",
       "      <td>0</td>\n",
       "    </tr>\n",
       "    <tr>\n",
       "      <th>4</th>\n",
       "      <td>-0.406983</td>\n",
       "      <td>-0.304845</td>\n",
       "      <td>1</td>\n",
       "      <td>0</td>\n",
       "      <td>0</td>\n",
       "      <td>0</td>\n",
       "      <td>1</td>\n",
       "      <td>0</td>\n",
       "      <td>0</td>\n",
       "      <td>0</td>\n",
       "      <td>0</td>\n",
       "      <td>0</td>\n",
       "      <td>0</td>\n",
       "      <td>1</td>\n",
       "      <td>0</td>\n",
       "      <td>0</td>\n",
       "      <td>0</td>\n",
       "    </tr>\n",
       "    <tr>\n",
       "      <th>5</th>\n",
       "      <td>-0.406983</td>\n",
       "      <td>-0.302130</td>\n",
       "      <td>1</td>\n",
       "      <td>0</td>\n",
       "      <td>0</td>\n",
       "      <td>0</td>\n",
       "      <td>1</td>\n",
       "      <td>0</td>\n",
       "      <td>0</td>\n",
       "      <td>0</td>\n",
       "      <td>0</td>\n",
       "      <td>0</td>\n",
       "      <td>0</td>\n",
       "      <td>1</td>\n",
       "      <td>0</td>\n",
       "      <td>0</td>\n",
       "      <td>0</td>\n",
       "    </tr>\n",
       "  </tbody>\n",
       "</table>\n",
       "</div>"
      ],
      "text/plain": [
       "      Price      Diff  Cert_AGSL  Cert_GemEx  Regions_Angola  \\\n",
       "1 -0.407545 -0.302377          1           0               0   \n",
       "2 -0.407545 -0.319409          1           0               0   \n",
       "3 -0.407545 -0.307067          1           0               0   \n",
       "4 -0.406983 -0.304845          1           0               0   \n",
       "5 -0.406983 -0.302130          1           0               0   \n",
       "\n",
       "   Regions_Australia  Regions_Botswana  Regions_Canada  Regions_DR Congo  \\\n",
       "1                  0                 0               0                 0   \n",
       "2                  0                 0               0                 0   \n",
       "3                  0                 1               0                 0   \n",
       "4                  0                 1               0                 0   \n",
       "5                  0                 1               0                 0   \n",
       "\n",
       "   Regions_Other/Unknown  Regions_Russia  Regions_South Africa  \\\n",
       "1                      0               1                     0   \n",
       "2                      0               0                     1   \n",
       "3                      0               0                     0   \n",
       "4                      0               0                     0   \n",
       "5                      0               0                     0   \n",
       "\n",
       "   Regions_Zimbabwe  Vendor_1  Vendor_2  Vendor_3  Vendor_4  \n",
       "1                 0         1         0         0         0  \n",
       "2                 0         1         0         0         0  \n",
       "3                 0         1         0         0         0  \n",
       "4                 0         1         0         0         0  \n",
       "5                 0         1         0         0         0  "
      ]
     },
     "execution_count": 73,
     "metadata": {},
     "output_type": "execute_result"
    }
   ],
   "source": [
    "from sklearn.preprocessing import StandardScaler\n",
    "sc_X = StandardScaler()\n",
    "numericals2 =  pd.DataFrame(sc_X.fit_transform(diamond_clean_data2[['Price', 'Diff']]),\n",
    "                           columns=['Price', 'Diff'],index=diamond_clean_data2.index)\n",
    "\n",
    "diamond_clean_data_standard2 = diamond_clean_data2.copy(deep=True)\n",
    "diamond_clean_data_standard2[['Price', 'Diff']] = numericals2[['Price', 'Diff']]\n",
    "diamond_clean_data_standard2.head()"
   ]
  },
  {
   "cell_type": "code",
   "execution_count": 74,
   "id": "c7866568",
   "metadata": {},
   "outputs": [],
   "source": [
    "x_4 = diamond_clean_data_standard2.drop([\"Diff\"],axis=1)\n",
    "y_4 = diamond_clean_data_standard2.Diff\n",
    "\n",
    "from sklearn.model_selection import train_test_split\n",
    "train_x4, test_x4, train_y4, test_y4 = train_test_split(x_4, y_4,random_state = 2,test_size=0.3)"
   ]
  },
  {
   "cell_type": "code",
   "execution_count": 75,
   "id": "486cf5f2",
   "metadata": {},
   "outputs": [
    {
     "data": {
      "text/plain": [
       "Index(['Price', 'Cert_AGSL', 'Cert_GemEx', 'Regions_Angola',\n",
       "       'Regions_Australia', 'Regions_Botswana', 'Regions_Canada',\n",
       "       'Regions_DR Congo', 'Regions_Other/Unknown', 'Regions_Russia',\n",
       "       'Regions_South Africa', 'Regions_Zimbabwe', 'Vendor_1', 'Vendor_2',\n",
       "       'Vendor_3', 'Vendor_4'],\n",
       "      dtype='object')"
      ]
     },
     "execution_count": 75,
     "metadata": {},
     "output_type": "execute_result"
    }
   ],
   "source": [
    "cols_model = test_x4.columns\n",
    "cols_model"
   ]
  },
  {
   "cell_type": "code",
   "execution_count": 76,
   "id": "571237a0",
   "metadata": {},
   "outputs": [
    {
     "name": "stdout",
     "output_type": "stream",
     "text": [
      "accuracy: 61.13237746045313%\n",
      "Mean absolute error: 0.15582147053290493\n",
      "Mean squared error: 0.3001177501365376\n",
      "R Squared: 0.6113237746045312\n",
      "Adjusted R Squared: 0.5993747189988636\n"
     ]
    }
   ],
   "source": [
    "rig_reg = linear_model.Ridge()\n",
    "rig_reg.fit(train_x4,train_y4)\n",
    "y_pred4 = rig_reg.predict(test_x4)\n",
    "print(\"accuracy: \"+ str(rig_reg.score(test_x4,test_y4)*100) + \"%\")\n",
    "print(\"Mean absolute error: {}\".format(mean_absolute_error(test_y4,y_pred4)))\n",
    "print(\"Mean squared error: {}\".format(mean_squared_error(test_y4,y_pred4)))\n",
    "R2 = r2_score(test_y4,y_pred4)\n",
    "print('R Squared: {}'.format(R2))\n",
    "n=test_x.shape[0]\n",
    "p=test_x.shape[1] - 1\n",
    "\n",
    "adj_rsquared = 1 - (1 - R2) * ((n - 1)/(n-p-1))\n",
    "print('Adjusted R Squared: {}'.format(adj_rsquared))"
   ]
  },
  {
   "cell_type": "markdown",
   "id": "89d5f7cf",
   "metadata": {},
   "source": [
    "### Making the Retail Price predictions\n",
    "\n",
    "Let's finally predict the Retail price at the `offers_df` data. I'll predict the difference between price and retails and automatically predict the retail values."
   ]
  },
  {
   "cell_type": "code",
   "execution_count": 77,
   "id": "7500af9b",
   "metadata": {},
   "outputs": [],
   "source": [
    "predicted_offers_df.dropna(subset=['Cert'], inplace=True)\n",
    "\n",
    "cols_retail_modeling = predicted_offers_df.copy()\n",
    "cols_retail_modeling.drop(['id', 'Carats', 'Clarity', 'Color', 'Cut', 'Depth',\n",
    "       'Fluroescence', 'Known_Conflict_Diamond', 'Measurements', 'Polish',\n",
    "                           'Shape', 'Symmetry', 'Table', 'Offers'], axis=1, inplace=True)"
   ]
  },
  {
   "cell_type": "code",
   "execution_count": 78,
   "id": "48e0dd55",
   "metadata": {},
   "outputs": [],
   "source": [
    "cols_retail_modeling.Vendor = cols_retail_modeling.Vendor.astype(str)"
   ]
  },
  {
   "cell_type": "code",
   "execution_count": 79,
   "id": "7ddc0fc5",
   "metadata": {},
   "outputs": [
    {
     "data": {
      "text/plain": [
       "Index(['Cert', 'Regions', 'Vendor', 'Price'], dtype='object')"
      ]
     },
     "execution_count": 79,
     "metadata": {},
     "output_type": "execute_result"
    }
   ],
   "source": [
    "cols_retail_modeling.columns"
   ]
  },
  {
   "cell_type": "code",
   "execution_count": 80,
   "id": "876de1d3",
   "metadata": {
    "scrolled": true
   },
   "outputs": [],
   "source": [
    "OHE_retail_modeling =  pd.get_dummies(cols_retail_modeling)\n",
    "\n",
    "cols = OHE_retail_modeling.columns\n",
    "diamond_clean_data_final = pd.DataFrame(OHE_retail_modeling,columns= cols)"
   ]
  },
  {
   "cell_type": "code",
   "execution_count": 81,
   "id": "c7b370df",
   "metadata": {},
   "outputs": [
    {
     "data": {
      "text/html": [
       "<div>\n",
       "<style scoped>\n",
       "    .dataframe tbody tr th:only-of-type {\n",
       "        vertical-align: middle;\n",
       "    }\n",
       "\n",
       "    .dataframe tbody tr th {\n",
       "        vertical-align: top;\n",
       "    }\n",
       "\n",
       "    .dataframe thead th {\n",
       "        text-align: right;\n",
       "    }\n",
       "</style>\n",
       "<table border=\"1\" class=\"dataframe\">\n",
       "  <thead>\n",
       "    <tr style=\"text-align: right;\">\n",
       "      <th></th>\n",
       "      <th>Price</th>\n",
       "      <th>Cert_AGSL</th>\n",
       "      <th>Cert_GemEx</th>\n",
       "      <th>Regions_Angola</th>\n",
       "      <th>Regions_Australia</th>\n",
       "      <th>Regions_Botswana</th>\n",
       "      <th>Regions_Canada</th>\n",
       "      <th>Regions_DR Congo</th>\n",
       "      <th>Regions_Other/Unknown</th>\n",
       "      <th>Regions_Russia</th>\n",
       "      <th>Regions_South Africa</th>\n",
       "      <th>Regions_Zimbabwe</th>\n",
       "      <th>Vendor_1</th>\n",
       "      <th>Vendor_2</th>\n",
       "      <th>Vendor_3</th>\n",
       "      <th>Vendor_4</th>\n",
       "    </tr>\n",
       "  </thead>\n",
       "  <tbody>\n",
       "    <tr>\n",
       "      <th>0</th>\n",
       "      <td>-0.483048</td>\n",
       "      <td>1</td>\n",
       "      <td>0</td>\n",
       "      <td>0</td>\n",
       "      <td>1</td>\n",
       "      <td>0</td>\n",
       "      <td>0</td>\n",
       "      <td>0</td>\n",
       "      <td>0</td>\n",
       "      <td>0</td>\n",
       "      <td>0</td>\n",
       "      <td>0</td>\n",
       "      <td>1</td>\n",
       "      <td>0</td>\n",
       "      <td>0</td>\n",
       "      <td>0</td>\n",
       "    </tr>\n",
       "    <tr>\n",
       "      <th>1</th>\n",
       "      <td>-0.477731</td>\n",
       "      <td>0</td>\n",
       "      <td>1</td>\n",
       "      <td>0</td>\n",
       "      <td>1</td>\n",
       "      <td>0</td>\n",
       "      <td>0</td>\n",
       "      <td>0</td>\n",
       "      <td>0</td>\n",
       "      <td>0</td>\n",
       "      <td>0</td>\n",
       "      <td>0</td>\n",
       "      <td>1</td>\n",
       "      <td>0</td>\n",
       "      <td>0</td>\n",
       "      <td>0</td>\n",
       "    </tr>\n",
       "    <tr>\n",
       "      <th>2</th>\n",
       "      <td>-0.483457</td>\n",
       "      <td>1</td>\n",
       "      <td>0</td>\n",
       "      <td>0</td>\n",
       "      <td>0</td>\n",
       "      <td>0</td>\n",
       "      <td>0</td>\n",
       "      <td>1</td>\n",
       "      <td>0</td>\n",
       "      <td>0</td>\n",
       "      <td>0</td>\n",
       "      <td>0</td>\n",
       "      <td>1</td>\n",
       "      <td>0</td>\n",
       "      <td>0</td>\n",
       "      <td>0</td>\n",
       "    </tr>\n",
       "    <tr>\n",
       "      <th>3</th>\n",
       "      <td>-0.479625</td>\n",
       "      <td>1</td>\n",
       "      <td>0</td>\n",
       "      <td>1</td>\n",
       "      <td>0</td>\n",
       "      <td>0</td>\n",
       "      <td>0</td>\n",
       "      <td>0</td>\n",
       "      <td>0</td>\n",
       "      <td>0</td>\n",
       "      <td>0</td>\n",
       "      <td>0</td>\n",
       "      <td>1</td>\n",
       "      <td>0</td>\n",
       "      <td>0</td>\n",
       "      <td>0</td>\n",
       "    </tr>\n",
       "    <tr>\n",
       "      <th>4</th>\n",
       "      <td>-0.479559</td>\n",
       "      <td>1</td>\n",
       "      <td>0</td>\n",
       "      <td>0</td>\n",
       "      <td>0</td>\n",
       "      <td>0</td>\n",
       "      <td>0</td>\n",
       "      <td>0</td>\n",
       "      <td>0</td>\n",
       "      <td>1</td>\n",
       "      <td>0</td>\n",
       "      <td>0</td>\n",
       "      <td>1</td>\n",
       "      <td>0</td>\n",
       "      <td>0</td>\n",
       "      <td>0</td>\n",
       "    </tr>\n",
       "  </tbody>\n",
       "</table>\n",
       "</div>"
      ],
      "text/plain": [
       "      Price  Cert_AGSL  Cert_GemEx  Regions_Angola  Regions_Australia  \\\n",
       "0 -0.483048          1           0               0                  1   \n",
       "1 -0.477731          0           1               0                  1   \n",
       "2 -0.483457          1           0               0                  0   \n",
       "3 -0.479625          1           0               1                  0   \n",
       "4 -0.479559          1           0               0                  0   \n",
       "\n",
       "   Regions_Botswana  Regions_Canada  Regions_DR Congo  Regions_Other/Unknown  \\\n",
       "0                 0               0                 0                      0   \n",
       "1                 0               0                 0                      0   \n",
       "2                 0               0                 1                      0   \n",
       "3                 0               0                 0                      0   \n",
       "4                 0               0                 0                      0   \n",
       "\n",
       "   Regions_Russia  Regions_South Africa  Regions_Zimbabwe  Vendor_1  Vendor_2  \\\n",
       "0               0                     0                 0         1         0   \n",
       "1               0                     0                 0         1         0   \n",
       "2               0                     0                 0         1         0   \n",
       "3               0                     0                 0         1         0   \n",
       "4               1                     0                 0         1         0   \n",
       "\n",
       "   Vendor_3  Vendor_4  \n",
       "0         0         0  \n",
       "1         0         0  \n",
       "2         0         0  \n",
       "3         0         0  \n",
       "4         0         0  "
      ]
     },
     "execution_count": 81,
     "metadata": {},
     "output_type": "execute_result"
    }
   ],
   "source": [
    "from sklearn.preprocessing import StandardScaler\n",
    "sc_X = StandardScaler()\n",
    "numericals =  pd.DataFrame(sc_X.fit_transform(diamond_clean_data_final[['Price']]),\n",
    "                           columns=['Price'],index=diamond_clean_data_final.index)\n",
    "\n",
    "diamond_clean_data_standard_final = diamond_clean_data_final.copy(deep=True)\n",
    "diamond_clean_data_standard_final[['Price']] = numericals[['Price']]\n",
    "diamond_clean_data_standard_final.head()"
   ]
  },
  {
   "cell_type": "code",
   "execution_count": 82,
   "id": "4fe67c7b",
   "metadata": {},
   "outputs": [
    {
     "data": {
      "text/plain": [
       "Index(['Price', 'Cert_AGSL', 'Cert_GemEx', 'Regions_Angola',\n",
       "       'Regions_Australia', 'Regions_Botswana', 'Regions_Canada',\n",
       "       'Regions_DR Congo', 'Regions_Other/Unknown', 'Regions_Russia',\n",
       "       'Regions_South Africa', 'Regions_Zimbabwe', 'Vendor_1', 'Vendor_2',\n",
       "       'Vendor_3', 'Vendor_4'],\n",
       "      dtype='object')"
      ]
     },
     "execution_count": 82,
     "metadata": {},
     "output_type": "execute_result"
    }
   ],
   "source": [
    "cols_final = diamond_clean_data_standard_final.columns\n",
    "cols_final"
   ]
  },
  {
   "cell_type": "code",
   "execution_count": 83,
   "id": "4198ccf2",
   "metadata": {},
   "outputs": [
    {
     "data": {
      "text/plain": [
       "[]"
      ]
     },
     "execution_count": 83,
     "metadata": {},
     "output_type": "execute_result"
    }
   ],
   "source": [
    "list(set(cols_model) - set(cols_final))"
   ]
  },
  {
   "cell_type": "code",
   "execution_count": 84,
   "id": "3494e6bf",
   "metadata": {},
   "outputs": [
    {
     "data": {
      "text/html": [
       "<div>\n",
       "<style scoped>\n",
       "    .dataframe tbody tr th:only-of-type {\n",
       "        vertical-align: middle;\n",
       "    }\n",
       "\n",
       "    .dataframe tbody tr th {\n",
       "        vertical-align: top;\n",
       "    }\n",
       "\n",
       "    .dataframe thead th {\n",
       "        text-align: right;\n",
       "    }\n",
       "</style>\n",
       "<table border=\"1\" class=\"dataframe\">\n",
       "  <thead>\n",
       "    <tr style=\"text-align: right;\">\n",
       "      <th></th>\n",
       "      <th>id</th>\n",
       "      <th>Carats</th>\n",
       "      <th>Cert</th>\n",
       "      <th>Clarity</th>\n",
       "      <th>Color</th>\n",
       "      <th>Cut</th>\n",
       "      <th>Depth</th>\n",
       "      <th>Fluroescence</th>\n",
       "      <th>Known_Conflict_Diamond</th>\n",
       "      <th>Measurements</th>\n",
       "      <th>Polish</th>\n",
       "      <th>Regions</th>\n",
       "      <th>Shape</th>\n",
       "      <th>Symmetry</th>\n",
       "      <th>Table</th>\n",
       "      <th>Vendor</th>\n",
       "      <th>Offers</th>\n",
       "      <th>Price</th>\n",
       "      <th>Difference</th>\n",
       "      <th>Retail</th>\n",
       "    </tr>\n",
       "  </thead>\n",
       "  <tbody>\n",
       "    <tr>\n",
       "      <th>0</th>\n",
       "      <td>8051</td>\n",
       "      <td>0.42</td>\n",
       "      <td>AGSL</td>\n",
       "      <td>SI2</td>\n",
       "      <td>L</td>\n",
       "      <td></td>\n",
       "      <td>62.7</td>\n",
       "      <td>None</td>\n",
       "      <td>NaN</td>\n",
       "      <td>4.81x4.78x3.01</td>\n",
       "      <td>Excellent</td>\n",
       "      <td>Australia</td>\n",
       "      <td>Round</td>\n",
       "      <td>Excellent</td>\n",
       "      <td>57.0</td>\n",
       "      <td>1</td>\n",
       "      <td>NaN</td>\n",
       "      <td>650.076271</td>\n",
       "      <td>13291.198615</td>\n",
       "      <td>13941.274886</td>\n",
       "    </tr>\n",
       "    <tr>\n",
       "      <th>1</th>\n",
       "      <td>8052</td>\n",
       "      <td>0.40</td>\n",
       "      <td>GemEx</td>\n",
       "      <td>VS2</td>\n",
       "      <td>M</td>\n",
       "      <td></td>\n",
       "      <td>63.8</td>\n",
       "      <td>None</td>\n",
       "      <td>NaN</td>\n",
       "      <td>4.64x4.61x2.95</td>\n",
       "      <td>Excellent</td>\n",
       "      <td>Australia</td>\n",
       "      <td>Round</td>\n",
       "      <td>Excellent</td>\n",
       "      <td>59.0</td>\n",
       "      <td>1</td>\n",
       "      <td>NaN</td>\n",
       "      <td>981.658969</td>\n",
       "      <td>13476.532632</td>\n",
       "      <td>14458.191601</td>\n",
       "    </tr>\n",
       "    <tr>\n",
       "      <th>2</th>\n",
       "      <td>8053</td>\n",
       "      <td>0.41</td>\n",
       "      <td>AGSL</td>\n",
       "      <td>SI2</td>\n",
       "      <td>L</td>\n",
       "      <td></td>\n",
       "      <td>62.2</td>\n",
       "      <td>None</td>\n",
       "      <td>True</td>\n",
       "      <td>4.76x4.74x2.95</td>\n",
       "      <td>Excellent</td>\n",
       "      <td>DR Congo</td>\n",
       "      <td>Round</td>\n",
       "      <td>Very good</td>\n",
       "      <td>58.0</td>\n",
       "      <td>1</td>\n",
       "      <td>NaN</td>\n",
       "      <td>624.543823</td>\n",
       "      <td>-6794.487580</td>\n",
       "      <td>-6169.943757</td>\n",
       "    </tr>\n",
       "    <tr>\n",
       "      <th>3</th>\n",
       "      <td>8054</td>\n",
       "      <td>0.40</td>\n",
       "      <td>AGSL</td>\n",
       "      <td>SI1</td>\n",
       "      <td>K</td>\n",
       "      <td></td>\n",
       "      <td>64.2</td>\n",
       "      <td>Strong Bl..</td>\n",
       "      <td>False</td>\n",
       "      <td>4.63x4.59x2.96</td>\n",
       "      <td>Very good</td>\n",
       "      <td>Angola</td>\n",
       "      <td>Emerald</td>\n",
       "      <td>Very good</td>\n",
       "      <td>58.0</td>\n",
       "      <td>1</td>\n",
       "      <td>NaN</td>\n",
       "      <td>863.506354</td>\n",
       "      <td>3241.140613</td>\n",
       "      <td>4104.646967</td>\n",
       "    </tr>\n",
       "    <tr>\n",
       "      <th>4</th>\n",
       "      <td>8055</td>\n",
       "      <td>0.40</td>\n",
       "      <td>AGSL</td>\n",
       "      <td>VS2</td>\n",
       "      <td>L</td>\n",
       "      <td></td>\n",
       "      <td>64.3</td>\n",
       "      <td>NaN</td>\n",
       "      <td>False</td>\n",
       "      <td>4.67x4.62x2.99</td>\n",
       "      <td>Excellent</td>\n",
       "      <td>Russia</td>\n",
       "      <td>Round</td>\n",
       "      <td>Very good</td>\n",
       "      <td>NaN</td>\n",
       "      <td>1</td>\n",
       "      <td>NaN</td>\n",
       "      <td>867.646728</td>\n",
       "      <td>13504.229235</td>\n",
       "      <td>14371.875963</td>\n",
       "    </tr>\n",
       "    <tr>\n",
       "      <th>5</th>\n",
       "      <td>8056</td>\n",
       "      <td>0.40</td>\n",
       "      <td>AGSL</td>\n",
       "      <td>SI2</td>\n",
       "      <td>K</td>\n",
       "      <td></td>\n",
       "      <td>59.8</td>\n",
       "      <td>None</td>\n",
       "      <td>NaN</td>\n",
       "      <td>4.8*4.76x2.86</td>\n",
       "      <td>Very good</td>\n",
       "      <td>Russia</td>\n",
       "      <td>Emerald</td>\n",
       "      <td>Very good</td>\n",
       "      <td>61.0</td>\n",
       "      <td>1</td>\n",
       "      <td>NaN</td>\n",
       "      <td>718.765734</td>\n",
       "      <td>13409.612757</td>\n",
       "      <td>14128.378491</td>\n",
       "    </tr>\n",
       "    <tr>\n",
       "      <th>6</th>\n",
       "      <td>8057</td>\n",
       "      <td>0.40</td>\n",
       "      <td>AGSL</td>\n",
       "      <td>VS1</td>\n",
       "      <td>L</td>\n",
       "      <td></td>\n",
       "      <td>64.0</td>\n",
       "      <td>None</td>\n",
       "      <td>NaN</td>\n",
       "      <td>4.69x4.62x2.98</td>\n",
       "      <td>Very good</td>\n",
       "      <td>Botswana</td>\n",
       "      <td>Emerald</td>\n",
       "      <td>Good</td>\n",
       "      <td>56.0</td>\n",
       "      <td>1</td>\n",
       "      <td>NaN</td>\n",
       "      <td>873.851357</td>\n",
       "      <td>10024.125096</td>\n",
       "      <td>10897.976453</td>\n",
       "    </tr>\n",
       "    <tr>\n",
       "      <th>7</th>\n",
       "      <td>8058</td>\n",
       "      <td>0.42</td>\n",
       "      <td>AGSL</td>\n",
       "      <td>VVS2</td>\n",
       "      <td>M</td>\n",
       "      <td></td>\n",
       "      <td>NaN</td>\n",
       "      <td>Medium Bl..</td>\n",
       "      <td>NaN</td>\n",
       "      <td>4.81x4.79x2.89</td>\n",
       "      <td>Very good</td>\n",
       "      <td>Russia</td>\n",
       "      <td>Round</td>\n",
       "      <td>Very good</td>\n",
       "      <td>NaN</td>\n",
       "      <td>1</td>\n",
       "      <td>NaN</td>\n",
       "      <td>819.325635</td>\n",
       "      <td>13473.520335</td>\n",
       "      <td>14292.845970</td>\n",
       "    </tr>\n",
       "    <tr>\n",
       "      <th>8</th>\n",
       "      <td>8059</td>\n",
       "      <td>0.41</td>\n",
       "      <td>AGSL</td>\n",
       "      <td>SI1</td>\n",
       "      <td>K</td>\n",
       "      <td></td>\n",
       "      <td>61.3</td>\n",
       "      <td>Strong Bl..</td>\n",
       "      <td>False</td>\n",
       "      <td>4.8x4.77x2.93</td>\n",
       "      <td>Very good</td>\n",
       "      <td>Australia</td>\n",
       "      <td>Round</td>\n",
       "      <td>Excellent</td>\n",
       "      <td>59.0</td>\n",
       "      <td>1</td>\n",
       "      <td>NaN</td>\n",
       "      <td>920.715750</td>\n",
       "      <td>13463.194742</td>\n",
       "      <td>14383.910492</td>\n",
       "    </tr>\n",
       "    <tr>\n",
       "      <th>9</th>\n",
       "      <td>8060</td>\n",
       "      <td>0.40</td>\n",
       "      <td>GemEx</td>\n",
       "      <td>SI1</td>\n",
       "      <td>K</td>\n",
       "      <td></td>\n",
       "      <td>62.7</td>\n",
       "      <td>Medium Bl..</td>\n",
       "      <td>False</td>\n",
       "      <td>4.75x4.69x2.96</td>\n",
       "      <td>Good</td>\n",
       "      <td>Australia</td>\n",
       "      <td>Round</td>\n",
       "      <td>Very good</td>\n",
       "      <td>57.0</td>\n",
       "      <td>1</td>\n",
       "      <td>NaN</td>\n",
       "      <td>871.690594</td>\n",
       "      <td>13406.645804</td>\n",
       "      <td>14278.336397</td>\n",
       "    </tr>\n",
       "  </tbody>\n",
       "</table>\n",
       "</div>"
      ],
      "text/plain": [
       "     id  Carats   Cert Clarity Color Cut  Depth Fluroescence  \\\n",
       "0  8051    0.42   AGSL     SI2     L       62.7         None   \n",
       "1  8052    0.40  GemEx     VS2     M       63.8         None   \n",
       "2  8053    0.41   AGSL     SI2     L       62.2         None   \n",
       "3  8054    0.40   AGSL     SI1     K       64.2  Strong Bl..   \n",
       "4  8055    0.40   AGSL     VS2     L       64.3          NaN   \n",
       "5  8056    0.40   AGSL     SI2     K       59.8         None   \n",
       "6  8057    0.40   AGSL     VS1     L       64.0         None   \n",
       "7  8058    0.42   AGSL    VVS2     M        NaN  Medium Bl..   \n",
       "8  8059    0.41   AGSL     SI1     K       61.3  Strong Bl..   \n",
       "9  8060    0.40  GemEx     SI1     K       62.7  Medium Bl..   \n",
       "\n",
       "  Known_Conflict_Diamond    Measurements     Polish    Regions    Shape  \\\n",
       "0                    NaN  4.81x4.78x3.01  Excellent  Australia    Round   \n",
       "1                    NaN  4.64x4.61x2.95  Excellent  Australia    Round   \n",
       "2                   True  4.76x4.74x2.95  Excellent   DR Congo    Round   \n",
       "3                  False  4.63x4.59x2.96  Very good     Angola  Emerald   \n",
       "4                  False  4.67x4.62x2.99  Excellent     Russia    Round   \n",
       "5                    NaN   4.8*4.76x2.86  Very good     Russia  Emerald   \n",
       "6                    NaN  4.69x4.62x2.98  Very good   Botswana  Emerald   \n",
       "7                    NaN  4.81x4.79x2.89  Very good     Russia    Round   \n",
       "8                  False   4.8x4.77x2.93  Very good  Australia    Round   \n",
       "9                  False  4.75x4.69x2.96       Good  Australia    Round   \n",
       "\n",
       "    Symmetry  Table  Vendor  Offers       Price    Difference        Retail  \n",
       "0  Excellent   57.0       1     NaN  650.076271  13291.198615  13941.274886  \n",
       "1  Excellent   59.0       1     NaN  981.658969  13476.532632  14458.191601  \n",
       "2  Very good   58.0       1     NaN  624.543823  -6794.487580  -6169.943757  \n",
       "3  Very good   58.0       1     NaN  863.506354   3241.140613   4104.646967  \n",
       "4  Very good    NaN       1     NaN  867.646728  13504.229235  14371.875963  \n",
       "5  Very good   61.0       1     NaN  718.765734  13409.612757  14128.378491  \n",
       "6       Good   56.0       1     NaN  873.851357  10024.125096  10897.976453  \n",
       "7  Very good    NaN       1     NaN  819.325635  13473.520335  14292.845970  \n",
       "8  Excellent   59.0       1     NaN  920.715750  13463.194742  14383.910492  \n",
       "9  Very good   57.0       1     NaN  871.690594  13406.645804  14278.336397  "
      ]
     },
     "execution_count": 84,
     "metadata": {},
     "output_type": "execute_result"
    }
   ],
   "source": [
    "y_retail_pred = rig_reg.predict(diamond_clean_data_standard_final)\n",
    "predicted_offers_df['Difference'] = sc_X.inverse_transform(y_retail_pred)\n",
    "predicted_offers_df['Retail'] = predicted_offers_df['Difference'] + predicted_offers_df['Price']\n",
    "predicted_offers_df.head(10)"
   ]
  },
  {
   "cell_type": "code",
   "execution_count": 85,
   "id": "35b9d468",
   "metadata": {},
   "outputs": [
    {
     "data": {
      "text/html": [
       "<div>\n",
       "<style scoped>\n",
       "    .dataframe tbody tr th:only-of-type {\n",
       "        vertical-align: middle;\n",
       "    }\n",
       "\n",
       "    .dataframe tbody tr th {\n",
       "        vertical-align: top;\n",
       "    }\n",
       "\n",
       "    .dataframe thead th {\n",
       "        text-align: right;\n",
       "    }\n",
       "</style>\n",
       "<table border=\"1\" class=\"dataframe\">\n",
       "  <thead>\n",
       "    <tr style=\"text-align: right;\">\n",
       "      <th></th>\n",
       "      <th>id</th>\n",
       "      <th>Carats</th>\n",
       "      <th>Depth</th>\n",
       "      <th>Table</th>\n",
       "      <th>Vendor</th>\n",
       "      <th>Offers</th>\n",
       "      <th>Price</th>\n",
       "      <th>Difference</th>\n",
       "      <th>Retail</th>\n",
       "    </tr>\n",
       "  </thead>\n",
       "  <tbody>\n",
       "    <tr>\n",
       "      <th>count</th>\n",
       "      <td>2470.000000</td>\n",
       "      <td>2470.000000</td>\n",
       "      <td>2005.000000</td>\n",
       "      <td>1683.000000</td>\n",
       "      <td>2470.000000</td>\n",
       "      <td>0.0</td>\n",
       "      <td>2.470000e+03</td>\n",
       "      <td>2470.000000</td>\n",
       "      <td>2.470000e+03</td>\n",
       "    </tr>\n",
       "    <tr>\n",
       "      <th>mean</th>\n",
       "      <td>9390.072065</td>\n",
       "      <td>1.269648</td>\n",
       "      <td>61.780499</td>\n",
       "      <td>58.121212</td>\n",
       "      <td>2.046964</td>\n",
       "      <td>NaN</td>\n",
       "      <td>3.077742e+04</td>\n",
       "      <td>30594.603219</td>\n",
       "      <td>6.137202e+04</td>\n",
       "    </tr>\n",
       "    <tr>\n",
       "      <th>std</th>\n",
       "      <td>773.980321</td>\n",
       "      <td>0.910942</td>\n",
       "      <td>1.394698</td>\n",
       "      <td>2.090871</td>\n",
       "      <td>0.979447</td>\n",
       "      <td>NaN</td>\n",
       "      <td>6.238195e+04</td>\n",
       "      <td>40414.015399</td>\n",
       "      <td>1.022746e+05</td>\n",
       "    </tr>\n",
       "    <tr>\n",
       "      <th>min</th>\n",
       "      <td>8051.000000</td>\n",
       "      <td>0.400000</td>\n",
       "      <td>56.100000</td>\n",
       "      <td>43.000000</td>\n",
       "      <td>1.000000</td>\n",
       "      <td>NaN</td>\n",
       "      <td>1.486630e+00</td>\n",
       "      <td>-14967.661653</td>\n",
       "      <td>-1.339897e+04</td>\n",
       "    </tr>\n",
       "    <tr>\n",
       "      <th>25%</th>\n",
       "      <td>8720.250000</td>\n",
       "      <td>0.700000</td>\n",
       "      <td>60.900000</td>\n",
       "      <td>57.000000</td>\n",
       "      <td>1.000000</td>\n",
       "      <td>NaN</td>\n",
       "      <td>1.529249e+03</td>\n",
       "      <td>13467.962471</td>\n",
       "      <td>1.513911e+04</td>\n",
       "    </tr>\n",
       "    <tr>\n",
       "      <th>50%</th>\n",
       "      <td>9392.500000</td>\n",
       "      <td>1.050000</td>\n",
       "      <td>62.000000</td>\n",
       "      <td>58.000000</td>\n",
       "      <td>2.000000</td>\n",
       "      <td>NaN</td>\n",
       "      <td>3.951803e+03</td>\n",
       "      <td>18805.748938</td>\n",
       "      <td>2.182363e+04</td>\n",
       "    </tr>\n",
       "    <tr>\n",
       "      <th>75%</th>\n",
       "      <td>10055.750000</td>\n",
       "      <td>1.510000</td>\n",
       "      <td>62.600000</td>\n",
       "      <td>59.000000</td>\n",
       "      <td>3.000000</td>\n",
       "      <td>NaN</td>\n",
       "      <td>3.598558e+04</td>\n",
       "      <td>34283.750180</td>\n",
       "      <td>6.833784e+04</td>\n",
       "    </tr>\n",
       "    <tr>\n",
       "      <th>max</th>\n",
       "      <td>10733.000000</td>\n",
       "      <td>10.050000</td>\n",
       "      <td>67.300000</td>\n",
       "      <td>70.000000</td>\n",
       "      <td>4.000000</td>\n",
       "      <td>NaN</td>\n",
       "      <td>1.066146e+06</td>\n",
       "      <td>673070.995202</td>\n",
       "      <td>1.739217e+06</td>\n",
       "    </tr>\n",
       "  </tbody>\n",
       "</table>\n",
       "</div>"
      ],
      "text/plain": [
       "                 id       Carats        Depth        Table       Vendor  \\\n",
       "count   2470.000000  2470.000000  2005.000000  1683.000000  2470.000000   \n",
       "mean    9390.072065     1.269648    61.780499    58.121212     2.046964   \n",
       "std      773.980321     0.910942     1.394698     2.090871     0.979447   \n",
       "min     8051.000000     0.400000    56.100000    43.000000     1.000000   \n",
       "25%     8720.250000     0.700000    60.900000    57.000000     1.000000   \n",
       "50%     9392.500000     1.050000    62.000000    58.000000     2.000000   \n",
       "75%    10055.750000     1.510000    62.600000    59.000000     3.000000   \n",
       "max    10733.000000    10.050000    67.300000    70.000000     4.000000   \n",
       "\n",
       "       Offers         Price     Difference        Retail  \n",
       "count     0.0  2.470000e+03    2470.000000  2.470000e+03  \n",
       "mean      NaN  3.077742e+04   30594.603219  6.137202e+04  \n",
       "std       NaN  6.238195e+04   40414.015399  1.022746e+05  \n",
       "min       NaN  1.486630e+00  -14967.661653 -1.339897e+04  \n",
       "25%       NaN  1.529249e+03   13467.962471  1.513911e+04  \n",
       "50%       NaN  3.951803e+03   18805.748938  2.182363e+04  \n",
       "75%       NaN  3.598558e+04   34283.750180  6.833784e+04  \n",
       "max       NaN  1.066146e+06  673070.995202  1.739217e+06  "
      ]
     },
     "execution_count": 85,
     "metadata": {},
     "output_type": "execute_result"
    }
   ],
   "source": [
    "predicted_offers_df.describe()"
   ]
  },
  {
   "cell_type": "code",
   "execution_count": 86,
   "id": "9425d407",
   "metadata": {},
   "outputs": [
    {
     "data": {
      "text/plain": [
       "151588899.29950756"
      ]
     },
     "execution_count": 86,
     "metadata": {},
     "output_type": "execute_result"
    }
   ],
   "source": [
    "predicted_offers_df.Retail.sum()"
   ]
  },
  {
   "cell_type": "markdown",
   "id": "8ccce2ce",
   "metadata": {},
   "source": [
    "## Making the Offers"
   ]
  },
  {
   "cell_type": "markdown",
   "id": "39e8b853",
   "metadata": {},
   "source": [
    "Let's finally make the **final offer**. I will select the `Retail` values that are higher than zero and the negative values of the `Difference` column."
   ]
  },
  {
   "cell_type": "code",
   "execution_count": 87,
   "id": "00827962",
   "metadata": {
    "scrolled": true
   },
   "outputs": [
    {
     "data": {
      "text/plain": [
       "152116876.57993048"
      ]
     },
     "execution_count": 87,
     "metadata": {},
     "output_type": "execute_result"
    }
   ],
   "source": [
    "retail_higher_than = predicted_offers_df[predicted_offers_df['Retail']>0]\n",
    "retail_higher_than.Retail.abs().sum()"
   ]
  },
  {
   "cell_type": "code",
   "execution_count": 88,
   "id": "cd037c1c",
   "metadata": {
    "scrolled": false
   },
   "outputs": [
    {
     "name": "stdout",
     "output_type": "stream",
     "text": [
      "Sum of Retail:  224424.80903053714\n",
      "Sum of Difference:  74944.86810763882\n"
     ]
    }
   ],
   "source": [
    "retail_diff = retail_higher_than[retail_higher_than['Difference']<0]\n",
    "print('Sum of Retail: ', retail_diff.Retail.abs().sum())\n",
    "print('Sum of Difference: ', retail_diff.Difference.abs().sum())"
   ]
  },
  {
   "cell_type": "markdown",
   "id": "479df16e",
   "metadata": {},
   "source": [
    "The sum of retail prices is on our budget. And the predicted Profit is almost $75.000\n",
    "\n",
    "To do the offering, i'll add a 5% on the Retail price to increase our chance to get the proposal accepted."
   ]
  },
  {
   "cell_type": "code",
   "execution_count": 89,
   "id": "d446a056",
   "metadata": {},
   "outputs": [],
   "source": [
    "offers_indices = predicted_offers_df[(predicted_offers_df['Retail']>0) & (predicted_offers_df['Difference']<0)]\n",
    "offers_indices = offers_indices.index.tolist()"
   ]
  },
  {
   "cell_type": "code",
   "execution_count": 90,
   "id": "91c542ef",
   "metadata": {},
   "outputs": [],
   "source": [
    "for i in offers_indices:\n",
    "    value = predicted_offers_df.loc[i,'Retail']*1.05\n",
    "    predicted_offers_df.loc[i,'Offers'] = value"
   ]
  },
  {
   "cell_type": "code",
   "execution_count": 91,
   "id": "19c59363",
   "metadata": {},
   "outputs": [
    {
     "name": "stdout",
     "output_type": "stream",
     "text": [
      "Budget Used: $235646.05\n",
      "Expected Profit: $71197.62\n"
     ]
    }
   ],
   "source": [
    "print('Budget Used: ${:.2f}'.format(predicted_offers_df.Offers.abs().sum()))\n",
    "print('Expected Profit: ${:.2f}'.format(retail_diff.Difference.abs().sum()*0.95))"
   ]
  },
  {
   "cell_type": "code",
   "execution_count": 92,
   "id": "a1dfcaf2",
   "metadata": {},
   "outputs": [],
   "source": [
    "predicted_offers_df.to_csv('offers_complete_ivan.csv', sep=\";\", decimal=\",\")"
   ]
  },
  {
   "cell_type": "markdown",
   "id": "53a8b559",
   "metadata": {},
   "source": [
    "## Bibliography\n",
    "\n",
    "[1]: Mamonov, S., & Triantoro, T. (2018). Subjectivity of diamond prices in online retail: Insights from a data mining study. Journal of Theoretical and Applied Electronic Commerce Research, 13(2), 15–28. https://doi.org/10.4067/S0718-18762018000200103\n",
    "\n",
    "[2]: GIA. (2016) GIA gem encyclopedia. GIA Website. [Online]. Available: http://www.gia.edu/diamond.\n",
    "\n",
    "[3]: Y. -K. Ng, Diamonds are a government’s best friend: burden-free taxes on goods valued for their values, The American Economic Review, vol. 77, no. 1, pp. 186-191, 1987\n",
    "\n",
    "[4]: S. Salop and J. E. Stiglitz, Bargains and ripoffs: A model of monopolistically competitive price dispersion, The Review of Economic Studies, vol. 44, no. 3, pp. 493-510, 1977.\n",
    "\n",
    "[5]: GIA. (2016) Diamond quality factors. GIA Website. [Online]. Available: http://www.gia.edu/diamond-quality-factor.\n",
    "\n",
    "[6]: GIA. (2016) GIA 4Cs. GIA Website. [Online]. Available: http://www.gia.edu/gia-about/4Cs-Cut.\n",
    "\n",
    "[7]: N. Vaillant and F. Wolff. (2013) Understanding Diamond Pricing Using Unconditional Quantile Regressions. HAL. [Online]. Available: https://halshs.archives-ouvertes.fr/halshs-00853384/document\n",
    "\n",
    "[8]: F.-C. Wolff, Does price dispersion increase with quality? Evidence from the online diamond market, Applied Economics, vol. 47, no. 55, pp. 5996-6009, 2015.\n",
    "\n",
    "[9]: D. Clark. (2016) How to choose a diamond. International Gem Society.\n",
    "[Online]. Available: https://www.gemsociety.org/article/choosing-a-diamond/."
   ]
  }
 ],
 "metadata": {
  "kernelspec": {
   "display_name": "Python 3",
   "language": "python",
   "name": "python3"
  },
  "language_info": {
   "codemirror_mode": {
    "name": "ipython",
    "version": 3
   },
   "file_extension": ".py",
   "mimetype": "text/x-python",
   "name": "python",
   "nbconvert_exporter": "python",
   "pygments_lexer": "ipython3",
   "version": "3.8.8"
  }
 },
 "nbformat": 4,
 "nbformat_minor": 5
}
