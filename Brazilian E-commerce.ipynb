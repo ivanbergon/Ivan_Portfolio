{
 "cells": [
  {
   "cell_type": "markdown",
   "id": "5972794c",
   "metadata": {},
   "source": [
    "# Brazilian public e-commerce dataset analysis\n",
    "\n",
    "## Project objectives:\n",
    "\n",
    "- Clustering the costumers\n",
    "- Predict future sales\n",
    "- Delivery performance analysis\n",
    "- Product quality\n",
    "- Feature engineering\n",
    "\n",
    "## Dataset context\n",
    "\n",
    "This dataset was obtained though [Kaggle public datasets](https://www.kaggle.com/olistbr/brazilian-ecommerce) and it was originally provided by Olist, the largest department store in Brazilian marketplaces. Olist connects small businesses from all over Brazil to channels without hassle and with a single contract. Those merchants are able to sell their products through the Olist Store and ship them directly to the customers using Olist logistics partners.\n",
    "\n",
    "After a customer purchases the product from Olist Store a seller gets notified to fulfill that order. Once the customer receives the product, or the estimated delivery date is due, the customer gets a satisfaction survey by email where he can give a note for the purchase experience and write down some comments.\n",
    "\n",
    "This is real commercial data, it has been anonymised, and references to the companies and partners in the review text have been replaced with the names of Game of Thrones great houses.\n",
    "\n",
    "The dataset has information of 100k orders from 2016 to 2018 made at multiple marketplaces in Brazil.\n",
    "\n",
    "\n",
    "### Data scheme\n",
    "![](https://i.imgur.com/HRhd2Y0.png)\n"
   ]
  },
  {
   "cell_type": "code",
   "execution_count": 18,
   "id": "ac23eca3",
   "metadata": {},
   "outputs": [],
   "source": [
    "import pandas as pd"
   ]
  },
  {
   "cell_type": "code",
   "execution_count": null,
   "id": "27f229b4",
   "metadata": {},
   "outputs": [],
   "source": [
    "# Files names:\n",
    "olist_customers_dataset.csv\n",
    "olist_geolocation_dataset.csv\n",
    "olist_orders_dataset.csv\n",
    "olist_order_items_dataset.csv\n",
    "olist_order_payments_dataset.csv\n",
    "olist_order_reviews_dataset.csv\n",
    "olist_products_dataset.csv\n",
    "olist_sellers_dataset.csv\n",
    "product_category_name_translation.csv"
   ]
  },
  {
   "cell_type": "code",
   "execution_count": 20,
   "id": "ed317ad4",
   "metadata": {},
   "outputs": [
    {
     "ename": "SyntaxError",
     "evalue": "EOL while scanning string literal (<ipython-input-20-5c6cf3673e86>, line 2)",
     "output_type": "error",
     "traceback": [
      "\u001b[1;36m  File \u001b[1;32m\"<ipython-input-20-5c6cf3673e86>\"\u001b[1;36m, line \u001b[1;32m2\u001b[0m\n\u001b[1;33m    raw_path = \"D:\\Ivan\\Documentos\\Documentos - Outros\\Data Science\\Github\\Ivan_Portfolio\\database\\Brazilian e-commerce\\\"\u001b[0m\n\u001b[1;37m                                                                                                                         ^\u001b[0m\n\u001b[1;31mSyntaxError\u001b[0m\u001b[1;31m:\u001b[0m EOL while scanning string literal\n"
     ]
    }
   ],
   "source": [
    "# reading the files\n",
    "raw_path = \"D:\\Ivan\\Documentos\\Documentos - Outros\\Data Science\\Github\\Ivan_Portfolio\\database\\Brazilian e-commerce\\\"\n",
    "olist_customer = pd.read_csv(raw_path + 'olist_customers_dataset.csv')\n",
    "olist_geolocation = pd.read_csv(raw_path + 'olist_geolocation_dataset.csv')\n",
    "olist_orders = pd.read_csv(raw_path + 'olist_orders_dataset.csv')\n",
    "olist_order_items = pd.read_csv(raw_path + 'olist_order_items_dataset.csv')\n",
    "olist_order_payments = pd.read_csv(raw_path + 'olist_order_payments_dataset.csv')\n",
    "olist_order_reviews = pd.read_csv(raw_path + 'olist_order_reviews_dataset.csv')\n",
    "olist_products = pd.read_csv(raw_path + 'olist_products_dataset.csv')\n",
    "olist_sellers = pd.read_csv(raw_path + 'olist_sellers_dataset.csv')"
   ]
  },
  {
   "cell_type": "code",
   "execution_count": null,
   "id": "27168616",
   "metadata": {},
   "outputs": [],
   "source": []
  }
 ],
 "metadata": {
  "kernelspec": {
   "display_name": "Python 3",
   "language": "python",
   "name": "python3"
  },
  "language_info": {
   "codemirror_mode": {
    "name": "ipython",
    "version": 3
   },
   "file_extension": ".py",
   "mimetype": "text/x-python",
   "name": "python",
   "nbconvert_exporter": "python",
   "pygments_lexer": "ipython3",
   "version": "3.8.8"
  }
 },
 "nbformat": 4,
 "nbformat_minor": 5
}
