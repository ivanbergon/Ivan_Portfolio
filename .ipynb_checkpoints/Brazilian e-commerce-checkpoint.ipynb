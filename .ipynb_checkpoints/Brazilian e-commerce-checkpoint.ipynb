{
 "cells": [
  {
   "cell_type": "markdown",
   "id": "833ae43e",
   "metadata": {},
   "source": [
    "# Brazilian public e-commerce dataset analysis\n",
    "\n",
    "## Project objectives:\n",
    "\n",
    "- Clustering the costumers\n",
    "- Predict future sales\n",
    "- Delivery performance analysis\n",
    "- Product quality\n",
    "- Feature engineering\n",
    "\n",
    "## Dataset context\n",
    "\n",
    "This dataset was obtained though [Kaggle public datasets](https://www.kaggle.com/olistbr/brazilian-ecommerce) and it was originally provided by Olist, the largest department store in Brazilian marketplaces. Olist connects small businesses from all over Brazil to channels without hassle and with a single contract. Those merchants are able to sell their products through the Olist Store and ship them directly to the customers using Olist logistics partners.\n",
    "\n",
    "After a customer purchases the product from Olist Store a seller gets notified to fulfill that order. Once the customer receives the product, or the estimated delivery date is due, the customer gets a satisfaction survey by email where he can give a note for the purchase experience and write down some comments.\n",
    "\n",
    "This is real commercial data, it has been anonymised, and references to the companies and partners in the review text have been replaced with the names of Game of Thrones great houses.\n",
    "\n",
    "The dataset has information of 100k orders from 2016 to 2018 made at multiple marketplaces in Brazil.\n",
    "\n",
    "\n",
    "### Data scheme\n",
    "![](https://i.imgur.com/HRhd2Y0.png)\n"
   ]
  },
  {
   "cell_type": "code",
   "execution_count": 8,
   "id": "e75b301d",
   "metadata": {},
   "outputs": [],
   "source": [
    "import pandas as pd"
   ]
  },
  {
   "cell_type": "markdown",
   "id": "07b36245",
   "metadata": {},
   "source": [
    "### Orders dataset\n",
    "olist_orders_dataset.csv\n",
    "\n",
    "This is the core dataset. From each order you might find all other information."
   ]
  },
  {
   "cell_type": "code",
   "execution_count": 9,
   "id": "a81da51f",
   "metadata": {
    "scrolled": true
   },
   "outputs": [
    {
     "name": "stdout",
     "output_type": "stream",
     "text": [
      "<class 'pandas.core.frame.DataFrame'>\n",
      "RangeIndex: 99441 entries, 0 to 99440\n",
      "Data columns (total 8 columns):\n",
      " #   Column                         Non-Null Count  Dtype \n",
      "---  ------                         --------------  ----- \n",
      " 0   order_id                       99441 non-null  object\n",
      " 1   customer_id                    99441 non-null  object\n",
      " 2   order_status                   99441 non-null  object\n",
      " 3   order_purchase_timestamp       99441 non-null  object\n",
      " 4   order_approved_at              99281 non-null  object\n",
      " 5   order_delivered_carrier_date   97658 non-null  object\n",
      " 6   order_delivered_customer_date  96476 non-null  object\n",
      " 7   order_estimated_delivery_date  99441 non-null  object\n",
      "dtypes: object(8)\n",
      "memory usage: 6.1+ MB\n"
     ]
    }
   ],
   "source": [
    "orders_datapath = \"D:\\Ivan\\Documentos\\Documentos - Outros\\Data Science\\Github\\Ivan_Portfolio\\database\\Brazilian e-commerce\\olist_orders_dataset.csv\"\n",
    "\n",
    "orders_data = pd.read_csv(orders_datapath)\n",
    "orders_data.info()"
   ]
  },
  {
   "cell_type": "markdown",
   "id": "e31e3527",
   "metadata": {},
   "source": [
    "order_approved_at has 160 null values\n",
    "\n",
    "order_delivered_carrier_date has 1783 null values\n",
    "\n",
    "order_delivered_customer_date has 2965 null values\n"
   ]
  },
  {
   "cell_type": "markdown",
   "id": "7c27deee",
   "metadata": {},
   "source": [
    "### Order payment dataset\n",
    "olist_order_payments_dataset.csv\n",
    "\n",
    "This dataset includes data about the orders payment options."
   ]
  },
  {
   "cell_type": "code",
   "execution_count": 10,
   "id": "9febf9c7",
   "metadata": {},
   "outputs": [
    {
     "name": "stdout",
     "output_type": "stream",
     "text": [
      "<class 'pandas.core.frame.DataFrame'>\n",
      "RangeIndex: 103886 entries, 0 to 103885\n",
      "Data columns (total 5 columns):\n",
      " #   Column                Non-Null Count   Dtype  \n",
      "---  ------                --------------   -----  \n",
      " 0   order_id              103886 non-null  object \n",
      " 1   payment_sequential    103886 non-null  int64  \n",
      " 2   payment_type          103886 non-null  object \n",
      " 3   payment_installments  103886 non-null  int64  \n",
      " 4   payment_value         103886 non-null  float64\n",
      "dtypes: float64(1), int64(2), object(2)\n",
      "memory usage: 4.0+ MB\n"
     ]
    }
   ],
   "source": [
    "order_payments_datapath = \"D:\\Ivan\\Documentos\\Documentos - Outros\\Data Science\\Github\\Ivan_Portfolio\\database\\Brazilian e-commerce\\olist_order_payments_dataset.csv\"\n",
    "\n",
    "order_payments_data = pd.read_csv(order_payments_datapath)\n",
    "order_payments_data.info()"
   ]
  },
  {
   "cell_type": "markdown",
   "id": "a4975f12",
   "metadata": {},
   "source": [
    "### Order reviews dataset\n",
    "olist_order_reviews_dataset.csv\n",
    "\n",
    "This dataset includes data about the reviews made by the customers.\n",
    "\n",
    "After a customer purchases the product from Olist Store a seller gets notified to fulfill that order. Once the customer receives the product, or the estimated delivery date is due, the customer gets a satisfaction survey by email where he can give a note for the purchase experience and write down some comments."
   ]
  },
  {
   "cell_type": "code",
   "execution_count": 11,
   "id": "19497711",
   "metadata": {},
   "outputs": [
    {
     "name": "stdout",
     "output_type": "stream",
     "text": [
      "<class 'pandas.core.frame.DataFrame'>\n",
      "RangeIndex: 100000 entries, 0 to 99999\n",
      "Data columns (total 7 columns):\n",
      " #   Column                   Non-Null Count   Dtype \n",
      "---  ------                   --------------   ----- \n",
      " 0   review_id                100000 non-null  object\n",
      " 1   order_id                 100000 non-null  object\n",
      " 2   review_score             100000 non-null  int64 \n",
      " 3   review_comment_title     11715 non-null   object\n",
      " 4   review_comment_message   41753 non-null   object\n",
      " 5   review_creation_date     100000 non-null  object\n",
      " 6   review_answer_timestamp  100000 non-null  object\n",
      "dtypes: int64(1), object(6)\n",
      "memory usage: 5.3+ MB\n"
     ]
    }
   ],
   "source": [
    "order_reviews_datapath = \"D:\\Ivan\\Documentos\\Documentos - Outros\\Data Science\\Github\\Ivan_Portfolio\\database\\Brazilian e-commerce\\olist_order_reviews_dataset.csv\"\n",
    "\n",
    "order_reviews_data = pd.read_csv(order_reviews_datapath)\n",
    "order_reviews_data.info()"
   ]
  },
  {
   "cell_type": "markdown",
   "id": "ab43320a",
   "metadata": {},
   "source": [
    "comment_title has 88285 null rows\n",
    "\n",
    "comment_message has 58247 null rows"
   ]
  },
  {
   "cell_type": "markdown",
   "id": "ac892770",
   "metadata": {},
   "source": [
    "### Customers dataset\n",
    "olist_customers_dataset.csv\n",
    "\n",
    "This dataset has information about the customer and its location. Use it to identify unique customers in the orders dataset and to find the orders delivery location.\n",
    "\n",
    "At our system each order is assigned to a unique customerid. "
   ]
  },
  {
   "cell_type": "code",
   "execution_count": 12,
   "id": "4125c1c2",
   "metadata": {
    "scrolled": true
   },
   "outputs": [
    {
     "name": "stdout",
     "output_type": "stream",
     "text": [
      "<class 'pandas.core.frame.DataFrame'>\n",
      "RangeIndex: 99441 entries, 0 to 99440\n",
      "Data columns (total 5 columns):\n",
      " #   Column                    Non-Null Count  Dtype \n",
      "---  ------                    --------------  ----- \n",
      " 0   customer_id               99441 non-null  object\n",
      " 1   customer_unique_id        99441 non-null  object\n",
      " 2   customer_zip_code_prefix  99441 non-null  int64 \n",
      " 3   customer_city             99441 non-null  object\n",
      " 4   customer_state            99441 non-null  object\n",
      "dtypes: int64(1), object(4)\n",
      "memory usage: 3.8+ MB\n"
     ]
    }
   ],
   "source": [
    "customers_datapath = \"D:\\Ivan\\Documentos\\Documentos - Outros\\Data Science\\Github\\Ivan_Portfolio\\database\\Brazilian e-commerce\\olist_customers_dataset.csv\"\n",
    "\n",
    "customer_data = pd.read_csv(customers_datapath)\n",
    "customer_data.info()"
   ]
  },
  {
   "cell_type": "markdown",
   "id": "5a5b43d9",
   "metadata": {},
   "source": [
    "### Order item dataset\n",
    "olist_order_items_dataset.csv\n",
    "\n",
    "This dataset includes data about the items purchased within each order."
   ]
  },
  {
   "cell_type": "code",
   "execution_count": 13,
   "id": "87b7fb52",
   "metadata": {
    "scrolled": true
   },
   "outputs": [
    {
     "name": "stdout",
     "output_type": "stream",
     "text": [
      "<class 'pandas.core.frame.DataFrame'>\n",
      "RangeIndex: 112650 entries, 0 to 112649\n",
      "Data columns (total 7 columns):\n",
      " #   Column               Non-Null Count   Dtype  \n",
      "---  ------               --------------   -----  \n",
      " 0   order_id             112650 non-null  object \n",
      " 1   order_item_id        112650 non-null  int64  \n",
      " 2   product_id           112650 non-null  object \n",
      " 3   seller_id            112650 non-null  object \n",
      " 4   shipping_limit_date  112650 non-null  object \n",
      " 5   price                112650 non-null  float64\n",
      " 6   freight_value        112650 non-null  float64\n",
      "dtypes: float64(2), int64(1), object(4)\n",
      "memory usage: 6.0+ MB\n"
     ]
    }
   ],
   "source": [
    "order_item_datapath = \"D:\\Ivan\\Documentos\\Documentos - Outros\\Data Science\\Github\\Ivan_Portfolio\\database\\Brazilian e-commerce\\olist_order_items_dataset.csv\"\n",
    "\n",
    "order_item_data = pd.read_csv(order_item_datapath)\n",
    "order_item_data.info()"
   ]
  },
  {
   "cell_type": "markdown",
   "id": "446c5c43",
   "metadata": {},
   "source": [
    "### Products dataset\n",
    "olist_products_dataset.csv\n",
    "\n",
    "This dataset includes data about the products sold by Olist.\n",
    "\n",
    "Please refer to the data schema:"
   ]
  },
  {
   "cell_type": "code",
   "execution_count": 14,
   "id": "aef6ea6f",
   "metadata": {
    "scrolled": false
   },
   "outputs": [
    {
     "name": "stdout",
     "output_type": "stream",
     "text": [
      "<class 'pandas.core.frame.DataFrame'>\n",
      "RangeIndex: 32951 entries, 0 to 32950\n",
      "Data columns (total 9 columns):\n",
      " #   Column                      Non-Null Count  Dtype  \n",
      "---  ------                      --------------  -----  \n",
      " 0   product_id                  32951 non-null  object \n",
      " 1   product_category_name       32341 non-null  object \n",
      " 2   product_name_lenght         32341 non-null  float64\n",
      " 3   product_description_lenght  32341 non-null  float64\n",
      " 4   product_photos_qty          32341 non-null  float64\n",
      " 5   product_weight_g            32949 non-null  float64\n",
      " 6   product_length_cm           32949 non-null  float64\n",
      " 7   product_height_cm           32949 non-null  float64\n",
      " 8   product_width_cm            32949 non-null  float64\n",
      "dtypes: float64(7), object(2)\n",
      "memory usage: 2.3+ MB\n"
     ]
    }
   ],
   "source": [
    "product_datapath = \"D:\\Ivan\\Documentos\\Documentos - Outros\\Data Science\\Github\\Ivan_Portfolio\\database\\Brazilian e-commerce\\olist_products_dataset.csv\"\n",
    "\n",
    "product_data = pd.read_csv(product_datapath)\n",
    "product_data.info()"
   ]
  },
  {
   "cell_type": "markdown",
   "id": "9ec38c50",
   "metadata": {},
   "source": [
    "Product name, description and photos have 610 missing rows each\n",
    "\n",
    "Product weight, lenght, height, width have 2 missing rows each"
   ]
  },
  {
   "cell_type": "markdown",
   "id": "0bd72fe9",
   "metadata": {},
   "source": [
    "### Sellers dataset\n",
    "olist_sellers_dataset.csv\n",
    "\n",
    "This dataset includes data about the sellers that fulfilled orders made at Olist. Use it to find the seller location and to identify which seller fulfilled each product."
   ]
  },
  {
   "cell_type": "code",
   "execution_count": 15,
   "id": "cb119c35",
   "metadata": {},
   "outputs": [
    {
     "name": "stdout",
     "output_type": "stream",
     "text": [
      "<class 'pandas.core.frame.DataFrame'>\n",
      "RangeIndex: 3095 entries, 0 to 3094\n",
      "Data columns (total 4 columns):\n",
      " #   Column                  Non-Null Count  Dtype \n",
      "---  ------                  --------------  ----- \n",
      " 0   seller_id               3095 non-null   object\n",
      " 1   seller_zip_code_prefix  3095 non-null   int64 \n",
      " 2   seller_city             3095 non-null   object\n",
      " 3   seller_state            3095 non-null   object\n",
      "dtypes: int64(1), object(3)\n",
      "memory usage: 96.8+ KB\n"
     ]
    }
   ],
   "source": [
    "sellers_datapath = \"D:\\Ivan\\Documentos\\Documentos - Outros\\Data Science\\Github\\Ivan_Portfolio\\database\\Brazilian e-commerce\\olist_sellers_dataset.csv\"\n",
    "\n",
    "sellers_data = pd.read_csv(sellers_datapath)\n",
    "sellers_data.info()"
   ]
  },
  {
   "cell_type": "markdown",
   "id": "16dc29ed",
   "metadata": {},
   "source": [
    "### Geolocation dataset\n",
    "olist_geolocation_dataset.csv\n",
    "\n",
    "This dataset has information Brazilian zip codes and its lat/lng coordinates. Use it to plot maps and find distances between sellers and customers."
   ]
  },
  {
   "cell_type": "code",
   "execution_count": 16,
   "id": "285a41eb",
   "metadata": {},
   "outputs": [
    {
     "name": "stdout",
     "output_type": "stream",
     "text": [
      "<class 'pandas.core.frame.DataFrame'>\n",
      "RangeIndex: 1000163 entries, 0 to 1000162\n",
      "Data columns (total 5 columns):\n",
      " #   Column                       Non-Null Count    Dtype  \n",
      "---  ------                       --------------    -----  \n",
      " 0   geolocation_zip_code_prefix  1000163 non-null  int64  \n",
      " 1   geolocation_lat              1000163 non-null  float64\n",
      " 2   geolocation_lng              1000163 non-null  float64\n",
      " 3   geolocation_city             1000163 non-null  object \n",
      " 4   geolocation_state            1000163 non-null  object \n",
      "dtypes: float64(2), int64(1), object(2)\n",
      "memory usage: 38.2+ MB\n"
     ]
    }
   ],
   "source": [
    "geolocation_datapath = \"D:\\Ivan\\Documentos\\Documentos - Outros\\Data Science\\Github\\Ivan_Portfolio\\database\\Brazilian e-commerce\\olist_geolocation_dataset.csv\"\n",
    "\n",
    "geolocation_data = pd.read_csv(geolocation_datapath)\n",
    "geolocation_data.info()"
   ]
  },
  {
   "cell_type": "code",
   "execution_count": null,
   "id": "383d57b7",
   "metadata": {},
   "outputs": [],
   "source": []
  }
 ],
 "metadata": {
  "kernelspec": {
   "display_name": "Python 3",
   "language": "python",
   "name": "python3"
  },
  "language_info": {
   "codemirror_mode": {
    "name": "ipython",
    "version": 3
   },
   "file_extension": ".py",
   "mimetype": "text/x-python",
   "name": "python",
   "nbconvert_exporter": "python",
   "pygments_lexer": "ipython3",
   "version": "3.8.8"
  }
 },
 "nbformat": 4,
 "nbformat_minor": 5
}
