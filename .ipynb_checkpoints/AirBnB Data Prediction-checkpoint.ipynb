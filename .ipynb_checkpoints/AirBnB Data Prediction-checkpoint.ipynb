{
 "cells": [
  {
   "cell_type": "markdown",
   "id": "398d8024",
   "metadata": {},
   "source": [
    "# AirBnB Room Type Prediction\n",
    "\n",
    "## Ivan Berlim Gonçalves\n",
    "\n",
    "Responda aos questionamentos que se segue:\n",
    "- Qual o processo utilizado para definir a sua estratégia de modelagem?\n",
    "\n",
    "\n",
    "Primeiramente analisei os tipos de dados do dataset para entender quais variáveis estavam disponíveis. Logo percebi que somente algumas variáveis eram realmente relevantes para chegar à variável de interesse `room_type`. Fiz a análise exploratória para entender as variáveis e percebi que teria que lidar com algumas variáveis categóricas e outras numéricas. Para as categóricas escolhi o método One Hot Encoding pois apesar de exigirem um pouco mais de poder computacional, apresentam melhores resultados junto ao modelo. Para as variáveis numéricas fiz uma análise de distribuição e escolhi dois métodos conforme a distribuição. Para a que demonstrou uma distribuição quase normal usei a normalização e para as que apresentaram distribuição caudal escolhi um tratamento que utilizasse uma escala logarítmica para melhor desempenho do modelo.\n",
    "Para a modelagem escolhi utilizar pipelines de dados pois são de fácil implementação e manipulação, entregando um ótimo desempenho. Como apresentação dos resultados escolhi uma `matriz de confusão` comparando os valores corretos e os valores previstos pelo modelo e a métrica `F1-Score` para avaliação final do modelo.\n",
    "\n",
    "\n",
    "- Qual o critério utilizado na seleção do modelo final?\n",
    "\n",
    "\n",
    "Dentre os modelos disponíveis de classificação multiclasse (`one vs one`, `one vs rest` e modelos que já são otimizados para a tarefa) escolhi utilizar o `Random Forest` pois já é um modelo otimizado para tarefas multiclasse e oferece um ótimo resultado para sua demanda computacional. Caso o `Random Forest` não apresentasse os resultados esperados iria tentar algum modelo binário utilizando a técnica one vs one. A escolha do modelo foi muito feliz e como previsto apresentou um resultado excelente - aproximadamente **98,5% de acurácia segundo a metodologia de validação** `F1-score`.\n",
    "\n",
    "\n",
    "- Você utilizou algum tipo de validação para o modelo? Se sim, qual o processo adotado? Por que escolheu utilizar este método?\n",
    "\n",
    "\n",
    "Utilizei 4 metodologias, a `ROC AUC`, `precisão`, `recall` e `F1-Score`. Escolhi a `F1-score` pois é mais apropriada para a classificação não balanceada, utiliza a `precisão` e o `recall` como base e por que é tem uma melhor interpretação de seu resultado.\n",
    "\n",
    "\n",
    "- Quais métricas lhe garantiu que o modelo que você desenvolveu é bom?\n",
    "\n",
    "\n",
    "Utilizei a métrica `F1-Score` que é a mais apropriada para os tipos de dados trabalhados, porém todas as outras métricas apresentaram resultados excelentes, acima de 98% "
   ]
  },
  {
   "cell_type": "code",
   "execution_count": null,
   "id": "f72114af",
   "metadata": {},
   "outputs": [],
   "source": []
  },
  {
   "cell_type": "markdown",
   "id": "cb50f1db",
   "metadata": {},
   "source": [
    "### Importando as bibliotecas"
   ]
  },
  {
   "cell_type": "code",
   "execution_count": 1,
   "id": "3425dbfb",
   "metadata": {},
   "outputs": [],
   "source": [
    "import numpy as np\n",
    "import pandas as pd\n",
    "import matplotlib.pyplot as plt\n",
    "import matplotlib.image as mpimg\n",
    "%matplotlib inline\n",
    "import seaborn as sns\n",
    "import urllib.request \n",
    "import gzip\n",
    "import shutil\n",
    "import requests\n",
    "import os\n",
    "from io import BytesIO\n",
    "from wordcloud import WordCloud\n",
    "from sklearn.model_selection import train_test_split\n",
    "from sklearn.compose import ColumnTransformer\n",
    "from sklearn.ensemble import RandomForestClassifier\n",
    "from sklearn.pipeline import Pipeline, make_pipeline\n",
    "from sklearn.preprocessing import (OneHotEncoder, PowerTransformer, StandardScaler)\n",
    "from sklearn.metrics import ConfusionMatrixDisplay, confusion_matrix\n",
    "from sklearn.metrics import roc_auc_score\n",
    "from sklearn.metrics import classification_report\n",
    "from sklearn.metrics import make_scorer\n",
    "from sklearn.experimental import enable_halving_search_cv\n",
    "from sklearn.model_selection import HalvingRandomSearchCV\n",
    "from sklearn.metrics import f1_score"
   ]
  },
  {
   "cell_type": "markdown",
   "id": "fde8c660",
   "metadata": {},
   "source": [
    "### Download, extração, leitura do arquivo e Análise Exploratória"
   ]
  },
  {
   "cell_type": "code",
   "execution_count": 2,
   "id": "d29a9d8c",
   "metadata": {},
   "outputs": [
    {
     "name": "stdout",
     "output_type": "stream",
     "text": [
      "Arquivo já baixado e extraído\n"
     ]
    }
   ],
   "source": [
    "# Download do arquivo listings.csv.gz\n",
    "if os.path.isfile('listings.csv'):\n",
    "    print('Arquivo já baixado e extraído')\n",
    "else:\n",
    "    url = \"http://data.insideairbnb.com/brazil/rj/rio-de-janeiro/2021-07-17/data/listings.csv.gz\"\n",
    "    r = requests.get(url, allow_redirects=True)\n",
    "    open('listings.csv.gz', 'wb').write(r.content)\n",
    "\n",
    "# Descompactando o arquivo para listings.csv\n",
    "    with gzip.open('listings.csv.gz', 'rb') as f_in:\n",
    "        with open('listings.csv', 'wb') as f_out:\n",
    "            shutil.copyfileobj(f_in, f_out)"
   ]
  },
  {
   "cell_type": "code",
   "execution_count": 3,
   "id": "9f65bdf3",
   "metadata": {},
   "outputs": [
    {
     "data": {
      "text/html": [
       "<div>\n",
       "<style scoped>\n",
       "    .dataframe tbody tr th:only-of-type {\n",
       "        vertical-align: middle;\n",
       "    }\n",
       "\n",
       "    .dataframe tbody tr th {\n",
       "        vertical-align: top;\n",
       "    }\n",
       "\n",
       "    .dataframe thead th {\n",
       "        text-align: right;\n",
       "    }\n",
       "</style>\n",
       "<table border=\"1\" class=\"dataframe\">\n",
       "  <thead>\n",
       "    <tr style=\"text-align: right;\">\n",
       "      <th></th>\n",
       "      <th>id</th>\n",
       "      <th>listing_url</th>\n",
       "      <th>scrape_id</th>\n",
       "      <th>last_scraped</th>\n",
       "      <th>name</th>\n",
       "      <th>description</th>\n",
       "      <th>neighborhood_overview</th>\n",
       "      <th>picture_url</th>\n",
       "      <th>host_id</th>\n",
       "      <th>host_url</th>\n",
       "      <th>...</th>\n",
       "      <th>review_scores_communication</th>\n",
       "      <th>review_scores_location</th>\n",
       "      <th>review_scores_value</th>\n",
       "      <th>license</th>\n",
       "      <th>instant_bookable</th>\n",
       "      <th>calculated_host_listings_count</th>\n",
       "      <th>calculated_host_listings_count_entire_homes</th>\n",
       "      <th>calculated_host_listings_count_private_rooms</th>\n",
       "      <th>calculated_host_listings_count_shared_rooms</th>\n",
       "      <th>reviews_per_month</th>\n",
       "    </tr>\n",
       "  </thead>\n",
       "  <tbody>\n",
       "    <tr>\n",
       "      <th>0</th>\n",
       "      <td>17878</td>\n",
       "      <td>https://www.airbnb.com/rooms/17878</td>\n",
       "      <td>20210717121617</td>\n",
       "      <td>2021-07-17</td>\n",
       "      <td>Very Nice 2Br in Copacabana w. balcony, fast WiFi</td>\n",
       "      <td>Discounts for long term stays. &lt;br /&gt;- Large b...</td>\n",
       "      <td>This is the one of the bests spots in Rio. Bec...</td>\n",
       "      <td>https://a0.muscache.com/pictures/65320518/3069...</td>\n",
       "      <td>68997</td>\n",
       "      <td>https://www.airbnb.com/users/show/68997</td>\n",
       "      <td>...</td>\n",
       "      <td>4.9</td>\n",
       "      <td>4.76</td>\n",
       "      <td>4.65</td>\n",
       "      <td>NaN</td>\n",
       "      <td>t</td>\n",
       "      <td>1</td>\n",
       "      <td>1</td>\n",
       "      <td>0</td>\n",
       "      <td>0</td>\n",
       "      <td>2.11</td>\n",
       "    </tr>\n",
       "    <tr>\n",
       "      <th>1</th>\n",
       "      <td>24480</td>\n",
       "      <td>https://www.airbnb.com/rooms/24480</td>\n",
       "      <td>20210717121617</td>\n",
       "      <td>2021-07-17</td>\n",
       "      <td>Nice and cozy near Ipanema Beach</td>\n",
       "      <td>My studio is located in the best  of Ipanema. ...</td>\n",
       "      <td>The beach, the lagoon, Ipanema is a great loca...</td>\n",
       "      <td>https://a0.muscache.com/pictures/11955612/b28e...</td>\n",
       "      <td>99249</td>\n",
       "      <td>https://www.airbnb.com/users/show/99249</td>\n",
       "      <td>...</td>\n",
       "      <td>4.9</td>\n",
       "      <td>4.97</td>\n",
       "      <td>4.58</td>\n",
       "      <td>NaN</td>\n",
       "      <td>f</td>\n",
       "      <td>1</td>\n",
       "      <td>1</td>\n",
       "      <td>0</td>\n",
       "      <td>0</td>\n",
       "      <td>0.88</td>\n",
       "    </tr>\n",
       "    <tr>\n",
       "      <th>2</th>\n",
       "      <td>25026</td>\n",
       "      <td>https://www.airbnb.com/rooms/25026</td>\n",
       "      <td>20210717121617</td>\n",
       "      <td>2021-07-17</td>\n",
       "      <td>Beautiful Modern Decorated Studio in Copa</td>\n",
       "      <td>Our apartment is a little gem, everyone loves ...</td>\n",
       "      <td>Copacabana is a lively neighborhood and the ap...</td>\n",
       "      <td>https://a0.muscache.com/pictures/3003965/68ebb...</td>\n",
       "      <td>102840</td>\n",
       "      <td>https://www.airbnb.com/users/show/102840</td>\n",
       "      <td>...</td>\n",
       "      <td>4.9</td>\n",
       "      <td>4.81</td>\n",
       "      <td>4.56</td>\n",
       "      <td>NaN</td>\n",
       "      <td>f</td>\n",
       "      <td>2</td>\n",
       "      <td>2</td>\n",
       "      <td>0</td>\n",
       "      <td>0</td>\n",
       "      <td>1.89</td>\n",
       "    </tr>\n",
       "  </tbody>\n",
       "</table>\n",
       "<p>3 rows × 74 columns</p>\n",
       "</div>"
      ],
      "text/plain": [
       "      id                         listing_url       scrape_id last_scraped  \\\n",
       "0  17878  https://www.airbnb.com/rooms/17878  20210717121617   2021-07-17   \n",
       "1  24480  https://www.airbnb.com/rooms/24480  20210717121617   2021-07-17   \n",
       "2  25026  https://www.airbnb.com/rooms/25026  20210717121617   2021-07-17   \n",
       "\n",
       "                                                name  \\\n",
       "0  Very Nice 2Br in Copacabana w. balcony, fast WiFi   \n",
       "1                   Nice and cozy near Ipanema Beach   \n",
       "2          Beautiful Modern Decorated Studio in Copa   \n",
       "\n",
       "                                         description  \\\n",
       "0  Discounts for long term stays. <br />- Large b...   \n",
       "1  My studio is located in the best  of Ipanema. ...   \n",
       "2  Our apartment is a little gem, everyone loves ...   \n",
       "\n",
       "                               neighborhood_overview  \\\n",
       "0  This is the one of the bests spots in Rio. Bec...   \n",
       "1  The beach, the lagoon, Ipanema is a great loca...   \n",
       "2  Copacabana is a lively neighborhood and the ap...   \n",
       "\n",
       "                                         picture_url  host_id  \\\n",
       "0  https://a0.muscache.com/pictures/65320518/3069...    68997   \n",
       "1  https://a0.muscache.com/pictures/11955612/b28e...    99249   \n",
       "2  https://a0.muscache.com/pictures/3003965/68ebb...   102840   \n",
       "\n",
       "                                   host_url  ... review_scores_communication  \\\n",
       "0   https://www.airbnb.com/users/show/68997  ...                         4.9   \n",
       "1   https://www.airbnb.com/users/show/99249  ...                         4.9   \n",
       "2  https://www.airbnb.com/users/show/102840  ...                         4.9   \n",
       "\n",
       "  review_scores_location review_scores_value license instant_bookable  \\\n",
       "0                   4.76                4.65     NaN                t   \n",
       "1                   4.97                4.58     NaN                f   \n",
       "2                   4.81                4.56     NaN                f   \n",
       "\n",
       "  calculated_host_listings_count calculated_host_listings_count_entire_homes  \\\n",
       "0                              1                                           1   \n",
       "1                              1                                           1   \n",
       "2                              2                                           2   \n",
       "\n",
       "  calculated_host_listings_count_private_rooms  \\\n",
       "0                                            0   \n",
       "1                                            0   \n",
       "2                                            0   \n",
       "\n",
       "  calculated_host_listings_count_shared_rooms reviews_per_month  \n",
       "0                                           0              2.11  \n",
       "1                                           0              0.88  \n",
       "2                                           0              1.89  \n",
       "\n",
       "[3 rows x 74 columns]"
      ]
     },
     "execution_count": 3,
     "metadata": {},
     "output_type": "execute_result"
    }
   ],
   "source": [
    "# Usando a biblioteca pandas e a função 'read_csv' para ler o arquivo listing.csv\n",
    "df=pd.read_csv(\"listings.csv\")\n",
    "# Examinando o arquivo\n",
    "df.head(3)"
   ]
  },
  {
   "cell_type": "code",
   "execution_count": 4,
   "id": "c8897be1",
   "metadata": {},
   "outputs": [
    {
     "data": {
      "text/plain": [
       "(23635, 74)"
      ]
     },
     "execution_count": 4,
     "metadata": {},
     "output_type": "execute_result"
    }
   ],
   "source": [
    "# Tamanho do arquivo\n",
    "df.shape"
   ]
  },
  {
   "cell_type": "code",
   "execution_count": 5,
   "id": "e5fd094c",
   "metadata": {
    "scrolled": true
   },
   "outputs": [
    {
     "data": {
      "text/plain": [
       "Entire home/apt    17172\n",
       "Private room        5841\n",
       "Shared room          532\n",
       "Hotel room            90\n",
       "Name: room_type, dtype: int64"
      ]
     },
     "execution_count": 5,
     "metadata": {},
     "output_type": "execute_result"
    }
   ],
   "source": [
    "# Contagem de valores da variável de interesse\n",
    "df['room_type'].value_counts()"
   ]
  },
  {
   "cell_type": "code",
   "execution_count": 6,
   "id": "aa7c4805",
   "metadata": {},
   "outputs": [
    {
     "data": {
      "text/plain": [
       "Index(['id', 'listing_url', 'scrape_id', 'last_scraped', 'name', 'description',\n",
       "       'neighborhood_overview', 'picture_url', 'host_id', 'host_url',\n",
       "       'host_name', 'host_since', 'host_location', 'host_about',\n",
       "       'host_response_time', 'host_response_rate', 'host_acceptance_rate',\n",
       "       'host_is_superhost', 'host_thumbnail_url', 'host_picture_url',\n",
       "       'host_neighbourhood', 'host_listings_count',\n",
       "       'host_total_listings_count', 'host_verifications',\n",
       "       'host_has_profile_pic', 'host_identity_verified', 'neighbourhood',\n",
       "       'neighbourhood_cleansed', 'neighbourhood_group_cleansed', 'latitude',\n",
       "       'longitude', 'property_type', 'room_type', 'accommodates', 'bathrooms',\n",
       "       'bathrooms_text', 'bedrooms', 'beds', 'amenities', 'price',\n",
       "       'minimum_nights', 'maximum_nights', 'minimum_minimum_nights',\n",
       "       'maximum_minimum_nights', 'minimum_maximum_nights',\n",
       "       'maximum_maximum_nights', 'minimum_nights_avg_ntm',\n",
       "       'maximum_nights_avg_ntm', 'calendar_updated', 'has_availability',\n",
       "       'availability_30', 'availability_60', 'availability_90',\n",
       "       'availability_365', 'calendar_last_scraped', 'number_of_reviews',\n",
       "       'number_of_reviews_ltm', 'number_of_reviews_l30d', 'first_review',\n",
       "       'last_review', 'review_scores_rating', 'review_scores_accuracy',\n",
       "       'review_scores_cleanliness', 'review_scores_checkin',\n",
       "       'review_scores_communication', 'review_scores_location',\n",
       "       'review_scores_value', 'license', 'instant_bookable',\n",
       "       'calculated_host_listings_count',\n",
       "       'calculated_host_listings_count_entire_homes',\n",
       "       'calculated_host_listings_count_private_rooms',\n",
       "       'calculated_host_listings_count_shared_rooms', 'reviews_per_month'],\n",
       "      dtype='object')"
      ]
     },
     "execution_count": 6,
     "metadata": {},
     "output_type": "execute_result"
    }
   ],
   "source": [
    "# Colunas do dataframe\n",
    "df.columns"
   ]
  },
  {
   "cell_type": "code",
   "execution_count": 7,
   "id": "e81620a5",
   "metadata": {},
   "outputs": [
    {
     "data": {
      "text/plain": [
       "Text(0.5, 1.0, 'Tipo de acomodações')"
      ]
     },
     "execution_count": 7,
     "metadata": {},
     "output_type": "execute_result"
    },
    {
     "data": {
      "image/png": "[encoded data removed]",
      "text/plain": [
       "<Figure size 400x400 with 1 Axes>"
      ]
     },
     "metadata": {},
     "output_type": "display_data"
    }
   ],
   "source": [
    "# Plotando gráfico para verificar quantidade de valores únicos na variável room_type\n",
    "fig = plt.figure(figsize=(5,5), dpi=80)\n",
    "df['room_type'].value_counts().plot(kind='pie',  autopct='%1.0f%%', startangle=360, fontsize=13)\n",
    "plt.title(\"Tipo de acomodações\")"
   ]
  },
  {
   "cell_type": "markdown",
   "id": "509301ba",
   "metadata": {},
   "source": [
    "### Seleção de Atributos\n",
    "Entre 74 colunas, escolhi as que podem ter mais relação com o tipo de acomodação para prever a variável `room_type`"
   ]
  },
  {
   "cell_type": "code",
   "execution_count": 8,
   "id": "68d84bc7",
   "metadata": {},
   "outputs": [
    {
     "data": {
      "text/html": [
       "<div>\n",
       "<style scoped>\n",
       "    .dataframe tbody tr th:only-of-type {\n",
       "        vertical-align: middle;\n",
       "    }\n",
       "\n",
       "    .dataframe tbody tr th {\n",
       "        vertical-align: top;\n",
       "    }\n",
       "\n",
       "    .dataframe thead th {\n",
       "        text-align: right;\n",
       "    }\n",
       "</style>\n",
       "<table border=\"1\" class=\"dataframe\">\n",
       "  <thead>\n",
       "    <tr style=\"text-align: right;\">\n",
       "      <th></th>\n",
       "      <th>room_type</th>\n",
       "      <th>property_type</th>\n",
       "      <th>accommodates</th>\n",
       "      <th>bedrooms</th>\n",
       "      <th>beds</th>\n",
       "    </tr>\n",
       "  </thead>\n",
       "  <tbody>\n",
       "    <tr>\n",
       "      <th>0</th>\n",
       "      <td>Entire home/apt</td>\n",
       "      <td>Entire condominium</td>\n",
       "      <td>5</td>\n",
       "      <td>2.0</td>\n",
       "      <td>2.0</td>\n",
       "    </tr>\n",
       "    <tr>\n",
       "      <th>1</th>\n",
       "      <td>Entire home/apt</td>\n",
       "      <td>Entire apartment</td>\n",
       "      <td>2</td>\n",
       "      <td>1.0</td>\n",
       "      <td>1.0</td>\n",
       "    </tr>\n",
       "    <tr>\n",
       "      <th>2</th>\n",
       "      <td>Entire home/apt</td>\n",
       "      <td>Entire apartment</td>\n",
       "      <td>2</td>\n",
       "      <td>1.0</td>\n",
       "      <td>2.0</td>\n",
       "    </tr>\n",
       "    <tr>\n",
       "      <th>3</th>\n",
       "      <td>Entire home/apt</td>\n",
       "      <td>Entire apartment</td>\n",
       "      <td>2</td>\n",
       "      <td>1.0</td>\n",
       "      <td>1.0</td>\n",
       "    </tr>\n",
       "    <tr>\n",
       "      <th>4</th>\n",
       "      <td>Entire home/apt</td>\n",
       "      <td>Entire loft</td>\n",
       "      <td>2</td>\n",
       "      <td>1.0</td>\n",
       "      <td>1.0</td>\n",
       "    </tr>\n",
       "  </tbody>\n",
       "</table>\n",
       "</div>"
      ],
      "text/plain": [
       "         room_type       property_type  accommodates  bedrooms  beds\n",
       "0  Entire home/apt  Entire condominium             5       2.0   2.0\n",
       "1  Entire home/apt    Entire apartment             2       1.0   1.0\n",
       "2  Entire home/apt    Entire apartment             2       1.0   2.0\n",
       "3  Entire home/apt    Entire apartment             2       1.0   1.0\n",
       "4  Entire home/apt         Entire loft             2       1.0   1.0"
      ]
     },
     "execution_count": 8,
     "metadata": {},
     "output_type": "execute_result"
    }
   ],
   "source": [
    "# Criação do dataframe df1 com variáveis de interesse\n",
    "df1 = df[['room_type', 'property_type', 'accommodates', 'bedrooms', 'beds']].copy()\n",
    "df1.head()"
   ]
  },
  {
   "cell_type": "code",
   "execution_count": 9,
   "id": "e3e824ee",
   "metadata": {},
   "outputs": [
    {
     "data": {
      "text/plain": [
       "room_type           0\n",
       "property_type       0\n",
       "accommodates        0\n",
       "bedrooms         1581\n",
       "beds              228\n",
       "dtype: int64"
      ]
     },
     "execution_count": 9,
     "metadata": {},
     "output_type": "execute_result"
    }
   ],
   "source": [
    "# Verificação de valores nulos\n",
    "df1.isnull().sum()"
   ]
  },
  {
   "cell_type": "code",
   "execution_count": 10,
   "id": "a59837f2",
   "metadata": {},
   "outputs": [],
   "source": [
    "# Descarte de 1776 linhas com valores nulos (7,5% do dataset)\n",
    "df1 = df1.dropna()"
   ]
  },
  {
   "cell_type": "code",
   "execution_count": 11,
   "id": "6c82500e",
   "metadata": {},
   "outputs": [
    {
     "data": {
      "text/plain": [
       "room_type        0\n",
       "property_type    0\n",
       "accommodates     0\n",
       "bedrooms         0\n",
       "beds             0\n",
       "dtype: int64"
      ]
     },
     "execution_count": 11,
     "metadata": {},
     "output_type": "execute_result"
    }
   ],
   "source": [
    "# Verificação de valores nulos\n",
    "df1.isnull().sum()"
   ]
  },
  {
   "cell_type": "code",
   "execution_count": 12,
   "id": "f9ff884b",
   "metadata": {},
   "outputs": [
    {
     "data": {
      "text/plain": [
       "(21859, 5)"
      ]
     },
     "execution_count": 12,
     "metadata": {},
     "output_type": "execute_result"
    }
   ],
   "source": [
    "# Verificação do formato do dataset após exclusão das linhas com valores nulos\n",
    "df1.shape"
   ]
  },
  {
   "cell_type": "code",
   "execution_count": 13,
   "id": "0c537ce5",
   "metadata": {},
   "outputs": [
    {
     "data": {
      "text/plain": [
       "array([[<AxesSubplot:title={'center':'accommodates'}>,\n",
       "        <AxesSubplot:title={'center':'bedrooms'}>],\n",
       "       [<AxesSubplot:title={'center':'beds'}>, <AxesSubplot:>]],\n",
       "      dtype=object)"
      ]
     },
     "execution_count": 13,
     "metadata": {},
     "output_type": "execute_result"
    },
    {
     "data": {
      "image/png": "[encoded data removed]",
      "text/plain": [
       "<Figure size 1152x864 with 4 Axes>"
      ]
     },
     "metadata": {
      "needs_background": "light"
     },
     "output_type": "display_data"
    }
   ],
   "source": [
    "# Verificação da distribuição de valores quantitativos através do histograma\n",
    "df1.hist(figsize=(16, 12))"
   ]
  },
  {
   "cell_type": "markdown",
   "id": "6e261aca",
   "metadata": {},
   "source": [
    "As variáveis `Bedrooms` e `beds` apresentam distribuições skewed (enviesadas). Irei usar a transformação logaritmica em ambas para torna-las mais normalmente distribuídas. Para a variável `accommodations` uma simples padronização é suficiente."
   ]
  },
  {
   "cell_type": "code",
   "execution_count": 14,
   "id": "5526a265",
   "metadata": {},
   "outputs": [
    {
     "data": {
      "text/plain": [
       "<AxesSubplot:>"
      ]
     },
     "execution_count": 14,
     "metadata": {},
     "output_type": "execute_result"
    },
    {
     "data": {
      "image/png": "[encoded data removed]",
      "text/plain": [
       "<Figure size 432x288 with 1 Axes>"
      ]
     },
     "metadata": {
      "needs_background": "light"
     },
     "output_type": "display_data"
    }
   ],
   "source": [
    "# Distribuição pré tratamento das variáveis qualitativos\n",
    "df1.boxplot()"
   ]
  },
  {
   "cell_type": "code",
   "execution_count": 15,
   "id": "4fadd10a",
   "metadata": {},
   "outputs": [
    {
     "data": {
      "text/html": [
       "<div>\n",
       "<style scoped>\n",
       "    .dataframe tbody tr th:only-of-type {\n",
       "        vertical-align: middle;\n",
       "    }\n",
       "\n",
       "    .dataframe tbody tr th {\n",
       "        vertical-align: top;\n",
       "    }\n",
       "\n",
       "    .dataframe thead th {\n",
       "        text-align: right;\n",
       "    }\n",
       "</style>\n",
       "<table border=\"1\" class=\"dataframe\">\n",
       "  <thead>\n",
       "    <tr style=\"text-align: right;\">\n",
       "      <th></th>\n",
       "      <th>count</th>\n",
       "      <th>mean</th>\n",
       "      <th>std</th>\n",
       "      <th>min</th>\n",
       "      <th>25%</th>\n",
       "      <th>50%</th>\n",
       "      <th>75%</th>\n",
       "      <th>max</th>\n",
       "    </tr>\n",
       "  </thead>\n",
       "  <tbody>\n",
       "    <tr>\n",
       "      <th>accommodates</th>\n",
       "      <td>21859.0</td>\n",
       "      <td>4.23</td>\n",
       "      <td>2.52</td>\n",
       "      <td>1.0</td>\n",
       "      <td>2.0</td>\n",
       "      <td>4.0</td>\n",
       "      <td>6.0</td>\n",
       "      <td>16.0</td>\n",
       "    </tr>\n",
       "    <tr>\n",
       "      <th>bedrooms</th>\n",
       "      <td>21859.0</td>\n",
       "      <td>1.71</td>\n",
       "      <td>1.09</td>\n",
       "      <td>1.0</td>\n",
       "      <td>1.0</td>\n",
       "      <td>1.0</td>\n",
       "      <td>2.0</td>\n",
       "      <td>30.0</td>\n",
       "    </tr>\n",
       "    <tr>\n",
       "      <th>beds</th>\n",
       "      <td>21859.0</td>\n",
       "      <td>2.62</td>\n",
       "      <td>2.33</td>\n",
       "      <td>0.0</td>\n",
       "      <td>1.0</td>\n",
       "      <td>2.0</td>\n",
       "      <td>3.0</td>\n",
       "      <td>91.0</td>\n",
       "    </tr>\n",
       "  </tbody>\n",
       "</table>\n",
       "</div>"
      ],
      "text/plain": [
       "                count  mean   std  min  25%  50%  75%   max\n",
       "accommodates  21859.0  4.23  2.52  1.0  2.0  4.0  6.0  16.0\n",
       "bedrooms      21859.0  1.71  1.09  1.0  1.0  1.0  2.0  30.0\n",
       "beds          21859.0  2.62  2.33  0.0  1.0  2.0  3.0  91.0"
      ]
     },
     "execution_count": 15,
     "metadata": {},
     "output_type": "execute_result"
    }
   ],
   "source": [
    "# Estatísticas pré tratamento das variáveis qualitativas\n",
    "df1.describe().T.round(2)"
   ]
  },
  {
   "cell_type": "code",
   "execution_count": 16,
   "id": "df731cc4",
   "metadata": {
    "scrolled": false
   },
   "outputs": [
    {
     "data": {
      "text/plain": [
       "Entire apartment             12170\n",
       "Private room in apartment     3437\n",
       "Entire condominium            1287\n",
       "Private room in house         1054\n",
       "Entire house                   989\n",
       "                             ...  \n",
       "Private room in cabin            1\n",
       "Shared room in farm stay         1\n",
       "Yurt                             1\n",
       "Entire vacation home             1\n",
       "Shared room in townhouse         1\n",
       "Name: property_type, Length: 85, dtype: int64"
      ]
     },
     "execution_count": 16,
     "metadata": {},
     "output_type": "execute_result"
    }
   ],
   "source": [
    "# Soma dos valores únicos dentro da variável property_type\n",
    "df1['property_type'].value_counts()"
   ]
  },
  {
   "cell_type": "markdown",
   "id": "615b6278",
   "metadata": {},
   "source": [
    "### Pré-processamento e treinamento do modelo Random Forest"
   ]
  },
  {
   "cell_type": "code",
   "execution_count": 17,
   "id": "926bea93",
   "metadata": {},
   "outputs": [],
   "source": [
    "# Construção das variáveis dependentes e independentes\n",
    "X, y = df1.drop(\"room_type\", axis=1), df1[\"room_type\"].values.flatten()\n",
    "\n",
    "# Split de teste e treinamento (1/3 para teste e 2/3 para treinamento)\n",
    "X_train, X_test, y_train, y_test = train_test_split(\n",
    "    X, y, random_state=118, test_size=0.33, stratify=y\n",
    ")"
   ]
  },
  {
   "cell_type": "code",
   "execution_count": 18,
   "id": "5b18aee9",
   "metadata": {},
   "outputs": [],
   "source": [
    "# Construção do pré-processador categórico\n",
    "categorical_cols = X.select_dtypes(include=\"object\").columns.to_list()\n",
    "categorical_pipe = make_pipeline(\n",
    "    OneHotEncoder(sparse=False, handle_unknown=\"ignore\")\n",
    "  )\n",
    "\n",
    "# Construção do pré-processador numérico\n",
    "to_log = [\"bedrooms\", \"beds\"]\n",
    "to_scale = [\"accommodates\"]\n",
    "numeric_pipe_1 = make_pipeline(PowerTransformer())\n",
    "numeric_pipe_2 = make_pipeline(StandardScaler())\n",
    "\n",
    "# Construção do processador completo\n",
    "full = ColumnTransformer(\n",
    "    transformers=[\n",
    "        (\"categorical\", categorical_pipe, categorical_cols),\n",
    "        (\"power_transform\", numeric_pipe_1, to_log),\n",
    "        (\"standardization\", numeric_pipe_2, to_scale),\n",
    "    ]\n",
    ")\n",
    "\n",
    "# Pipeline final usando o modelo RandomForestClassifier\n",
    "pipeline = Pipeline(\n",
    "    steps=[\n",
    "        (\"preprocess\", full),\n",
    "        (\n",
    "            \"base\",\n",
    "            RandomForestClassifier(max_depth=13),\n",
    "        ),\n",
    "    ]\n",
    ")\n",
    "# Treinamento do modelo\n",
    "_ = pipeline.fit(X_train, y_train)"
   ]
  },
  {
   "cell_type": "code",
   "execution_count": 19,
   "id": "4ce97cf4",
   "metadata": {
    "scrolled": false
   },
   "outputs": [
    {
     "data": {
      "image/png": "[encoded data removed]",
      "text/plain": [
       "<Figure size 864x576 with 2 Axes>"
      ]
     },
     "metadata": {
      "needs_background": "light"
     },
     "output_type": "display_data"
    }
   ],
   "source": [
    "# Instrodução dos dados ao pipeline de pré-processamento e treinamento\n",
    "y_pred = pipeline.predict(X_test)\n",
    "\n",
    "# Plot da matriz de confusão\n",
    "fig, ax = plt.subplots(figsize=(12, 8))\n",
    "\n",
    "# Criação da matriz de confusão entre y de teste e y previsto pelo modelo\n",
    "cm = confusion_matrix(y_test, y_pred)\n",
    "cmp = ConfusionMatrixDisplay(cm, display_labels=pipeline.classes_)\n",
    "cmp.plot(ax=ax)\n",
    "\n",
    "plt.show();"
   ]
  },
  {
   "cell_type": "markdown",
   "id": "8a2da504",
   "metadata": {},
   "source": [
    "### Avaliação do modelo"
   ]
  },
  {
   "cell_type": "markdown",
   "id": "010b4abe",
   "metadata": {},
   "source": [
    "#### ROC AUC\n",
    "É usado principalmente quando queremos medir a performance do classificador para diferenciar cada classe. Isso significa que o ROC AUC é mais adequado para tarefas de classificações balanceadas.\n",
    "\n",
    "Como exemplo podemos pensar em 100 amostras: classe 1(45), classe 2(30, classe3(25). O Classificador One vs Rest cria 3 classificadores binários, 1 para cada classe e seus ROC AUC são 0.75, 0.68, 0.84 respectivamente. O processo `weighted` leva o imbalanceamento em consideração, atribuindo pesos às classes, somando os valores e dividindo pelo total de amostras. Por exemplo:\n",
    "\n",
    "ROC AUC (weighted): ((45 * 0.75) + (30 * 0.68) + (25 * 0.84)) / 100 = 0.7515\n",
    "\n",
    "O score ROC AUC somente é uma boa métrica para ver como o classificador se diferencia entre as classes. Um score alto não necessáriamente significa um modelo melhor."
   ]
  },
  {
   "cell_type": "code",
   "execution_count": 20,
   "id": "f2d0f7c4",
   "metadata": {},
   "outputs": [
    {
     "data": {
      "text/plain": [
       "0.999692781338696"
      ]
     },
     "execution_count": 20,
     "metadata": {},
     "output_type": "execute_result"
    }
   ],
   "source": [
    "# Generando scores com .predict_proba\n",
    "y_pred_probs = pipeline.predict_proba(X_test)\n",
    "\n",
    "# Calculo ROC_AUC\n",
    "roc_auc_score(\n",
    "    y_test, y_pred_probs, multi_class=\"ovr\", average=\"weighted\"\n",
    "  )"
   ]
  },
  {
   "cell_type": "code",
   "execution_count": 21,
   "id": "2a694ece",
   "metadata": {},
   "outputs": [
    {
     "data": {
      "text/plain": [
       "0.9997104465590175"
      ]
     },
     "execution_count": 21,
     "metadata": {},
     "output_type": "execute_result"
    }
   ],
   "source": [
    "# Gerando o ROC AUC em uma classe específica (Entire home/apt)\n",
    "\n",
    "# Achando um index ideal para a classe\n",
    "idx = np.where(pipeline.classes_ == \"Entire home/apt\")[0][0]\n",
    "\n",
    "# Sem necessidade de ajustar os parâmetros multiclasse e peso\n",
    "roc_auc_score(y_test == \"Entire home/apt\", y_pred_probs[:, idx])"
   ]
  },
  {
   "cell_type": "markdown",
   "id": "a7af7c17",
   "metadata": {},
   "source": [
    "### Precision, Recall e F1 Score"
   ]
  },
  {
   "cell_type": "markdown",
   "id": "6a188499",
   "metadata": {},
   "source": [
    "<img src=\"https://miro.medium.com/max/1488/1*XH-bmDiJ50rWfqBR82NOdQ.png\" alt=\"drawing\" width=\"450\"/>\n",
    "<img src=\"https://miro.medium.com/max/1336/1*KWZHeEuBGhDfw5CTE_PRfQ.png\" alt=\"drawing\" width=\"450\"/>\n",
    "<img src=\"https://miro.medium.com/max/1266/1*LmttOOk86tXBGlaC_73Xag.png\" alt=\"drawing\" width=\"450\"/>"
   ]
  },
  {
   "cell_type": "markdown",
   "id": "65b3e1f3",
   "metadata": {},
   "source": [
    "Uma melhor métrica para medir a performance do modelo seria usando a precisão, recall e F1 score. Para casos binários, são fáceis e intuitivos de entender. Para casos multiclasses as 3 métricas são calculadas para cada classe acidional.\n",
    "\n",
    "* A `precisão` nos diz qual a proporção de predições positivas que são realmente positivas.\n",
    "A `precisão` tenta responder a pergunta: Qual a proporção de identificações positivas estava realmente correta?\n",
    "* O `recall` é calculado de maneira similar, é a fração de instâncias relevantes que são recuperadas\n",
    "O `recall` tenta responder a pergunta: Qual a proporção de positivos verdadeiros foi identificada corretamente?\n",
    "* Já o `F1-Score` score combina o recall com a precisão de modo que tragam um único número."
   ]
  },
  {
   "cell_type": "code",
   "execution_count": 22,
   "id": "d7669925",
   "metadata": {
    "scrolled": true
   },
   "outputs": [
    {
     "name": "stdout",
     "output_type": "stream",
     "text": [
      "                 precision    recall  f1-score   support\n",
      "\n",
      "Entire home/apt       0.99      1.00      0.99      5177\n",
      "     Hotel room       1.00      0.04      0.08        24\n",
      "   Private room       0.98      0.98      0.98      1841\n",
      "    Shared room       1.00      0.81      0.90       172\n",
      "\n",
      "       accuracy                           0.99      7214\n",
      "      macro avg       0.99      0.71      0.74      7214\n",
      "   weighted avg       0.99      0.99      0.98      7214\n",
      "\n"
     ]
    }
   ],
   "source": [
    "# Precisão, recall e F1-Score\n",
    "print(classification_report(y_test, y_pred))"
   ]
  },
  {
   "cell_type": "markdown",
   "id": "05caf287",
   "metadata": {},
   "source": [
    "Devido a proporção de `Hotel Rooms`, as vezes ele não aparece nos dados de treino e então pode acontecer de suas métricas serem zero. Porém isto é um caso típico e normal que depende dos dados de treinamento. Por isto as vezes o `classification_report` pode acusar um aviso e atribuir zero a alguma variável.\n",
    "\n",
    "Dependendo do problema de negócio, podemos escolher uma métrica ou outra. No geral, para problemas de classificação desbalanceada, o F1-score é uma boa métrica, portanto iremos calcular seu valor para podermos ajustar os hiper parâmetros do modelo e incrementar sua acurácia."
   ]
  },
  {
   "cell_type": "code",
   "execution_count": 23,
   "id": "51a60f42",
   "metadata": {},
   "outputs": [
    {
     "data": {
      "text/plain": [
       "0.9839155699726553"
      ]
     },
     "execution_count": 23,
     "metadata": {},
     "output_type": "execute_result"
    }
   ],
   "source": [
    "# F1 usando pesos através de todas as classes\n",
    "f1_score(y_test, y_pred, average=\"weighted\")"
   ]
  },
  {
   "cell_type": "code",
   "execution_count": null,
   "id": "85878272",
   "metadata": {},
   "outputs": [],
   "source": []
  }
 ],
 "metadata": {
  "kernelspec": {
   "display_name": "Python 3",
   "language": "python",
   "name": "python3"
  },
  "language_info": {
   "codemirror_mode": {
    "name": "ipython",
    "version": 3
   },
   "file_extension": ".py",
   "mimetype": "text/x-python",
   "name": "python",
   "nbconvert_exporter": "python",
   "pygments_lexer": "ipython3",
   "version": "3.8.8"
  }
 },
 "nbformat": 4,
 "nbformat_minor": 5
}
